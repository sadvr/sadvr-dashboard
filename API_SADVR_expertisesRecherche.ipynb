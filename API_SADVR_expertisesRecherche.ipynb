{
 "cells": [
  {
   "cell_type": "markdown",
   "metadata": {},
   "source": [
    "### **API SADVR - Portrait statistique**  \n",
    "https://www.cen.umontreal.ca/espacedoc/sadvr/  \n",
    "\n",
    "Ce NoteBook est destiné à l'extraction et la visualisation de statistiques relatives aux professeur·e·s et à leurs expertises à partir de l'API de la vitrine de la recherche (SADVR). \n",
    "Celles-ci seront intégrées en un tableau de bord [PowerBI](https://wiki.umontreal.ca/display/SIE/Power+BI) permettant d'avoir un portrait d'ensemble des données.  \n",
    "\n",
    "---"
   ]
  },
  {
   "cell_type": "code",
   "execution_count": 2,
   "metadata": {},
   "outputs": [],
   "source": [
    "import pandas as pd\n",
    "from SADVR_utils import *\n",
    "import plotly.express as px\n",
    "import plotly.graph_objects as go\n",
    "from plotly.subplots import make_subplots\n",
    "from rdflib import *"
   ]
  },
  {
   "cell_type": "markdown",
   "metadata": {},
   "source": [
    "**Chargement des données**"
   ]
  },
  {
   "cell_type": "code",
   "execution_count": 3,
   "metadata": {},
   "outputs": [],
   "source": [
    "data = updateInfoProfs()"
   ]
  },
  {
   "cell_type": "markdown",
   "metadata": {},
   "source": [
    "**Expertises de recherche**\n",
    "\n",
    "- Affiliations (facultés, départements, établissements affiliés)\n",
    "- Disciplines\n",
    "- Secteur de recherche\n",
    "- Périodes chronologiques étudiées\n",
    "- Régions géographiques / pays étudiés"
   ]
  },
  {
   "cell_type": "code",
   "execution_count": 4,
   "metadata": {},
   "outputs": [],
   "source": [
    "expertises = data[['idsadvr', 'affiliations', 'etablissementsAffilies', 'expertise']]\n",
    "\n",
    "toNormalize = ['affiliations', 'etablissementsAffilies', 'expertise', 'expertise.secteursRecherche',\n",
    "                'expertise.disciplines', 'expertise.pays', 'expertise.continents', 'expertise.periodesChronologiques']\n",
    "\n",
    "for c in toNormalize:\n",
    "    expertises = explodeNormalize(expertises, c)\n",
    "\n",
    "drop = ['affiliations.courrielInstitutionnel', 'affiliations.immeuble', 'affiliations.fonction.codeSad', \n",
    "        'affiliations.fonction.nom', 'affiliations.local', 'affiliations.exclusion', 'affiliations.exclusionTel',\n",
    "        'affiliations.uniteAdministrative.codeSad', 'affiliations.uniteAdministrative.nom', 'affiliations.telephone.numero',\n",
    "        'affiliations.telephone.poste', 'expertise.phraseCle']\n",
    "\n",
    "expertises = expertises.drop(columns=drop)"
   ]
  },
  {
   "cell_type": "markdown",
   "metadata": {},
   "source": [
    "*Établissements affiliés*"
   ]
  },
  {
   "cell_type": "code",
   "execution_count": 5,
   "metadata": {},
   "outputs": [],
   "source": [
    "def groupEtablissements(etablissementNom : str) -> str : \n",
    "   return etablissementNom.split(' – ')[0]"
   ]
  },
  {
   "cell_type": "code",
   "execution_count": 6,
   "metadata": {},
   "outputs": [
    {
     "data": {
      "text/html": [
       "<div>\n",
       "<style scoped>\n",
       "    .dataframe tbody tr th:only-of-type {\n",
       "        vertical-align: middle;\n",
       "    }\n",
       "\n",
       "    .dataframe tbody tr th {\n",
       "        vertical-align: top;\n",
       "    }\n",
       "\n",
       "    .dataframe thead th {\n",
       "        text-align: right;\n",
       "    }\n",
       "</style>\n",
       "<table border=\"1\" class=\"dataframe\">\n",
       "  <thead>\n",
       "    <tr style=\"text-align: right;\">\n",
       "      <th></th>\n",
       "      <th>etablissementsAffilies.nom</th>\n",
       "      <th>count</th>\n",
       "    </tr>\n",
       "  </thead>\n",
       "  <tbody>\n",
       "    <tr>\n",
       "      <th>0</th>\n",
       "      <td>Centre hospitalier de l’Université de Montréal...</td>\n",
       "      <td>185</td>\n",
       "    </tr>\n",
       "    <tr>\n",
       "      <th>1</th>\n",
       "      <td>CIUSSS de l'Est-de-l'Île-de-Montréal</td>\n",
       "      <td>92</td>\n",
       "    </tr>\n",
       "    <tr>\n",
       "      <th>2</th>\n",
       "      <td>CIUSSS du Nord-de-l'Île-de-Montréal</td>\n",
       "      <td>83</td>\n",
       "    </tr>\n",
       "    <tr>\n",
       "      <th>3</th>\n",
       "      <td>Centre hospitalier universitaire Sainte-Justin...</td>\n",
       "      <td>77</td>\n",
       "    </tr>\n",
       "    <tr>\n",
       "      <th>4</th>\n",
       "      <td>CIUSSS du Centre-Sud-de-l’Île-de-Montréal</td>\n",
       "      <td>49</td>\n",
       "    </tr>\n",
       "    <tr>\n",
       "      <th>5</th>\n",
       "      <td>Institut de cardiologie de Montréal (ICM)</td>\n",
       "      <td>33</td>\n",
       "    </tr>\n",
       "    <tr>\n",
       "      <th>6</th>\n",
       "      <td>Institut de recherches cliniques de Montréal (...</td>\n",
       "      <td>20</td>\n",
       "    </tr>\n",
       "    <tr>\n",
       "      <th>7</th>\n",
       "      <td>CISSS de Laval</td>\n",
       "      <td>9</td>\n",
       "    </tr>\n",
       "    <tr>\n",
       "      <th>8</th>\n",
       "      <td>Institut Philippe-Pinel de Montréal (IPP)</td>\n",
       "      <td>8</td>\n",
       "    </tr>\n",
       "    <tr>\n",
       "      <th>9</th>\n",
       "      <td>Institut national de santé publique du Québec ...</td>\n",
       "      <td>7</td>\n",
       "    </tr>\n",
       "    <tr>\n",
       "      <th>10</th>\n",
       "      <td>Autre</td>\n",
       "      <td>22</td>\n",
       "    </tr>\n",
       "  </tbody>\n",
       "</table>\n",
       "</div>"
      ],
      "text/plain": [
       "                           etablissementsAffilies.nom  count\n",
       "0   Centre hospitalier de l’Université de Montréal...    185\n",
       "1                CIUSSS de l'Est-de-l'Île-de-Montréal     92\n",
       "2                 CIUSSS du Nord-de-l'Île-de-Montréal     83\n",
       "3   Centre hospitalier universitaire Sainte-Justin...     77\n",
       "4           CIUSSS du Centre-Sud-de-l’Île-de-Montréal     49\n",
       "5           Institut de cardiologie de Montréal (ICM)     33\n",
       "6   Institut de recherches cliniques de Montréal (...     20\n",
       "7                                      CISSS de Laval      9\n",
       "8           Institut Philippe-Pinel de Montréal (IPP)      8\n",
       "9   Institut national de santé publique du Québec ...      7\n",
       "10                                              Autre     22"
      ]
     },
     "execution_count": 6,
     "metadata": {},
     "output_type": "execute_result"
    }
   ],
   "source": [
    "# Etablissements affiliés\n",
    "etablissementsAffilies = expertises.dropna(subset='etablissementsAffilies.nom')\n",
    "etablissementsAffilies = etablissementsAffilies.drop_duplicates(subset=(['idsadvr', 'etablissementsAffilies.nom']))\n",
    "etablissementsAffilies.loc[:, 'etablissementsAffilies.nom'] = etablissementsAffilies['etablissementsAffilies.nom'].apply(lambda x : x.split(' – ')[0])\n",
    "etablissementsAffilies = pd.DataFrame(plotVariable(etablissementsAffilies, 'etablissementsAffilies.nom')).sort_values(by='count', ascending = False)\n",
    "etablissementsAffilies = groupOtherValues(etablissementsAffilies, 10).reset_index(drop=True)\n",
    "\n",
    "etablissementsAffilies"
   ]
  },
  {
   "cell_type": "code",
   "execution_count": 7,
   "metadata": {},
   "outputs": [
    {
     "data": {
      "application/vnd.plotly.v1+json": {
       "config": {
        "plotlyServerURL": "https://plot.ly"
       },
       "data": [
        {
         "domain": {
          "x": [
           0,
           1
          ],
          "y": [
           0,
           1
          ]
         },
         "hole": 0.6,
         "hovertemplate": "etablissementsAffilies.nom=%{label}<br>count=%{value}<extra></extra>",
         "labels": [
          "Centre hospitalier de l’Université de Montréal (CHUM)",
          "CIUSSS de l'Est-de-l'Île-de-Montréal",
          "CIUSSS du Nord-de-l'Île-de-Montréal",
          "Centre hospitalier universitaire Sainte-Justine (CHU Sainte-Justine)",
          "CIUSSS du Centre-Sud-de-l’Île-de-Montréal",
          "Institut de cardiologie de Montréal (ICM)",
          "Institut de recherches cliniques de Montréal (IRCM)",
          "CISSS de Laval",
          "Institut Philippe-Pinel de Montréal (IPP)",
          "Institut national de santé publique du Québec (INSPQ)",
          "Autre"
         ],
         "legendgroup": "",
         "name": "",
         "showlegend": true,
         "type": "pie",
         "values": [
          185,
          92,
          83,
          77,
          49,
          33,
          20,
          9,
          8,
          7,
          22
         ]
        }
       ],
       "layout": {
        "legend": {
         "tracegroupgap": 0
        },
        "template": {
         "data": {
          "bar": [
           {
            "error_x": {
             "color": "#2a3f5f"
            },
            "error_y": {
             "color": "#2a3f5f"
            },
            "marker": {
             "line": {
              "color": "#E5ECF6",
              "width": 0.5
             },
             "pattern": {
              "fillmode": "overlay",
              "size": 10,
              "solidity": 0.2
             }
            },
            "type": "bar"
           }
          ],
          "barpolar": [
           {
            "marker": {
             "line": {
              "color": "#E5ECF6",
              "width": 0.5
             },
             "pattern": {
              "fillmode": "overlay",
              "size": 10,
              "solidity": 0.2
             }
            },
            "type": "barpolar"
           }
          ],
          "carpet": [
           {
            "aaxis": {
             "endlinecolor": "#2a3f5f",
             "gridcolor": "white",
             "linecolor": "white",
             "minorgridcolor": "white",
             "startlinecolor": "#2a3f5f"
            },
            "baxis": {
             "endlinecolor": "#2a3f5f",
             "gridcolor": "white",
             "linecolor": "white",
             "minorgridcolor": "white",
             "startlinecolor": "#2a3f5f"
            },
            "type": "carpet"
           }
          ],
          "choropleth": [
           {
            "colorbar": {
             "outlinewidth": 0,
             "ticks": ""
            },
            "type": "choropleth"
           }
          ],
          "contour": [
           {
            "colorbar": {
             "outlinewidth": 0,
             "ticks": ""
            },
            "colorscale": [
             [
              0,
              "#0d0887"
             ],
             [
              0.1111111111111111,
              "#46039f"
             ],
             [
              0.2222222222222222,
              "#7201a8"
             ],
             [
              0.3333333333333333,
              "#9c179e"
             ],
             [
              0.4444444444444444,
              "#bd3786"
             ],
             [
              0.5555555555555556,
              "#d8576b"
             ],
             [
              0.6666666666666666,
              "#ed7953"
             ],
             [
              0.7777777777777778,
              "#fb9f3a"
             ],
             [
              0.8888888888888888,
              "#fdca26"
             ],
             [
              1,
              "#f0f921"
             ]
            ],
            "type": "contour"
           }
          ],
          "contourcarpet": [
           {
            "colorbar": {
             "outlinewidth": 0,
             "ticks": ""
            },
            "type": "contourcarpet"
           }
          ],
          "heatmap": [
           {
            "colorbar": {
             "outlinewidth": 0,
             "ticks": ""
            },
            "colorscale": [
             [
              0,
              "#0d0887"
             ],
             [
              0.1111111111111111,
              "#46039f"
             ],
             [
              0.2222222222222222,
              "#7201a8"
             ],
             [
              0.3333333333333333,
              "#9c179e"
             ],
             [
              0.4444444444444444,
              "#bd3786"
             ],
             [
              0.5555555555555556,
              "#d8576b"
             ],
             [
              0.6666666666666666,
              "#ed7953"
             ],
             [
              0.7777777777777778,
              "#fb9f3a"
             ],
             [
              0.8888888888888888,
              "#fdca26"
             ],
             [
              1,
              "#f0f921"
             ]
            ],
            "type": "heatmap"
           }
          ],
          "heatmapgl": [
           {
            "colorbar": {
             "outlinewidth": 0,
             "ticks": ""
            },
            "colorscale": [
             [
              0,
              "#0d0887"
             ],
             [
              0.1111111111111111,
              "#46039f"
             ],
             [
              0.2222222222222222,
              "#7201a8"
             ],
             [
              0.3333333333333333,
              "#9c179e"
             ],
             [
              0.4444444444444444,
              "#bd3786"
             ],
             [
              0.5555555555555556,
              "#d8576b"
             ],
             [
              0.6666666666666666,
              "#ed7953"
             ],
             [
              0.7777777777777778,
              "#fb9f3a"
             ],
             [
              0.8888888888888888,
              "#fdca26"
             ],
             [
              1,
              "#f0f921"
             ]
            ],
            "type": "heatmapgl"
           }
          ],
          "histogram": [
           {
            "marker": {
             "pattern": {
              "fillmode": "overlay",
              "size": 10,
              "solidity": 0.2
             }
            },
            "type": "histogram"
           }
          ],
          "histogram2d": [
           {
            "colorbar": {
             "outlinewidth": 0,
             "ticks": ""
            },
            "colorscale": [
             [
              0,
              "#0d0887"
             ],
             [
              0.1111111111111111,
              "#46039f"
             ],
             [
              0.2222222222222222,
              "#7201a8"
             ],
             [
              0.3333333333333333,
              "#9c179e"
             ],
             [
              0.4444444444444444,
              "#bd3786"
             ],
             [
              0.5555555555555556,
              "#d8576b"
             ],
             [
              0.6666666666666666,
              "#ed7953"
             ],
             [
              0.7777777777777778,
              "#fb9f3a"
             ],
             [
              0.8888888888888888,
              "#fdca26"
             ],
             [
              1,
              "#f0f921"
             ]
            ],
            "type": "histogram2d"
           }
          ],
          "histogram2dcontour": [
           {
            "colorbar": {
             "outlinewidth": 0,
             "ticks": ""
            },
            "colorscale": [
             [
              0,
              "#0d0887"
             ],
             [
              0.1111111111111111,
              "#46039f"
             ],
             [
              0.2222222222222222,
              "#7201a8"
             ],
             [
              0.3333333333333333,
              "#9c179e"
             ],
             [
              0.4444444444444444,
              "#bd3786"
             ],
             [
              0.5555555555555556,
              "#d8576b"
             ],
             [
              0.6666666666666666,
              "#ed7953"
             ],
             [
              0.7777777777777778,
              "#fb9f3a"
             ],
             [
              0.8888888888888888,
              "#fdca26"
             ],
             [
              1,
              "#f0f921"
             ]
            ],
            "type": "histogram2dcontour"
           }
          ],
          "mesh3d": [
           {
            "colorbar": {
             "outlinewidth": 0,
             "ticks": ""
            },
            "type": "mesh3d"
           }
          ],
          "parcoords": [
           {
            "line": {
             "colorbar": {
              "outlinewidth": 0,
              "ticks": ""
             }
            },
            "type": "parcoords"
           }
          ],
          "pie": [
           {
            "automargin": true,
            "type": "pie"
           }
          ],
          "scatter": [
           {
            "fillpattern": {
             "fillmode": "overlay",
             "size": 10,
             "solidity": 0.2
            },
            "type": "scatter"
           }
          ],
          "scatter3d": [
           {
            "line": {
             "colorbar": {
              "outlinewidth": 0,
              "ticks": ""
             }
            },
            "marker": {
             "colorbar": {
              "outlinewidth": 0,
              "ticks": ""
             }
            },
            "type": "scatter3d"
           }
          ],
          "scattercarpet": [
           {
            "marker": {
             "colorbar": {
              "outlinewidth": 0,
              "ticks": ""
             }
            },
            "type": "scattercarpet"
           }
          ],
          "scattergeo": [
           {
            "marker": {
             "colorbar": {
              "outlinewidth": 0,
              "ticks": ""
             }
            },
            "type": "scattergeo"
           }
          ],
          "scattergl": [
           {
            "marker": {
             "colorbar": {
              "outlinewidth": 0,
              "ticks": ""
             }
            },
            "type": "scattergl"
           }
          ],
          "scattermapbox": [
           {
            "marker": {
             "colorbar": {
              "outlinewidth": 0,
              "ticks": ""
             }
            },
            "type": "scattermapbox"
           }
          ],
          "scatterpolar": [
           {
            "marker": {
             "colorbar": {
              "outlinewidth": 0,
              "ticks": ""
             }
            },
            "type": "scatterpolar"
           }
          ],
          "scatterpolargl": [
           {
            "marker": {
             "colorbar": {
              "outlinewidth": 0,
              "ticks": ""
             }
            },
            "type": "scatterpolargl"
           }
          ],
          "scatterternary": [
           {
            "marker": {
             "colorbar": {
              "outlinewidth": 0,
              "ticks": ""
             }
            },
            "type": "scatterternary"
           }
          ],
          "surface": [
           {
            "colorbar": {
             "outlinewidth": 0,
             "ticks": ""
            },
            "colorscale": [
             [
              0,
              "#0d0887"
             ],
             [
              0.1111111111111111,
              "#46039f"
             ],
             [
              0.2222222222222222,
              "#7201a8"
             ],
             [
              0.3333333333333333,
              "#9c179e"
             ],
             [
              0.4444444444444444,
              "#bd3786"
             ],
             [
              0.5555555555555556,
              "#d8576b"
             ],
             [
              0.6666666666666666,
              "#ed7953"
             ],
             [
              0.7777777777777778,
              "#fb9f3a"
             ],
             [
              0.8888888888888888,
              "#fdca26"
             ],
             [
              1,
              "#f0f921"
             ]
            ],
            "type": "surface"
           }
          ],
          "table": [
           {
            "cells": {
             "fill": {
              "color": "#EBF0F8"
             },
             "line": {
              "color": "white"
             }
            },
            "header": {
             "fill": {
              "color": "#C8D4E3"
             },
             "line": {
              "color": "white"
             }
            },
            "type": "table"
           }
          ]
         },
         "layout": {
          "annotationdefaults": {
           "arrowcolor": "#2a3f5f",
           "arrowhead": 0,
           "arrowwidth": 1
          },
          "autotypenumbers": "strict",
          "coloraxis": {
           "colorbar": {
            "outlinewidth": 0,
            "ticks": ""
           }
          },
          "colorscale": {
           "diverging": [
            [
             0,
             "#8e0152"
            ],
            [
             0.1,
             "#c51b7d"
            ],
            [
             0.2,
             "#de77ae"
            ],
            [
             0.3,
             "#f1b6da"
            ],
            [
             0.4,
             "#fde0ef"
            ],
            [
             0.5,
             "#f7f7f7"
            ],
            [
             0.6,
             "#e6f5d0"
            ],
            [
             0.7,
             "#b8e186"
            ],
            [
             0.8,
             "#7fbc41"
            ],
            [
             0.9,
             "#4d9221"
            ],
            [
             1,
             "#276419"
            ]
           ],
           "sequential": [
            [
             0,
             "#0d0887"
            ],
            [
             0.1111111111111111,
             "#46039f"
            ],
            [
             0.2222222222222222,
             "#7201a8"
            ],
            [
             0.3333333333333333,
             "#9c179e"
            ],
            [
             0.4444444444444444,
             "#bd3786"
            ],
            [
             0.5555555555555556,
             "#d8576b"
            ],
            [
             0.6666666666666666,
             "#ed7953"
            ],
            [
             0.7777777777777778,
             "#fb9f3a"
            ],
            [
             0.8888888888888888,
             "#fdca26"
            ],
            [
             1,
             "#f0f921"
            ]
           ],
           "sequentialminus": [
            [
             0,
             "#0d0887"
            ],
            [
             0.1111111111111111,
             "#46039f"
            ],
            [
             0.2222222222222222,
             "#7201a8"
            ],
            [
             0.3333333333333333,
             "#9c179e"
            ],
            [
             0.4444444444444444,
             "#bd3786"
            ],
            [
             0.5555555555555556,
             "#d8576b"
            ],
            [
             0.6666666666666666,
             "#ed7953"
            ],
            [
             0.7777777777777778,
             "#fb9f3a"
            ],
            [
             0.8888888888888888,
             "#fdca26"
            ],
            [
             1,
             "#f0f921"
            ]
           ]
          },
          "colorway": [
           "#636efa",
           "#EF553B",
           "#00cc96",
           "#ab63fa",
           "#FFA15A",
           "#19d3f3",
           "#FF6692",
           "#B6E880",
           "#FF97FF",
           "#FECB52"
          ],
          "font": {
           "color": "#2a3f5f"
          },
          "geo": {
           "bgcolor": "white",
           "lakecolor": "white",
           "landcolor": "#E5ECF6",
           "showlakes": true,
           "showland": true,
           "subunitcolor": "white"
          },
          "hoverlabel": {
           "align": "left"
          },
          "hovermode": "closest",
          "mapbox": {
           "style": "light"
          },
          "paper_bgcolor": "white",
          "plot_bgcolor": "#E5ECF6",
          "polar": {
           "angularaxis": {
            "gridcolor": "white",
            "linecolor": "white",
            "ticks": ""
           },
           "bgcolor": "#E5ECF6",
           "radialaxis": {
            "gridcolor": "white",
            "linecolor": "white",
            "ticks": ""
           }
          },
          "scene": {
           "xaxis": {
            "backgroundcolor": "#E5ECF6",
            "gridcolor": "white",
            "gridwidth": 2,
            "linecolor": "white",
            "showbackground": true,
            "ticks": "",
            "zerolinecolor": "white"
           },
           "yaxis": {
            "backgroundcolor": "#E5ECF6",
            "gridcolor": "white",
            "gridwidth": 2,
            "linecolor": "white",
            "showbackground": true,
            "ticks": "",
            "zerolinecolor": "white"
           },
           "zaxis": {
            "backgroundcolor": "#E5ECF6",
            "gridcolor": "white",
            "gridwidth": 2,
            "linecolor": "white",
            "showbackground": true,
            "ticks": "",
            "zerolinecolor": "white"
           }
          },
          "shapedefaults": {
           "line": {
            "color": "#2a3f5f"
           }
          },
          "ternary": {
           "aaxis": {
            "gridcolor": "white",
            "linecolor": "white",
            "ticks": ""
           },
           "baxis": {
            "gridcolor": "white",
            "linecolor": "white",
            "ticks": ""
           },
           "bgcolor": "#E5ECF6",
           "caxis": {
            "gridcolor": "white",
            "linecolor": "white",
            "ticks": ""
           }
          },
          "title": {
           "x": 0.05
          },
          "xaxis": {
           "automargin": true,
           "gridcolor": "white",
           "linecolor": "white",
           "ticks": "",
           "title": {
            "standoff": 15
           },
           "zerolinecolor": "white",
           "zerolinewidth": 2
          },
          "yaxis": {
           "automargin": true,
           "gridcolor": "white",
           "linecolor": "white",
           "ticks": "",
           "title": {
            "standoff": 15
           },
           "zerolinecolor": "white",
           "zerolinewidth": 2
          }
         }
        },
        "title": {
         "text": "Nombre de professeurs par établissements affiliés"
        }
       }
      }
     },
     "metadata": {},
     "output_type": "display_data"
    }
   ],
   "source": [
    "px.pie(\n",
    "    etablissementsAffilies,\n",
    "    names = etablissementsAffilies['etablissementsAffilies.nom'],\n",
    "    values = etablissementsAffilies['count'],\n",
    "    hole = 0.6,\n",
    "    title = 'Nombre de professeurs par établissements affiliés'\n",
    ")"
   ]
  },
  {
   "cell_type": "markdown",
   "metadata": {},
   "source": [
    "**Facultés, départements et établissements affiliés**"
   ]
  },
  {
   "cell_type": "markdown",
   "metadata": {},
   "source": [
    "*Nombre de professeurs par facultés*"
   ]
  },
  {
   "cell_type": "code",
   "execution_count": 81,
   "metadata": {},
   "outputs": [
    {
     "ename": "OSError",
     "evalue": "Cannot save file into a non-existent directory: 'tables\\demographics'",
     "output_type": "error",
     "traceback": [
      "\u001b[1;31m---------------------------------------------------------------------------\u001b[0m",
      "\u001b[1;31mOSError\u001b[0m                                   Traceback (most recent call last)",
      "\u001b[1;32mc:\\Users\\camil\\OneDrive - Universite de Montreal\\CENR\\SADVR\\CENR__SADVR_Dashboard\\API_SADVR_expertisesRecherche.ipynb Cell 13\u001b[0m in \u001b[0;36m1\n\u001b[1;32m----> <a href='vscode-notebook-cell:/c%3A/Users/camil/OneDrive%20-%20Universite%20de%20Montreal/CENR/SADVR/CENR__SADVR_Dashboard/API_SADVR_expertisesRecherche.ipynb#X15sZmlsZQ%3D%3D?line=0'>1</a>\u001b[0m facultes \u001b[39m=\u001b[39m pd\u001b[39m.\u001b[39mDataFrame(plotVariable(expertises, \u001b[39m'\u001b[39;49m\u001b[39maffiliations.faculte.nom\u001b[39;49m\u001b[39m'\u001b[39;49m))[:\u001b[39m-\u001b[39m\u001b[39m2\u001b[39m]\u001b[39m.\u001b[39msort_values(by\u001b[39m=\u001b[39m\u001b[39m'\u001b[39m\u001b[39mcount\u001b[39m\u001b[39m'\u001b[39m)\n\u001b[0;32m      <a href='vscode-notebook-cell:/c%3A/Users/camil/OneDrive%20-%20Universite%20de%20Montreal/CENR/SADVR/CENR__SADVR_Dashboard/API_SADVR_expertisesRecherche.ipynb#X15sZmlsZQ%3D%3D?line=1'>2</a>\u001b[0m facultes\u001b[39m.\u001b[39mto_csv(\u001b[39m'\u001b[39m\u001b[39mtalbes/profsParFaculte.csv\u001b[39m\u001b[39m'\u001b[39m, index\u001b[39m=\u001b[39m\u001b[39mFalse\u001b[39;00m)\n\u001b[0;32m      <a href='vscode-notebook-cell:/c%3A/Users/camil/OneDrive%20-%20Universite%20de%20Montreal/CENR/SADVR/CENR__SADVR_Dashboard/API_SADVR_expertisesRecherche.ipynb#X15sZmlsZQ%3D%3D?line=3'>4</a>\u001b[0m px\u001b[39m.\u001b[39mpie(\n\u001b[0;32m      <a href='vscode-notebook-cell:/c%3A/Users/camil/OneDrive%20-%20Universite%20de%20Montreal/CENR/SADVR/CENR__SADVR_Dashboard/API_SADVR_expertisesRecherche.ipynb#X15sZmlsZQ%3D%3D?line=4'>5</a>\u001b[0m     facultes, \n\u001b[0;32m      <a href='vscode-notebook-cell:/c%3A/Users/camil/OneDrive%20-%20Universite%20de%20Montreal/CENR/SADVR/CENR__SADVR_Dashboard/API_SADVR_expertisesRecherche.ipynb#X15sZmlsZQ%3D%3D?line=5'>6</a>\u001b[0m     values\u001b[39m=\u001b[39m facultes[\u001b[39m'\u001b[39m\u001b[39mcount\u001b[39m\u001b[39m'\u001b[39m], \n\u001b[1;32m   (...)\u001b[0m\n\u001b[0;32m      <a href='vscode-notebook-cell:/c%3A/Users/camil/OneDrive%20-%20Universite%20de%20Montreal/CENR/SADVR/CENR__SADVR_Dashboard/API_SADVR_expertisesRecherche.ipynb#X15sZmlsZQ%3D%3D?line=8'>9</a>\u001b[0m     hole\u001b[39m=\u001b[39m\u001b[39m0.6\u001b[39m \n\u001b[0;32m     <a href='vscode-notebook-cell:/c%3A/Users/camil/OneDrive%20-%20Universite%20de%20Montreal/CENR/SADVR/CENR__SADVR_Dashboard/API_SADVR_expertisesRecherche.ipynb#X15sZmlsZQ%3D%3D?line=9'>10</a>\u001b[0m )\n",
      "File \u001b[1;32mc:\\Users\\camil\\OneDrive - Universite de Montreal\\CENR\\SADVR\\CENR__SADVR_Dashboard\\SADVR_utils.py:221\u001b[0m, in \u001b[0;36mplotVariable\u001b[1;34m(df, variable, mapping)\u001b[0m\n\u001b[0;32m    218\u001b[0m     labels \u001b[39m=\u001b[39m frequences[variable]\u001b[39m.\u001b[39mmap(mapping)\u001b[39m.\u001b[39mtolist()\n\u001b[0;32m    219\u001b[0m     frequences[\u001b[39m'\u001b[39m\u001b[39mmapping\u001b[39m\u001b[39m'\u001b[39m] \u001b[39m=\u001b[39m frequences[variable]\u001b[39m.\u001b[39mmap(mapping)\n\u001b[1;32m--> 221\u001b[0m frequences\u001b[39m.\u001b[39;49mto_csv(\u001b[39mf\u001b[39;49m\u001b[39m'\u001b[39;49m\u001b[39mtables/demographics/\u001b[39;49m\u001b[39m{\u001b[39;49;00mvariable\u001b[39m}\u001b[39;49;00m\u001b[39m.csv\u001b[39;49m\u001b[39m'\u001b[39;49m, index\u001b[39m=\u001b[39;49m\u001b[39mFalse\u001b[39;49;00m)                \n\u001b[0;32m    223\u001b[0m values \u001b[39m=\u001b[39m frequences[\u001b[39m'\u001b[39m\u001b[39mcount\u001b[39m\u001b[39m'\u001b[39m]\u001b[39m.\u001b[39mtolist()\n\u001b[0;32m    225\u001b[0m \u001b[39m# output = {\u001b[39;00m\n\u001b[0;32m    226\u001b[0m \u001b[39m#     'labels': labels, \u001b[39;00m\n\u001b[0;32m    227\u001b[0m \u001b[39m#     'count': values,\u001b[39;00m\n\u001b[0;32m    228\u001b[0m \u001b[39m# }\u001b[39;00m\n\u001b[0;32m    229\u001b[0m \n\u001b[0;32m    230\u001b[0m \u001b[39m# return output\u001b[39;00m\n",
      "File \u001b[1;32mc:\\Users\\camil\\AppData\\Local\\Programs\\Python\\Python311\\Lib\\site-packages\\pandas\\core\\generic.py:3772\u001b[0m, in \u001b[0;36mNDFrame.to_csv\u001b[1;34m(self, path_or_buf, sep, na_rep, float_format, columns, header, index, index_label, mode, encoding, compression, quoting, quotechar, lineterminator, chunksize, date_format, doublequote, escapechar, decimal, errors, storage_options)\u001b[0m\n\u001b[0;32m   3761\u001b[0m df \u001b[39m=\u001b[39m \u001b[39mself\u001b[39m \u001b[39mif\u001b[39;00m \u001b[39misinstance\u001b[39m(\u001b[39mself\u001b[39m, ABCDataFrame) \u001b[39melse\u001b[39;00m \u001b[39mself\u001b[39m\u001b[39m.\u001b[39mto_frame()\n\u001b[0;32m   3763\u001b[0m formatter \u001b[39m=\u001b[39m DataFrameFormatter(\n\u001b[0;32m   3764\u001b[0m     frame\u001b[39m=\u001b[39mdf,\n\u001b[0;32m   3765\u001b[0m     header\u001b[39m=\u001b[39mheader,\n\u001b[1;32m   (...)\u001b[0m\n\u001b[0;32m   3769\u001b[0m     decimal\u001b[39m=\u001b[39mdecimal,\n\u001b[0;32m   3770\u001b[0m )\n\u001b[1;32m-> 3772\u001b[0m \u001b[39mreturn\u001b[39;00m DataFrameRenderer(formatter)\u001b[39m.\u001b[39;49mto_csv(\n\u001b[0;32m   3773\u001b[0m     path_or_buf,\n\u001b[0;32m   3774\u001b[0m     lineterminator\u001b[39m=\u001b[39;49mlineterminator,\n\u001b[0;32m   3775\u001b[0m     sep\u001b[39m=\u001b[39;49msep,\n\u001b[0;32m   3776\u001b[0m     encoding\u001b[39m=\u001b[39;49mencoding,\n\u001b[0;32m   3777\u001b[0m     errors\u001b[39m=\u001b[39;49merrors,\n\u001b[0;32m   3778\u001b[0m     compression\u001b[39m=\u001b[39;49mcompression,\n\u001b[0;32m   3779\u001b[0m     quoting\u001b[39m=\u001b[39;49mquoting,\n\u001b[0;32m   3780\u001b[0m     columns\u001b[39m=\u001b[39;49mcolumns,\n\u001b[0;32m   3781\u001b[0m     index_label\u001b[39m=\u001b[39;49mindex_label,\n\u001b[0;32m   3782\u001b[0m     mode\u001b[39m=\u001b[39;49mmode,\n\u001b[0;32m   3783\u001b[0m     chunksize\u001b[39m=\u001b[39;49mchunksize,\n\u001b[0;32m   3784\u001b[0m     quotechar\u001b[39m=\u001b[39;49mquotechar,\n\u001b[0;32m   3785\u001b[0m     date_format\u001b[39m=\u001b[39;49mdate_format,\n\u001b[0;32m   3786\u001b[0m     doublequote\u001b[39m=\u001b[39;49mdoublequote,\n\u001b[0;32m   3787\u001b[0m     escapechar\u001b[39m=\u001b[39;49mescapechar,\n\u001b[0;32m   3788\u001b[0m     storage_options\u001b[39m=\u001b[39;49mstorage_options,\n\u001b[0;32m   3789\u001b[0m )\n",
      "File \u001b[1;32mc:\\Users\\camil\\AppData\\Local\\Programs\\Python\\Python311\\Lib\\site-packages\\pandas\\io\\formats\\format.py:1186\u001b[0m, in \u001b[0;36mDataFrameRenderer.to_csv\u001b[1;34m(self, path_or_buf, encoding, sep, columns, index_label, mode, compression, quoting, quotechar, lineterminator, chunksize, date_format, doublequote, escapechar, errors, storage_options)\u001b[0m\n\u001b[0;32m   1165\u001b[0m     created_buffer \u001b[39m=\u001b[39m \u001b[39mFalse\u001b[39;00m\n\u001b[0;32m   1167\u001b[0m csv_formatter \u001b[39m=\u001b[39m CSVFormatter(\n\u001b[0;32m   1168\u001b[0m     path_or_buf\u001b[39m=\u001b[39mpath_or_buf,\n\u001b[0;32m   1169\u001b[0m     lineterminator\u001b[39m=\u001b[39mlineterminator,\n\u001b[1;32m   (...)\u001b[0m\n\u001b[0;32m   1184\u001b[0m     formatter\u001b[39m=\u001b[39m\u001b[39mself\u001b[39m\u001b[39m.\u001b[39mfmt,\n\u001b[0;32m   1185\u001b[0m )\n\u001b[1;32m-> 1186\u001b[0m csv_formatter\u001b[39m.\u001b[39;49msave()\n\u001b[0;32m   1188\u001b[0m \u001b[39mif\u001b[39;00m created_buffer:\n\u001b[0;32m   1189\u001b[0m     \u001b[39massert\u001b[39;00m \u001b[39misinstance\u001b[39m(path_or_buf, StringIO)\n",
      "File \u001b[1;32mc:\\Users\\camil\\AppData\\Local\\Programs\\Python\\Python311\\Lib\\site-packages\\pandas\\io\\formats\\csvs.py:240\u001b[0m, in \u001b[0;36mCSVFormatter.save\u001b[1;34m(self)\u001b[0m\n\u001b[0;32m    236\u001b[0m \u001b[39m\"\"\"\u001b[39;00m\n\u001b[0;32m    237\u001b[0m \u001b[39mCreate the writer & save.\u001b[39;00m\n\u001b[0;32m    238\u001b[0m \u001b[39m\"\"\"\u001b[39;00m\n\u001b[0;32m    239\u001b[0m \u001b[39m# apply compression and byte/text conversion\u001b[39;00m\n\u001b[1;32m--> 240\u001b[0m \u001b[39mwith\u001b[39;00m get_handle(\n\u001b[0;32m    241\u001b[0m     \u001b[39mself\u001b[39;49m\u001b[39m.\u001b[39;49mfilepath_or_buffer,\n\u001b[0;32m    242\u001b[0m     \u001b[39mself\u001b[39;49m\u001b[39m.\u001b[39;49mmode,\n\u001b[0;32m    243\u001b[0m     encoding\u001b[39m=\u001b[39;49m\u001b[39mself\u001b[39;49m\u001b[39m.\u001b[39;49mencoding,\n\u001b[0;32m    244\u001b[0m     errors\u001b[39m=\u001b[39;49m\u001b[39mself\u001b[39;49m\u001b[39m.\u001b[39;49merrors,\n\u001b[0;32m    245\u001b[0m     compression\u001b[39m=\u001b[39;49m\u001b[39mself\u001b[39;49m\u001b[39m.\u001b[39;49mcompression,\n\u001b[0;32m    246\u001b[0m     storage_options\u001b[39m=\u001b[39;49m\u001b[39mself\u001b[39;49m\u001b[39m.\u001b[39;49mstorage_options,\n\u001b[0;32m    247\u001b[0m ) \u001b[39mas\u001b[39;00m handles:\n\u001b[0;32m    248\u001b[0m     \u001b[39m# Note: self.encoding is irrelevant here\u001b[39;00m\n\u001b[0;32m    249\u001b[0m     \u001b[39mself\u001b[39m\u001b[39m.\u001b[39mwriter \u001b[39m=\u001b[39m csvlib\u001b[39m.\u001b[39mwriter(\n\u001b[0;32m    250\u001b[0m         handles\u001b[39m.\u001b[39mhandle,\n\u001b[0;32m    251\u001b[0m         lineterminator\u001b[39m=\u001b[39m\u001b[39mself\u001b[39m\u001b[39m.\u001b[39mlineterminator,\n\u001b[1;32m   (...)\u001b[0m\n\u001b[0;32m    256\u001b[0m         quotechar\u001b[39m=\u001b[39m\u001b[39mself\u001b[39m\u001b[39m.\u001b[39mquotechar,\n\u001b[0;32m    257\u001b[0m     )\n\u001b[0;32m    259\u001b[0m     \u001b[39mself\u001b[39m\u001b[39m.\u001b[39m_save()\n",
      "File \u001b[1;32mc:\\Users\\camil\\AppData\\Local\\Programs\\Python\\Python311\\Lib\\site-packages\\pandas\\io\\common.py:737\u001b[0m, in \u001b[0;36mget_handle\u001b[1;34m(path_or_buf, mode, encoding, compression, memory_map, is_text, errors, storage_options)\u001b[0m\n\u001b[0;32m    735\u001b[0m \u001b[39m# Only for write methods\u001b[39;00m\n\u001b[0;32m    736\u001b[0m \u001b[39mif\u001b[39;00m \u001b[39m\"\u001b[39m\u001b[39mr\u001b[39m\u001b[39m\"\u001b[39m \u001b[39mnot\u001b[39;00m \u001b[39min\u001b[39;00m mode \u001b[39mand\u001b[39;00m is_path:\n\u001b[1;32m--> 737\u001b[0m     check_parent_directory(\u001b[39mstr\u001b[39;49m(handle))\n\u001b[0;32m    739\u001b[0m \u001b[39mif\u001b[39;00m compression:\n\u001b[0;32m    740\u001b[0m     \u001b[39mif\u001b[39;00m compression \u001b[39m!=\u001b[39m \u001b[39m\"\u001b[39m\u001b[39mzstd\u001b[39m\u001b[39m\"\u001b[39m:\n\u001b[0;32m    741\u001b[0m         \u001b[39m# compression libraries do not like an explicit text-mode\u001b[39;00m\n",
      "File \u001b[1;32mc:\\Users\\camil\\AppData\\Local\\Programs\\Python\\Python311\\Lib\\site-packages\\pandas\\io\\common.py:600\u001b[0m, in \u001b[0;36mcheck_parent_directory\u001b[1;34m(path)\u001b[0m\n\u001b[0;32m    598\u001b[0m parent \u001b[39m=\u001b[39m Path(path)\u001b[39m.\u001b[39mparent\n\u001b[0;32m    599\u001b[0m \u001b[39mif\u001b[39;00m \u001b[39mnot\u001b[39;00m parent\u001b[39m.\u001b[39mis_dir():\n\u001b[1;32m--> 600\u001b[0m     \u001b[39mraise\u001b[39;00m \u001b[39mOSError\u001b[39;00m(\u001b[39mrf\u001b[39m\u001b[39m\"\u001b[39m\u001b[39mCannot save file into a non-existent directory: \u001b[39m\u001b[39m'\u001b[39m\u001b[39m{\u001b[39;00mparent\u001b[39m}\u001b[39;00m\u001b[39m'\u001b[39m\u001b[39m\"\u001b[39m)\n",
      "\u001b[1;31mOSError\u001b[0m: Cannot save file into a non-existent directory: 'tables\\demographics'"
     ]
    }
   ],
   "source": [
    "facultes = pd.DataFrame(plotVariable(expertises, 'affiliations.faculte.nom'))[:-2].sort_values(by='count')\n",
    "facultes.to_csv('tables/statistiques__expertisesRecherche/profsParFaculte.csv', index=False)\n",
    "\n",
    "px.pie(\n",
    "    facultes, \n",
    "    values= facultes['count'], \n",
    "    names= facultes['affiliations.faculte.nom'], \n",
    "    title='Nombre de professeur-e-s par facultés',\n",
    "    hole=0.6 \n",
    ")"
   ]
  },
  {
   "cell_type": "markdown",
   "metadata": {},
   "source": [
    "**Expertises de recherche: Principales disciplines de recherche par faculté**"
   ]
  },
  {
   "cell_type": "code",
   "execution_count": 16,
   "metadata": {},
   "outputs": [],
   "source": [
    "mappingDisciplines = pd.read_csv('tables/SADVR_disciplines.csv')\n",
    "mappingDisciplines = mappingDisciplines[mappingDisciplines['noms.codeLangue'] == 'fre']\n",
    "mappingDisciplines = {str(x['id']): x['noms.nom'] for x in mappingDisciplines.to_dict('records')}"
   ]
  },
  {
   "cell_type": "code",
   "execution_count": 79,
   "metadata": {},
   "outputs": [
    {
     "data": {
      "text/html": [
       "<div>\n",
       "<style scoped>\n",
       "    .dataframe tbody tr th:only-of-type {\n",
       "        vertical-align: middle;\n",
       "    }\n",
       "\n",
       "    .dataframe tbody tr th {\n",
       "        vertical-align: top;\n",
       "    }\n",
       "\n",
       "    .dataframe thead th {\n",
       "        text-align: right;\n",
       "    }\n",
       "</style>\n",
       "<table border=\"1\" class=\"dataframe\">\n",
       "  <thead>\n",
       "    <tr style=\"text-align: right;\">\n",
       "      <th></th>\n",
       "      <th>affiliations.faculte.nom</th>\n",
       "      <th>expertise.disciplines.nom</th>\n",
       "      <th>idsadvr</th>\n",
       "    </tr>\n",
       "  </thead>\n",
       "  <tbody>\n",
       "    <tr>\n",
       "      <th>0</th>\n",
       "      <td>Faculté de droit</td>\n",
       "      <td>Administration de la santé</td>\n",
       "      <td>1</td>\n",
       "    </tr>\n",
       "    <tr>\n",
       "      <th>1</th>\n",
       "      <td>Faculté de droit</td>\n",
       "      <td>Administration publique</td>\n",
       "      <td>2</td>\n",
       "    </tr>\n",
       "    <tr>\n",
       "      <th>2</th>\n",
       "      <td>Faculté de droit</td>\n",
       "      <td>Communication</td>\n",
       "      <td>3</td>\n",
       "    </tr>\n",
       "    <tr>\n",
       "      <th>3</th>\n",
       "      <td>Faculté de droit</td>\n",
       "      <td>Criminologie</td>\n",
       "      <td>1</td>\n",
       "    </tr>\n",
       "    <tr>\n",
       "      <th>4</th>\n",
       "      <td>Faculté de droit</td>\n",
       "      <td>Droit</td>\n",
       "      <td>71</td>\n",
       "    </tr>\n",
       "    <tr>\n",
       "      <th>...</th>\n",
       "      <td>...</td>\n",
       "      <td>...</td>\n",
       "      <td>...</td>\n",
       "    </tr>\n",
       "    <tr>\n",
       "      <th>654</th>\n",
       "      <td>École de santé publique</td>\n",
       "      <td>Toxicologie</td>\n",
       "      <td>6</td>\n",
       "    </tr>\n",
       "    <tr>\n",
       "      <th>655</th>\n",
       "      <td>École de santé publique</td>\n",
       "      <td>Économie</td>\n",
       "      <td>5</td>\n",
       "    </tr>\n",
       "    <tr>\n",
       "      <th>656</th>\n",
       "      <td>École de santé publique</td>\n",
       "      <td>Éducation</td>\n",
       "      <td>1</td>\n",
       "    </tr>\n",
       "    <tr>\n",
       "      <th>657</th>\n",
       "      <td>École de santé publique</td>\n",
       "      <td>Épidémiologie et biostatistique</td>\n",
       "      <td>51</td>\n",
       "    </tr>\n",
       "    <tr>\n",
       "      <th>658</th>\n",
       "      <td>École de santé publique</td>\n",
       "      <td>Études urbaines</td>\n",
       "      <td>1</td>\n",
       "    </tr>\n",
       "  </tbody>\n",
       "</table>\n",
       "<p>659 rows × 3 columns</p>\n",
       "</div>"
      ],
      "text/plain": [
       "    affiliations.faculte.nom        expertise.disciplines.nom  idsadvr\n",
       "0           Faculté de droit       Administration de la santé        1\n",
       "1           Faculté de droit          Administration publique        2\n",
       "2           Faculté de droit                    Communication        3\n",
       "3           Faculté de droit                     Criminologie        1\n",
       "4           Faculté de droit                            Droit       71\n",
       "..                       ...                              ...      ...\n",
       "654  École de santé publique                      Toxicologie        6\n",
       "655  École de santé publique                         Économie        5\n",
       "656  École de santé publique                        Éducation        1\n",
       "657  École de santé publique  Épidémiologie et biostatistique       51\n",
       "658  École de santé publique                  Études urbaines        1\n",
       "\n",
       "[659 rows x 3 columns]"
      ]
     },
     "execution_count": 79,
     "metadata": {},
     "output_type": "execute_result"
    }
   ],
   "source": [
    "disciplines = expertises[['idsadvr', 'affiliations.faculte.nom', 'expertise.disciplines.uid']].dropna(subset='expertise.disciplines.uid').drop_duplicates()\n",
    "disciplines['expertise.disciplines.nom'] = disciplines['expertise.disciplines.uid'].astype(str).map(mappingDisciplines)\n",
    "disciplines = disciplines.drop(columns='expertise.disciplines.uid')\n",
    "\n",
    "# Group by 'faculty' and 'discipline' and count the number of professors in each group\n",
    "faculty_discipline_counts = disciplines.groupby(['affiliations.faculte.nom', 'expertise.disciplines.nom'])['idsadvr'].count().reset_index()\n",
    "\n",
    "# Rename the 'id' column to 'professor_count' for clarity\n",
    "faculty_discipline_counts = faculty_discipline_counts.rename(columns={'id': 'professor_count'})\n",
    "\n",
    "faculty_discipline_counts.to_csv('tables/statistiques__expertisesRecherche/disciplinesParFaculte.csv', index=False)\n",
    "faculty_discipline_counts"
   ]
  },
  {
   "cell_type": "markdown",
   "metadata": {},
   "source": [
    "**Expertises de recherche: cartographie des expertises par mots-clés**\n",
    "\n",
    "- Mots-clés / Phases clés associés aux disciplines / facultés / départements de recherche \n",
    "\n",
    "Voir si on peut extraire un graphe et le visualiser"
   ]
  },
  {
   "cell_type": "markdown",
   "metadata": {},
   "source": [
    "*Disciplines*"
   ]
  },
  {
   "cell_type": "code",
   "execution_count": null,
   "metadata": {},
   "outputs": [
    {
     "data": {
      "text/html": [
       "<div>\n",
       "<style scoped>\n",
       "    .dataframe tbody tr th:only-of-type {\n",
       "        vertical-align: middle;\n",
       "    }\n",
       "\n",
       "    .dataframe tbody tr th {\n",
       "        vertical-align: top;\n",
       "    }\n",
       "\n",
       "    .dataframe thead th {\n",
       "        text-align: right;\n",
       "    }\n",
       "</style>\n",
       "<table border=\"1\" class=\"dataframe\">\n",
       "  <thead>\n",
       "    <tr style=\"text-align: right;\">\n",
       "      <th></th>\n",
       "      <th>idsadvr</th>\n",
       "      <th>expertise.motsCles</th>\n",
       "      <th>expertise.disciplines.uid</th>\n",
       "      <th>expertise.disciplines.codeLangue</th>\n",
       "      <th>expertise.disciplines.nom</th>\n",
       "      <th>expertise.disciplines.ordre</th>\n",
       "    </tr>\n",
       "  </thead>\n",
       "  <tbody>\n",
       "    <tr>\n",
       "      <th>0</th>\n",
       "      <td>in13580</td>\n",
       "      <td>[{'uid': '5', 'nom': 'Acides nucléiques', 'ord...</td>\n",
       "      <td>19</td>\n",
       "      <td>fre</td>\n",
       "      <td>Biochimie</td>\n",
       "      <td>2</td>\n",
       "    </tr>\n",
       "    <tr>\n",
       "      <th>1</th>\n",
       "      <td>in13580</td>\n",
       "      <td>[{'uid': '5', 'nom': 'Acides nucléiques', 'ord...</td>\n",
       "      <td>20</td>\n",
       "      <td>fre</td>\n",
       "      <td>Biologie cellulaire</td>\n",
       "      <td>1</td>\n",
       "    </tr>\n",
       "    <tr>\n",
       "      <th>2</th>\n",
       "      <td>in13580</td>\n",
       "      <td>[{'uid': '5', 'nom': 'Acides nucléiques', 'ord...</td>\n",
       "      <td>22</td>\n",
       "      <td>fre</td>\n",
       "      <td>Biologie moléculaire</td>\n",
       "      <td>3</td>\n",
       "    </tr>\n",
       "    <tr>\n",
       "      <th>3</th>\n",
       "      <td>in13580</td>\n",
       "      <td>[{'uid': '5', 'nom': 'Acides nucléiques', 'ord...</td>\n",
       "      <td>19</td>\n",
       "      <td>eng</td>\n",
       "      <td>Biochemistry</td>\n",
       "      <td>2</td>\n",
       "    </tr>\n",
       "    <tr>\n",
       "      <th>4</th>\n",
       "      <td>in13580</td>\n",
       "      <td>[{'uid': '5', 'nom': 'Acides nucléiques', 'ord...</td>\n",
       "      <td>20</td>\n",
       "      <td>eng</td>\n",
       "      <td>Cell Biology</td>\n",
       "      <td>1</td>\n",
       "    </tr>\n",
       "    <tr>\n",
       "      <th>...</th>\n",
       "      <td>...</td>\n",
       "      <td>...</td>\n",
       "      <td>...</td>\n",
       "      <td>...</td>\n",
       "      <td>...</td>\n",
       "      <td>...</td>\n",
       "    </tr>\n",
       "    <tr>\n",
       "      <th>285318</th>\n",
       "      <td>in35999</td>\n",
       "      <td>[{'uid': '2777', 'nom': 'Sécurité informatique...</td>\n",
       "      <td>77</td>\n",
       "      <td>eng</td>\n",
       "      <td>Computer Science</td>\n",
       "      <td>1</td>\n",
       "    </tr>\n",
       "    <tr>\n",
       "      <th>285319</th>\n",
       "      <td>in35999</td>\n",
       "      <td>[{'uid': '2777', 'nom': 'Sécurité informatique...</td>\n",
       "      <td>78</td>\n",
       "      <td>eng</td>\n",
       "      <td>Administrative Computing</td>\n",
       "      <td>2</td>\n",
       "    </tr>\n",
       "    <tr>\n",
       "      <th>285320</th>\n",
       "      <td>in35999</td>\n",
       "      <td>[{'uid': '2777', 'nom': 'Sécurité informatique...</td>\n",
       "      <td>83</td>\n",
       "      <td>eng</td>\n",
       "      <td>Management</td>\n",
       "      <td>3</td>\n",
       "    </tr>\n",
       "    <tr>\n",
       "      <th>285321</th>\n",
       "      <td>in35999</td>\n",
       "      <td>[{'uid': '2777', 'nom': 'Sécurité informatique...</td>\n",
       "      <td>86</td>\n",
       "      <td>eng</td>\n",
       "      <td>Pure Mathematics</td>\n",
       "      <td>4</td>\n",
       "    </tr>\n",
       "    <tr>\n",
       "      <th>285322</th>\n",
       "      <td>in36003</td>\n",
       "      <td>[]</td>\n",
       "      <td>NaN</td>\n",
       "      <td>NaN</td>\n",
       "      <td>NaN</td>\n",
       "      <td>NaN</td>\n",
       "    </tr>\n",
       "  </tbody>\n",
       "</table>\n",
       "<p>285323 rows × 6 columns</p>\n",
       "</div>"
      ],
      "text/plain": [
       "        idsadvr                                 expertise.motsCles   \n",
       "0       in13580  [{'uid': '5', 'nom': 'Acides nucléiques', 'ord...  \\\n",
       "1       in13580  [{'uid': '5', 'nom': 'Acides nucléiques', 'ord...   \n",
       "2       in13580  [{'uid': '5', 'nom': 'Acides nucléiques', 'ord...   \n",
       "3       in13580  [{'uid': '5', 'nom': 'Acides nucléiques', 'ord...   \n",
       "4       in13580  [{'uid': '5', 'nom': 'Acides nucléiques', 'ord...   \n",
       "...         ...                                                ...   \n",
       "285318  in35999  [{'uid': '2777', 'nom': 'Sécurité informatique...   \n",
       "285319  in35999  [{'uid': '2777', 'nom': 'Sécurité informatique...   \n",
       "285320  in35999  [{'uid': '2777', 'nom': 'Sécurité informatique...   \n",
       "285321  in35999  [{'uid': '2777', 'nom': 'Sécurité informatique...   \n",
       "285322  in36003                                                 []   \n",
       "\n",
       "       expertise.disciplines.uid expertise.disciplines.codeLangue   \n",
       "0                             19                              fre  \\\n",
       "1                             20                              fre   \n",
       "2                             22                              fre   \n",
       "3                             19                              eng   \n",
       "4                             20                              eng   \n",
       "...                          ...                              ...   \n",
       "285318                        77                              eng   \n",
       "285319                        78                              eng   \n",
       "285320                        83                              eng   \n",
       "285321                        86                              eng   \n",
       "285322                       NaN                              NaN   \n",
       "\n",
       "       expertise.disciplines.nom expertise.disciplines.ordre  \n",
       "0                      Biochimie                           2  \n",
       "1            Biologie cellulaire                           1  \n",
       "2           Biologie moléculaire                           3  \n",
       "3                   Biochemistry                           2  \n",
       "4                   Cell Biology                           1  \n",
       "...                          ...                         ...  \n",
       "285318          Computer Science                           1  \n",
       "285319  Administrative Computing                           2  \n",
       "285320                Management                           3  \n",
       "285321          Pure Mathematics                           4  \n",
       "285322                       NaN                         NaN  \n",
       "\n",
       "[285323 rows x 6 columns]"
      ]
     },
     "execution_count": 16,
     "metadata": {},
     "output_type": "execute_result"
    }
   ],
   "source": [
    "disciplines = expertises[[x for x in expertises.columns if 'discipline' in x or 'motsCles' in x or 'phraseCle' in x or x == 'idsadvr']]\n",
    "disciplines"
   ]
  },
  {
   "cell_type": "code",
   "execution_count": null,
   "metadata": {},
   "outputs": [
    {
     "data": {
      "text/html": [
       "<div>\n",
       "<style scoped>\n",
       "    .dataframe tbody tr th:only-of-type {\n",
       "        vertical-align: middle;\n",
       "    }\n",
       "\n",
       "    .dataframe tbody tr th {\n",
       "        vertical-align: top;\n",
       "    }\n",
       "\n",
       "    .dataframe thead th {\n",
       "        text-align: right;\n",
       "    }\n",
       "</style>\n",
       "<table border=\"1\" class=\"dataframe\">\n",
       "  <thead>\n",
       "    <tr style=\"text-align: right;\">\n",
       "      <th></th>\n",
       "      <th>expertise.disciplines.uid</th>\n",
       "      <th>count</th>\n",
       "      <th>mapping</th>\n",
       "    </tr>\n",
       "  </thead>\n",
       "  <tbody>\n",
       "    <tr>\n",
       "      <th>0</th>\n",
       "      <td>98</td>\n",
       "      <td>196</td>\n",
       "      <td>Neurosciences</td>\n",
       "    </tr>\n",
       "    <tr>\n",
       "      <th>1</th>\n",
       "      <td>133</td>\n",
       "      <td>194</td>\n",
       "      <td>Sociologie</td>\n",
       "    </tr>\n",
       "    <tr>\n",
       "      <th>2</th>\n",
       "      <td>121</td>\n",
       "      <td>180</td>\n",
       "      <td>Psychologie</td>\n",
       "    </tr>\n",
       "    <tr>\n",
       "      <th>3</th>\n",
       "      <td>22</td>\n",
       "      <td>179</td>\n",
       "      <td>Biologie moléculaire</td>\n",
       "    </tr>\n",
       "    <tr>\n",
       "      <th>4</th>\n",
       "      <td>155</td>\n",
       "      <td>167</td>\n",
       "      <td>Santé publique</td>\n",
       "    </tr>\n",
       "    <tr>\n",
       "      <th>...</th>\n",
       "      <td>...</td>\n",
       "      <td>...</td>\n",
       "      <td>...</td>\n",
       "    </tr>\n",
       "    <tr>\n",
       "      <th>201</th>\n",
       "      <td>200</td>\n",
       "      <td>1</td>\n",
       "      <td>Oncologie gynécologique</td>\n",
       "    </tr>\n",
       "    <tr>\n",
       "      <th>202</th>\n",
       "      <td>65</td>\n",
       "      <td>1</td>\n",
       "      <td>Génie industriel</td>\n",
       "    </tr>\n",
       "    <tr>\n",
       "      <th>203</th>\n",
       "      <td>194</td>\n",
       "      <td>1</td>\n",
       "      <td>Mycologie</td>\n",
       "    </tr>\n",
       "    <tr>\n",
       "      <th>204</th>\n",
       "      <td>219</td>\n",
       "      <td>1</td>\n",
       "      <td>Anatomie</td>\n",
       "    </tr>\n",
       "    <tr>\n",
       "      <th>205</th>\n",
       "      <td>165</td>\n",
       "      <td>1</td>\n",
       "      <td>Chirurgie thoracique</td>\n",
       "    </tr>\n",
       "  </tbody>\n",
       "</table>\n",
       "<p>206 rows × 3 columns</p>\n",
       "</div>"
      ],
      "text/plain": [
       "    expertise.disciplines.uid  count                  mapping\n",
       "0                          98    196            Neurosciences\n",
       "1                         133    194               Sociologie\n",
       "2                         121    180              Psychologie\n",
       "3                          22    179     Biologie moléculaire\n",
       "4                         155    167           Santé publique\n",
       "..                        ...    ...                      ...\n",
       "201                       200      1  Oncologie gynécologique\n",
       "202                        65      1         Génie industriel\n",
       "203                       194      1                Mycologie\n",
       "204                       219      1                 Anatomie\n",
       "205                       165      1     Chirurgie thoracique\n",
       "\n",
       "[206 rows x 3 columns]"
      ]
     },
     "execution_count": 55,
     "metadata": {},
     "output_type": "execute_result"
    }
   ],
   "source": [
    "freqDisciplines = pd.DataFrame(plotVariable(disciplines, 'expertise.disciplines.uid', mapping=mappingDisciplines))\n",
    "freqDisciplines"
   ]
  },
  {
   "cell_type": "code",
   "execution_count": null,
   "metadata": {},
   "outputs": [
    {
     "data": {
      "text/html": [
       "<div>\n",
       "<style scoped>\n",
       "    .dataframe tbody tr th:only-of-type {\n",
       "        vertical-align: middle;\n",
       "    }\n",
       "\n",
       "    .dataframe tbody tr th {\n",
       "        vertical-align: top;\n",
       "    }\n",
       "\n",
       "    .dataframe thead th {\n",
       "        text-align: right;\n",
       "    }\n",
       "</style>\n",
       "<table border=\"1\" class=\"dataframe\">\n",
       "  <thead>\n",
       "    <tr style=\"text-align: right;\">\n",
       "      <th></th>\n",
       "      <th>expertise.disciplines.uid</th>\n",
       "      <th>expertise.disciplines.nom</th>\n",
       "      <th>expertise.motsCles.uid</th>\n",
       "      <th>expertise.motsCles.nom</th>\n",
       "      <th>expertise.motsCles.ordre</th>\n",
       "      <th>expertise.motsCles.codeLangue</th>\n",
       "      <th>expertises.motCles.count</th>\n",
       "    </tr>\n",
       "  </thead>\n",
       "  <tbody>\n",
       "    <tr>\n",
       "      <th>0</th>\n",
       "      <td>98</td>\n",
       "      <td>Neurosciences</td>\n",
       "      <td>98</td>\n",
       "      <td>Communication neuronale et neurotransmission</td>\n",
       "      <td>2</td>\n",
       "      <td>fre</td>\n",
       "      <td>25</td>\n",
       "    </tr>\n",
       "    <tr>\n",
       "      <th>1</th>\n",
       "      <td>98</td>\n",
       "      <td>Neurosciences</td>\n",
       "      <td>95</td>\n",
       "      <td>Cognition</td>\n",
       "      <td>1</td>\n",
       "      <td>fre</td>\n",
       "      <td>17</td>\n",
       "    </tr>\n",
       "    <tr>\n",
       "      <th>2</th>\n",
       "      <td>98</td>\n",
       "      <td>Neurosciences</td>\n",
       "      <td>5386</td>\n",
       "      <td>Neuroscience cognitive</td>\n",
       "      <td>2</td>\n",
       "      <td>fre</td>\n",
       "      <td>16</td>\n",
       "    </tr>\n",
       "    <tr>\n",
       "      <th>3</th>\n",
       "      <td>98</td>\n",
       "      <td>Neurosciences</td>\n",
       "      <td>1</td>\n",
       "      <td>Activité locomotrice / troubles du mouvement</td>\n",
       "      <td>1</td>\n",
       "      <td>fre</td>\n",
       "      <td>12</td>\n",
       "    </tr>\n",
       "    <tr>\n",
       "      <th>4</th>\n",
       "      <td>98</td>\n",
       "      <td>Neurosciences</td>\n",
       "      <td>5348</td>\n",
       "      <td>Imagerie cérébrale</td>\n",
       "      <td>3</td>\n",
       "      <td>fre</td>\n",
       "      <td>12</td>\n",
       "    </tr>\n",
       "    <tr>\n",
       "      <th>...</th>\n",
       "      <td>...</td>\n",
       "      <td>...</td>\n",
       "      <td>...</td>\n",
       "      <td>...</td>\n",
       "      <td>...</td>\n",
       "      <td>...</td>\n",
       "      <td>...</td>\n",
       "    </tr>\n",
       "    <tr>\n",
       "      <th>349</th>\n",
       "      <td>98</td>\n",
       "      <td>Neurosciences</td>\n",
       "      <td>505</td>\n",
       "      <td>Syntaxe</td>\n",
       "      <td>4</td>\n",
       "      <td>fre</td>\n",
       "      <td>1</td>\n",
       "    </tr>\n",
       "    <tr>\n",
       "      <th>350</th>\n",
       "      <td>98</td>\n",
       "      <td>Neurosciences</td>\n",
       "      <td>575</td>\n",
       "      <td>Troubles du langage chez l'enfant</td>\n",
       "      <td>5</td>\n",
       "      <td>fre</td>\n",
       "      <td>1</td>\n",
       "    </tr>\n",
       "    <tr>\n",
       "      <th>351</th>\n",
       "      <td>98</td>\n",
       "      <td>Neurosciences</td>\n",
       "      <td>204</td>\n",
       "      <td>Famille et aidants naturels</td>\n",
       "      <td>3</td>\n",
       "      <td>fre</td>\n",
       "      <td>1</td>\n",
       "    </tr>\n",
       "    <tr>\n",
       "      <th>352</th>\n",
       "      <td>98</td>\n",
       "      <td>Neurosciences</td>\n",
       "      <td>199</td>\n",
       "      <td>Évolution et phylogénie</td>\n",
       "      <td>3</td>\n",
       "      <td>fre</td>\n",
       "      <td>1</td>\n",
       "    </tr>\n",
       "    <tr>\n",
       "      <th>353</th>\n",
       "      <td>98</td>\n",
       "      <td>Neurosciences</td>\n",
       "      <td>5283</td>\n",
       "      <td>Apprentissage</td>\n",
       "      <td>4</td>\n",
       "      <td>fre</td>\n",
       "      <td>1</td>\n",
       "    </tr>\n",
       "  </tbody>\n",
       "</table>\n",
       "<p>354 rows × 7 columns</p>\n",
       "</div>"
      ],
      "text/plain": [
       "    expertise.disciplines.uid expertise.disciplines.nom   \n",
       "0                          98             Neurosciences  \\\n",
       "1                          98             Neurosciences   \n",
       "2                          98             Neurosciences   \n",
       "3                          98             Neurosciences   \n",
       "4                          98             Neurosciences   \n",
       "..                        ...                       ...   \n",
       "349                        98             Neurosciences   \n",
       "350                        98             Neurosciences   \n",
       "351                        98             Neurosciences   \n",
       "352                        98             Neurosciences   \n",
       "353                        98             Neurosciences   \n",
       "\n",
       "    expertise.motsCles.uid                        expertise.motsCles.nom   \n",
       "0                       98  Communication neuronale et neurotransmission  \\\n",
       "1                       95                                     Cognition   \n",
       "2                     5386                        Neuroscience cognitive   \n",
       "3                        1  Activité locomotrice / troubles du mouvement   \n",
       "4                     5348                            Imagerie cérébrale   \n",
       "..                     ...                                           ...   \n",
       "349                    505                                       Syntaxe   \n",
       "350                    575             Troubles du langage chez l'enfant   \n",
       "351                    204                   Famille et aidants naturels   \n",
       "352                    199                       Évolution et phylogénie   \n",
       "353                   5283                                 Apprentissage   \n",
       "\n",
       "    expertise.motsCles.ordre expertise.motsCles.codeLangue   \n",
       "0                          2                           fre  \\\n",
       "1                          1                           fre   \n",
       "2                          2                           fre   \n",
       "3                          1                           fre   \n",
       "4                          3                           fre   \n",
       "..                       ...                           ...   \n",
       "349                        4                           fre   \n",
       "350                        5                           fre   \n",
       "351                        3                           fre   \n",
       "352                        3                           fre   \n",
       "353                        4                           fre   \n",
       "\n",
       "     expertises.motCles.count  \n",
       "0                          25  \n",
       "1                          17  \n",
       "2                          16  \n",
       "3                          12  \n",
       "4                          12  \n",
       "..                        ...  \n",
       "349                         1  \n",
       "350                         1  \n",
       "351                         1  \n",
       "352                         1  \n",
       "353                         1  \n",
       "\n",
       "[354 rows x 7 columns]"
      ]
     },
     "execution_count": 18,
     "metadata": {},
     "output_type": "execute_result"
    }
   ],
   "source": [
    "# 1 premier exemple: Neurosciences\n",
    "# Une fois que ça aura fonctionné pour une discipline, on va créer une fonction qui pourra le faire pour toutes les disciplines\n",
    "neuro = disciplines[disciplines['expertise.disciplines.uid'] == '98']\n",
    "neuro = explodeNormalize(neuro, 'expertise.motsCles')\n",
    "neuro = neuro.dropna(subset='expertise.motsCles.nom')\n",
    "neuro = neuro[neuro['expertise.motsCles.ordre'].astype(int) <= 5]\n",
    "\n",
    "neuro = neuro.drop_duplicates(subset=['idsadvr', 'expertise.motsCles.uid'])\n",
    "neuro = neuro [['idsadvr',\t'expertise.disciplines.uid', 'expertise.disciplines.nom', 'expertise.motsCles.uid',\n",
    "                'expertise.motsCles.nom',\t'expertise.motsCles.ordre',\t'expertise.motsCles.codeLangue']]\n",
    "\n",
    "freqMotsCles = plotVariable(neuro, 'expertise.motsCles.uid').to_dict('records')\n",
    "freqMotsCles = {x['expertise.motsCles.uid'] : x['count'] for x in freqMotsCles}\n",
    "\n",
    "neuro['expertises.motCles.count'] = neuro['expertise.motsCles.uid'].map(freqMotsCles)\n",
    "neuro = neuro.drop_duplicates(subset = ['expertise.motsCles.uid']).drop(columns='idsadvr')\n",
    "\n",
    "neuro = neuro.sort_values(by='expertises.motCles.count', ascending=False).reset_index(drop=True)\n",
    "neuro"
   ]
  },
  {
   "cell_type": "markdown",
   "metadata": {},
   "source": [
    "*On va essayer de créer un graphe avec*"
   ]
  },
  {
   "cell_type": "code",
   "execution_count": null,
   "metadata": {},
   "outputs": [],
   "source": [
    "graph = neuro[:30]\n",
    "listeMotsCles = graph.to_dict('records')\n",
    "\n",
    "idDiscipline = str(98)\n",
    "\n",
    "uriDisciplines = URIRef(f'{baseURI}/disciplines')\n",
    "uriDiscipline = URIRef(f'{baseURI}/disciplines/{idDiscipline}')\n",
    "uriCount = URIRef(f'{baseURI}/count')\n",
    "uriHasKW = URIRef(f'{baseURI}/hasKeyword')\n",
    "\n",
    "g = Graph()\n",
    "g.bind('sadvr', 'https://www.recherche.umontreal.ca/vitrine/rest/api/1.7/umontreal/')\n",
    "\n",
    "# Classe pour les disciplines\n",
    "g.add((uriDisciplines, RDF.type, OWL.Class))\n",
    "g.add((uriDisciplines, RDFS.label, Literal('Discipline', lang='fr')))\n",
    "\n",
    "# Classe et nom de la discipline (fr)\n",
    "g.add((uriDiscipline, RDF.type, uriDisciplines))\n",
    "g.add((uriDiscipline, RDF.type, OWL.Class))\n",
    "g.add((uriDiscipline, RDFS.label, Literal(mappingDisciplines[idDiscipline], lang='fr')))\n",
    "\n",
    "# Relations\n",
    "# keyWordCount\n",
    "g.add((uriCount, RDF.type, OWL.ObjectProperty))\n",
    "g.add((uriCount, RDFS.label, Literal('keywordCount', lang='en')))\n",
    "\n",
    "for kw in listeMotsCles:\n",
    "    id = kw['expertise.motsCles.uid']\n",
    "    uri = URIRef(f'{baseURI}/motsCles/{id}')\n",
    "    label = Literal(kw['expertise.motsCles.nom'])\n",
    "    compte = Literal(kw['expertises.motCles.count'], datatype=XSD.integer)\n",
    "\n",
    "    # Lien discipline <> mot-clé\n",
    "    g.add((uri, RDFS.subClassOf, uriDiscipline))\n",
    "\n",
    "    # Construction du noeud pour le mot-clé\n",
    "    g.add((uri, RDF.type, OWL.Class))\n",
    "    g.add((uri, RDFS.label, label))\n",
    "    g.add((uri, uriCount, compte))"
   ]
  },
  {
   "cell_type": "code",
   "execution_count": null,
   "metadata": {},
   "outputs": [
    {
     "data": {
      "text/plain": [
       "<Graph identifier=N3f3bc6de93e245d4a9a4409b5eda4950 (<class 'rdflib.graph.Graph'>)>"
      ]
     },
     "execution_count": 20,
     "metadata": {},
     "output_type": "execute_result"
    }
   ],
   "source": [
    "g.serialize('visualisations/graph_test_neurosciences.ttl', format='ttl')"
   ]
  },
  {
   "cell_type": "markdown",
   "metadata": {},
   "source": [
    "**Rayonnement académique**\n",
    "\n",
    "- Publications (Nombre de publications par Faculté - à travers le temps ? - format des notices peu standard)"
   ]
  }
 ],
 "metadata": {
  "kernelspec": {
   "display_name": "Python 3",
   "language": "python",
   "name": "python3"
  },
  "language_info": {
   "codemirror_mode": {
    "name": "ipython",
    "version": 3
   },
   "file_extension": ".py",
   "mimetype": "text/x-python",
   "name": "python",
   "nbconvert_exporter": "python",
   "pygments_lexer": "ipython3",
   "version": "3.11.4"
  },
  "orig_nbformat": 4
 },
 "nbformat": 4,
 "nbformat_minor": 2
}
