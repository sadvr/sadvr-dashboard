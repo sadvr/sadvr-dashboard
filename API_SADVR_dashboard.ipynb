{
 "cells": [
  {
   "cell_type": "markdown",
   "metadata": {},
   "source": [
    "### **API SADVR - Portrait statistique**  \n",
    "https://www.cen.umontreal.ca/espacedoc/sadvr/  \n",
    "\n",
    "Le Service d’accès aux données de la Vitrine-Recherche (SADVR) est un service institutionnel de partage de données relatives aux profils des professeur·e·s et à leurs activités académiques ainsi qu'aux expertises et disciplines de recherche des facultés, départements et centres de recherche affiliés à l'Université.\n",
    "\n",
    "---"
   ]
  },
  {
   "cell_type": "markdown",
   "metadata": {},
   "source": [
    "#### **Professeurs**"
   ]
  },
  {
   "cell_type": "code",
   "execution_count": 38,
   "metadata": {},
   "outputs": [],
   "source": [
    "import requests\n",
    "import json\n",
    "import pandas as pd\n",
    "from ast import literal_eval\n",
    "from collections import Counter\n",
    "import math\n",
    "from SADVR_infoIndividus import getInfoIndividus"
   ]
  },
  {
   "cell_type": "markdown",
   "metadata": {},
   "source": [
    "Import des données"
   ]
  },
  {
   "cell_type": "code",
   "execution_count": 35,
   "metadata": {},
   "outputs": [],
   "source": [
    "baseURI = 'https://www.recherche.umontreal.ca/vitrine/rest/api/1.7/umontreal'\n",
    "\n",
    "# uri id/individu\n",
    "uri = f'{baseURI}/id/individu'\n",
    "res = json.loads(requests.get(uri).text)\n",
    "dataIndividus = pd.DataFrame(res['data'])\n",
    "\n",
    "# requête SOLR dans le répertoire des professeurs\n",
    "index = 0\n",
    "res = json.loads(requests.get(f'{baseURI}/recherche/professeur/select?q=ID:*&start={index}').text)\n",
    "nbResults = res['paginationSOLR']['numFound']\n",
    "\n",
    "dataProfs = []\n",
    "for i in range(0, nbResults, 20):\n",
    "    res = json.loads(requests.get(\n",
    "        f'{baseURI}/recherche/professeur/select?q=ID:*&start={index}&rows=20'\n",
    "        ).text)['data']\n",
    "    \n",
    "    dataProfs += res\n",
    "    index += 20\n",
    "\n",
    "dataProfs = pd.DataFrame(dataProfs)\n",
    "\n",
    "# uri /info/individu\n",
    "ids_profs = dataProfs['idsadvr'].tolist()\n",
    "\n",
    "\n",
    "            \n",
    "#infoProfs = getInfoIndividus(ids_profs)"
   ]
  },
  {
   "cell_type": "code",
   "execution_count": 57,
   "metadata": {},
   "outputs": [
    {
     "data": {
      "text/plain": [
       "['in13602',\n",
       " 'in13603',\n",
       " 'in13604',\n",
       " 'in13605',\n",
       " 'in13606',\n",
       " 'in13608',\n",
       " 'in13609',\n",
       " 'in13610',\n",
       " 'in13611',\n",
       " 'in13614',\n",
       " 'in13615',\n",
       " 'in13616',\n",
       " 'in13617',\n",
       " 'in13618',\n",
       " 'in13619',\n",
       " 'in13620',\n",
       " 'in13621',\n",
       " 'in13622',\n",
       " 'in13623',\n",
       " 'in13626']"
      ]
     },
     "execution_count": 57,
     "metadata": {},
     "output_type": "execute_result"
    }
   ],
   "source": [
    "ids_profs[20:40]"
   ]
  },
  {
   "cell_type": "code",
   "execution_count": 72,
   "metadata": {},
   "outputs": [],
   "source": [
    "nb_batches = math.floor(len(ids_profs)/20)\n",
    "batches = []\n",
    "\n",
    "for i in range(nb_batches):\n",
    "    batch = []\n",
    "    for j in range(0, 20):\n",
    "        batch.append(f'idsadvr[{j}]=' + ids_profs[i])\n",
    "    \n",
    "    batch = \"&\".join(batch)\n",
    "    batches.append(batch)\n",
    "    "
   ]
  },
  {
   "cell_type": "code",
   "execution_count": 73,
   "metadata": {},
   "outputs": [
    {
     "data": {
      "text/plain": [
       "['idsadvr[0]=in13580&idsadvr[1]=in13581&idsadvr[2]=in13583&idsadvr[3]=in13584&idsadvr[4]=in13585&idsadvr[5]=in13586&idsadvr[6]=in13587&idsadvr[7]=in13588&idsadvr[8]=in13589&idsadvr[9]=in13590&idsadvr[10]=in13591&idsadvr[11]=in13592&idsadvr[12]=in13593&idsadvr[13]=in13594&idsadvr[14]=in13595&idsadvr[15]=in13596&idsadvr[16]=in13597&idsadvr[17]=in13598&idsadvr[18]=in13599&idsadvr[19]=in13601',\n",
       " 'idsadvr[0]=in13581&idsadvr[1]=in13583&idsadvr[2]=in13584&idsadvr[3]=in13585&idsadvr[4]=in13586&idsadvr[5]=in13587&idsadvr[6]=in13588&idsadvr[7]=in13589&idsadvr[8]=in13590&idsadvr[9]=in13591&idsadvr[10]=in13592&idsadvr[11]=in13593&idsadvr[12]=in13594&idsadvr[13]=in13595&idsadvr[14]=in13596&idsadvr[15]=in13597&idsadvr[16]=in13598&idsadvr[17]=in13599&idsadvr[18]=in13601&idsadvr[19]=in13602',\n",
       " 'idsadvr[0]=in13583&idsadvr[1]=in13584&idsadvr[2]=in13585&idsadvr[3]=in13586&idsadvr[4]=in13587&idsadvr[5]=in13588&idsadvr[6]=in13589&idsadvr[7]=in13590&idsadvr[8]=in13591&idsadvr[9]=in13592&idsadvr[10]=in13593&idsadvr[11]=in13594&idsadvr[12]=in13595&idsadvr[13]=in13596&idsadvr[14]=in13597&idsadvr[15]=in13598&idsadvr[16]=in13599&idsadvr[17]=in13601&idsadvr[18]=in13602&idsadvr[19]=in13603',\n",
       " 'idsadvr[0]=in13584&idsadvr[1]=in13585&idsadvr[2]=in13586&idsadvr[3]=in13587&idsadvr[4]=in13588&idsadvr[5]=in13589&idsadvr[6]=in13590&idsadvr[7]=in13591&idsadvr[8]=in13592&idsadvr[9]=in13593&idsadvr[10]=in13594&idsadvr[11]=in13595&idsadvr[12]=in13596&idsadvr[13]=in13597&idsadvr[14]=in13598&idsadvr[15]=in13599&idsadvr[16]=in13601&idsadvr[17]=in13602&idsadvr[18]=in13603&idsadvr[19]=in13604',\n",
       " 'idsadvr[0]=in13585&idsadvr[1]=in13586&idsadvr[2]=in13587&idsadvr[3]=in13588&idsadvr[4]=in13589&idsadvr[5]=in13590&idsadvr[6]=in13591&idsadvr[7]=in13592&idsadvr[8]=in13593&idsadvr[9]=in13594&idsadvr[10]=in13595&idsadvr[11]=in13596&idsadvr[12]=in13597&idsadvr[13]=in13598&idsadvr[14]=in13599&idsadvr[15]=in13601&idsadvr[16]=in13602&idsadvr[17]=in13603&idsadvr[18]=in13604&idsadvr[19]=in13605',\n",
       " 'idsadvr[0]=in13586&idsadvr[1]=in13587&idsadvr[2]=in13588&idsadvr[3]=in13589&idsadvr[4]=in13590&idsadvr[5]=in13591&idsadvr[6]=in13592&idsadvr[7]=in13593&idsadvr[8]=in13594&idsadvr[9]=in13595&idsadvr[10]=in13596&idsadvr[11]=in13597&idsadvr[12]=in13598&idsadvr[13]=in13599&idsadvr[14]=in13601&idsadvr[15]=in13602&idsadvr[16]=in13603&idsadvr[17]=in13604&idsadvr[18]=in13605&idsadvr[19]=in13606',\n",
       " 'idsadvr[0]=in13587&idsadvr[1]=in13588&idsadvr[2]=in13589&idsadvr[3]=in13590&idsadvr[4]=in13591&idsadvr[5]=in13592&idsadvr[6]=in13593&idsadvr[7]=in13594&idsadvr[8]=in13595&idsadvr[9]=in13596&idsadvr[10]=in13597&idsadvr[11]=in13598&idsadvr[12]=in13599&idsadvr[13]=in13601&idsadvr[14]=in13602&idsadvr[15]=in13603&idsadvr[16]=in13604&idsadvr[17]=in13605&idsadvr[18]=in13606&idsadvr[19]=in13608',\n",
       " 'idsadvr[0]=in13588&idsadvr[1]=in13589&idsadvr[2]=in13590&idsadvr[3]=in13591&idsadvr[4]=in13592&idsadvr[5]=in13593&idsadvr[6]=in13594&idsadvr[7]=in13595&idsadvr[8]=in13596&idsadvr[9]=in13597&idsadvr[10]=in13598&idsadvr[11]=in13599&idsadvr[12]=in13601&idsadvr[13]=in13602&idsadvr[14]=in13603&idsadvr[15]=in13604&idsadvr[16]=in13605&idsadvr[17]=in13606&idsadvr[18]=in13608&idsadvr[19]=in13609',\n",
       " 'idsadvr[0]=in13589&idsadvr[1]=in13590&idsadvr[2]=in13591&idsadvr[3]=in13592&idsadvr[4]=in13593&idsadvr[5]=in13594&idsadvr[6]=in13595&idsadvr[7]=in13596&idsadvr[8]=in13597&idsadvr[9]=in13598&idsadvr[10]=in13599&idsadvr[11]=in13601&idsadvr[12]=in13602&idsadvr[13]=in13603&idsadvr[14]=in13604&idsadvr[15]=in13605&idsadvr[16]=in13606&idsadvr[17]=in13608&idsadvr[18]=in13609&idsadvr[19]=in13610',\n",
       " 'idsadvr[0]=in13590&idsadvr[1]=in13591&idsadvr[2]=in13592&idsadvr[3]=in13593&idsadvr[4]=in13594&idsadvr[5]=in13595&idsadvr[6]=in13596&idsadvr[7]=in13597&idsadvr[8]=in13598&idsadvr[9]=in13599&idsadvr[10]=in13601&idsadvr[11]=in13602&idsadvr[12]=in13603&idsadvr[13]=in13604&idsadvr[14]=in13605&idsadvr[15]=in13606&idsadvr[16]=in13608&idsadvr[17]=in13609&idsadvr[18]=in13610&idsadvr[19]=in13611',\n",
       " 'idsadvr[0]=in13591&idsadvr[1]=in13592&idsadvr[2]=in13593&idsadvr[3]=in13594&idsadvr[4]=in13595&idsadvr[5]=in13596&idsadvr[6]=in13597&idsadvr[7]=in13598&idsadvr[8]=in13599&idsadvr[9]=in13601&idsadvr[10]=in13602&idsadvr[11]=in13603&idsadvr[12]=in13604&idsadvr[13]=in13605&idsadvr[14]=in13606&idsadvr[15]=in13608&idsadvr[16]=in13609&idsadvr[17]=in13610&idsadvr[18]=in13611&idsadvr[19]=in13614',\n",
       " 'idsadvr[0]=in13592&idsadvr[1]=in13593&idsadvr[2]=in13594&idsadvr[3]=in13595&idsadvr[4]=in13596&idsadvr[5]=in13597&idsadvr[6]=in13598&idsadvr[7]=in13599&idsadvr[8]=in13601&idsadvr[9]=in13602&idsadvr[10]=in13603&idsadvr[11]=in13604&idsadvr[12]=in13605&idsadvr[13]=in13606&idsadvr[14]=in13608&idsadvr[15]=in13609&idsadvr[16]=in13610&idsadvr[17]=in13611&idsadvr[18]=in13614&idsadvr[19]=in13615',\n",
       " 'idsadvr[0]=in13593&idsadvr[1]=in13594&idsadvr[2]=in13595&idsadvr[3]=in13596&idsadvr[4]=in13597&idsadvr[5]=in13598&idsadvr[6]=in13599&idsadvr[7]=in13601&idsadvr[8]=in13602&idsadvr[9]=in13603&idsadvr[10]=in13604&idsadvr[11]=in13605&idsadvr[12]=in13606&idsadvr[13]=in13608&idsadvr[14]=in13609&idsadvr[15]=in13610&idsadvr[16]=in13611&idsadvr[17]=in13614&idsadvr[18]=in13615&idsadvr[19]=in13616',\n",
       " 'idsadvr[0]=in13594&idsadvr[1]=in13595&idsadvr[2]=in13596&idsadvr[3]=in13597&idsadvr[4]=in13598&idsadvr[5]=in13599&idsadvr[6]=in13601&idsadvr[7]=in13602&idsadvr[8]=in13603&idsadvr[9]=in13604&idsadvr[10]=in13605&idsadvr[11]=in13606&idsadvr[12]=in13608&idsadvr[13]=in13609&idsadvr[14]=in13610&idsadvr[15]=in13611&idsadvr[16]=in13614&idsadvr[17]=in13615&idsadvr[18]=in13616&idsadvr[19]=in13617',\n",
       " 'idsadvr[0]=in13595&idsadvr[1]=in13596&idsadvr[2]=in13597&idsadvr[3]=in13598&idsadvr[4]=in13599&idsadvr[5]=in13601&idsadvr[6]=in13602&idsadvr[7]=in13603&idsadvr[8]=in13604&idsadvr[9]=in13605&idsadvr[10]=in13606&idsadvr[11]=in13608&idsadvr[12]=in13609&idsadvr[13]=in13610&idsadvr[14]=in13611&idsadvr[15]=in13614&idsadvr[16]=in13615&idsadvr[17]=in13616&idsadvr[18]=in13617&idsadvr[19]=in13618',\n",
       " 'idsadvr[0]=in13596&idsadvr[1]=in13597&idsadvr[2]=in13598&idsadvr[3]=in13599&idsadvr[4]=in13601&idsadvr[5]=in13602&idsadvr[6]=in13603&idsadvr[7]=in13604&idsadvr[8]=in13605&idsadvr[9]=in13606&idsadvr[10]=in13608&idsadvr[11]=in13609&idsadvr[12]=in13610&idsadvr[13]=in13611&idsadvr[14]=in13614&idsadvr[15]=in13615&idsadvr[16]=in13616&idsadvr[17]=in13617&idsadvr[18]=in13618&idsadvr[19]=in13619',\n",
       " 'idsadvr[0]=in13597&idsadvr[1]=in13598&idsadvr[2]=in13599&idsadvr[3]=in13601&idsadvr[4]=in13602&idsadvr[5]=in13603&idsadvr[6]=in13604&idsadvr[7]=in13605&idsadvr[8]=in13606&idsadvr[9]=in13608&idsadvr[10]=in13609&idsadvr[11]=in13610&idsadvr[12]=in13611&idsadvr[13]=in13614&idsadvr[14]=in13615&idsadvr[15]=in13616&idsadvr[16]=in13617&idsadvr[17]=in13618&idsadvr[18]=in13619&idsadvr[19]=in13620',\n",
       " 'idsadvr[0]=in13598&idsadvr[1]=in13599&idsadvr[2]=in13601&idsadvr[3]=in13602&idsadvr[4]=in13603&idsadvr[5]=in13604&idsadvr[6]=in13605&idsadvr[7]=in13606&idsadvr[8]=in13608&idsadvr[9]=in13609&idsadvr[10]=in13610&idsadvr[11]=in13611&idsadvr[12]=in13614&idsadvr[13]=in13615&idsadvr[14]=in13616&idsadvr[15]=in13617&idsadvr[16]=in13618&idsadvr[17]=in13619&idsadvr[18]=in13620&idsadvr[19]=in13621',\n",
       " 'idsadvr[0]=in13599&idsadvr[1]=in13601&idsadvr[2]=in13602&idsadvr[3]=in13603&idsadvr[4]=in13604&idsadvr[5]=in13605&idsadvr[6]=in13606&idsadvr[7]=in13608&idsadvr[8]=in13609&idsadvr[9]=in13610&idsadvr[10]=in13611&idsadvr[11]=in13614&idsadvr[12]=in13615&idsadvr[13]=in13616&idsadvr[14]=in13617&idsadvr[15]=in13618&idsadvr[16]=in13619&idsadvr[17]=in13620&idsadvr[18]=in13621&idsadvr[19]=in13622',\n",
       " 'idsadvr[0]=in13601&idsadvr[1]=in13602&idsadvr[2]=in13603&idsadvr[3]=in13604&idsadvr[4]=in13605&idsadvr[5]=in13606&idsadvr[6]=in13608&idsadvr[7]=in13609&idsadvr[8]=in13610&idsadvr[9]=in13611&idsadvr[10]=in13614&idsadvr[11]=in13615&idsadvr[12]=in13616&idsadvr[13]=in13617&idsadvr[14]=in13618&idsadvr[15]=in13619&idsadvr[16]=in13620&idsadvr[17]=in13621&idsadvr[18]=in13622&idsadvr[19]=in13623',\n",
       " 'idsadvr[0]=in13602&idsadvr[1]=in13603&idsadvr[2]=in13604&idsadvr[3]=in13605&idsadvr[4]=in13606&idsadvr[5]=in13608&idsadvr[6]=in13609&idsadvr[7]=in13610&idsadvr[8]=in13611&idsadvr[9]=in13614&idsadvr[10]=in13615&idsadvr[11]=in13616&idsadvr[12]=in13617&idsadvr[13]=in13618&idsadvr[14]=in13619&idsadvr[15]=in13620&idsadvr[16]=in13621&idsadvr[17]=in13622&idsadvr[18]=in13623&idsadvr[19]=in13626',\n",
       " 'idsadvr[0]=in13603&idsadvr[1]=in13604&idsadvr[2]=in13605&idsadvr[3]=in13606&idsadvr[4]=in13608&idsadvr[5]=in13609&idsadvr[6]=in13610&idsadvr[7]=in13611&idsadvr[8]=in13614&idsadvr[9]=in13615&idsadvr[10]=in13616&idsadvr[11]=in13617&idsadvr[12]=in13618&idsadvr[13]=in13619&idsadvr[14]=in13620&idsadvr[15]=in13621&idsadvr[16]=in13622&idsadvr[17]=in13623&idsadvr[18]=in13626&idsadvr[19]=in13627',\n",
       " 'idsadvr[0]=in13604&idsadvr[1]=in13605&idsadvr[2]=in13606&idsadvr[3]=in13608&idsadvr[4]=in13609&idsadvr[5]=in13610&idsadvr[6]=in13611&idsadvr[7]=in13614&idsadvr[8]=in13615&idsadvr[9]=in13616&idsadvr[10]=in13617&idsadvr[11]=in13618&idsadvr[12]=in13619&idsadvr[13]=in13620&idsadvr[14]=in13621&idsadvr[15]=in13622&idsadvr[16]=in13623&idsadvr[17]=in13626&idsadvr[18]=in13627&idsadvr[19]=in13629',\n",
       " 'idsadvr[0]=in13605&idsadvr[1]=in13606&idsadvr[2]=in13608&idsadvr[3]=in13609&idsadvr[4]=in13610&idsadvr[5]=in13611&idsadvr[6]=in13614&idsadvr[7]=in13615&idsadvr[8]=in13616&idsadvr[9]=in13617&idsadvr[10]=in13618&idsadvr[11]=in13619&idsadvr[12]=in13620&idsadvr[13]=in13621&idsadvr[14]=in13622&idsadvr[15]=in13623&idsadvr[16]=in13626&idsadvr[17]=in13627&idsadvr[18]=in13629&idsadvr[19]=in13631',\n",
       " 'idsadvr[0]=in13606&idsadvr[1]=in13608&idsadvr[2]=in13609&idsadvr[3]=in13610&idsadvr[4]=in13611&idsadvr[5]=in13614&idsadvr[6]=in13615&idsadvr[7]=in13616&idsadvr[8]=in13617&idsadvr[9]=in13618&idsadvr[10]=in13619&idsadvr[11]=in13620&idsadvr[12]=in13621&idsadvr[13]=in13622&idsadvr[14]=in13623&idsadvr[15]=in13626&idsadvr[16]=in13627&idsadvr[17]=in13629&idsadvr[18]=in13631&idsadvr[19]=in13632',\n",
       " 'idsadvr[0]=in13608&idsadvr[1]=in13609&idsadvr[2]=in13610&idsadvr[3]=in13611&idsadvr[4]=in13614&idsadvr[5]=in13615&idsadvr[6]=in13616&idsadvr[7]=in13617&idsadvr[8]=in13618&idsadvr[9]=in13619&idsadvr[10]=in13620&idsadvr[11]=in13621&idsadvr[12]=in13622&idsadvr[13]=in13623&idsadvr[14]=in13626&idsadvr[15]=in13627&idsadvr[16]=in13629&idsadvr[17]=in13631&idsadvr[18]=in13632&idsadvr[19]=in13633',\n",
       " 'idsadvr[0]=in13609&idsadvr[1]=in13610&idsadvr[2]=in13611&idsadvr[3]=in13614&idsadvr[4]=in13615&idsadvr[5]=in13616&idsadvr[6]=in13617&idsadvr[7]=in13618&idsadvr[8]=in13619&idsadvr[9]=in13620&idsadvr[10]=in13621&idsadvr[11]=in13622&idsadvr[12]=in13623&idsadvr[13]=in13626&idsadvr[14]=in13627&idsadvr[15]=in13629&idsadvr[16]=in13631&idsadvr[17]=in13632&idsadvr[18]=in13633&idsadvr[19]=in13634',\n",
       " 'idsadvr[0]=in13610&idsadvr[1]=in13611&idsadvr[2]=in13614&idsadvr[3]=in13615&idsadvr[4]=in13616&idsadvr[5]=in13617&idsadvr[6]=in13618&idsadvr[7]=in13619&idsadvr[8]=in13620&idsadvr[9]=in13621&idsadvr[10]=in13622&idsadvr[11]=in13623&idsadvr[12]=in13626&idsadvr[13]=in13627&idsadvr[14]=in13629&idsadvr[15]=in13631&idsadvr[16]=in13632&idsadvr[17]=in13633&idsadvr[18]=in13634&idsadvr[19]=in13635',\n",
       " 'idsadvr[0]=in13611&idsadvr[1]=in13614&idsadvr[2]=in13615&idsadvr[3]=in13616&idsadvr[4]=in13617&idsadvr[5]=in13618&idsadvr[6]=in13619&idsadvr[7]=in13620&idsadvr[8]=in13621&idsadvr[9]=in13622&idsadvr[10]=in13623&idsadvr[11]=in13626&idsadvr[12]=in13627&idsadvr[13]=in13629&idsadvr[14]=in13631&idsadvr[15]=in13632&idsadvr[16]=in13633&idsadvr[17]=in13634&idsadvr[18]=in13635&idsadvr[19]=in13636',\n",
       " 'idsadvr[0]=in13614&idsadvr[1]=in13615&idsadvr[2]=in13616&idsadvr[3]=in13617&idsadvr[4]=in13618&idsadvr[5]=in13619&idsadvr[6]=in13620&idsadvr[7]=in13621&idsadvr[8]=in13622&idsadvr[9]=in13623&idsadvr[10]=in13626&idsadvr[11]=in13627&idsadvr[12]=in13629&idsadvr[13]=in13631&idsadvr[14]=in13632&idsadvr[15]=in13633&idsadvr[16]=in13634&idsadvr[17]=in13635&idsadvr[18]=in13636&idsadvr[19]=in13637',\n",
       " 'idsadvr[0]=in13615&idsadvr[1]=in13616&idsadvr[2]=in13617&idsadvr[3]=in13618&idsadvr[4]=in13619&idsadvr[5]=in13620&idsadvr[6]=in13621&idsadvr[7]=in13622&idsadvr[8]=in13623&idsadvr[9]=in13626&idsadvr[10]=in13627&idsadvr[11]=in13629&idsadvr[12]=in13631&idsadvr[13]=in13632&idsadvr[14]=in13633&idsadvr[15]=in13634&idsadvr[16]=in13635&idsadvr[17]=in13636&idsadvr[18]=in13637&idsadvr[19]=in13639',\n",
       " 'idsadvr[0]=in13616&idsadvr[1]=in13617&idsadvr[2]=in13618&idsadvr[3]=in13619&idsadvr[4]=in13620&idsadvr[5]=in13621&idsadvr[6]=in13622&idsadvr[7]=in13623&idsadvr[8]=in13626&idsadvr[9]=in13627&idsadvr[10]=in13629&idsadvr[11]=in13631&idsadvr[12]=in13632&idsadvr[13]=in13633&idsadvr[14]=in13634&idsadvr[15]=in13635&idsadvr[16]=in13636&idsadvr[17]=in13637&idsadvr[18]=in13639&idsadvr[19]=in13642',\n",
       " 'idsadvr[0]=in13617&idsadvr[1]=in13618&idsadvr[2]=in13619&idsadvr[3]=in13620&idsadvr[4]=in13621&idsadvr[5]=in13622&idsadvr[6]=in13623&idsadvr[7]=in13626&idsadvr[8]=in13627&idsadvr[9]=in13629&idsadvr[10]=in13631&idsadvr[11]=in13632&idsadvr[12]=in13633&idsadvr[13]=in13634&idsadvr[14]=in13635&idsadvr[15]=in13636&idsadvr[16]=in13637&idsadvr[17]=in13639&idsadvr[18]=in13642&idsadvr[19]=in13644',\n",
       " 'idsadvr[0]=in13618&idsadvr[1]=in13619&idsadvr[2]=in13620&idsadvr[3]=in13621&idsadvr[4]=in13622&idsadvr[5]=in13623&idsadvr[6]=in13626&idsadvr[7]=in13627&idsadvr[8]=in13629&idsadvr[9]=in13631&idsadvr[10]=in13632&idsadvr[11]=in13633&idsadvr[12]=in13634&idsadvr[13]=in13635&idsadvr[14]=in13636&idsadvr[15]=in13637&idsadvr[16]=in13639&idsadvr[17]=in13642&idsadvr[18]=in13644&idsadvr[19]=in13645',\n",
       " 'idsadvr[0]=in13619&idsadvr[1]=in13620&idsadvr[2]=in13621&idsadvr[3]=in13622&idsadvr[4]=in13623&idsadvr[5]=in13626&idsadvr[6]=in13627&idsadvr[7]=in13629&idsadvr[8]=in13631&idsadvr[9]=in13632&idsadvr[10]=in13633&idsadvr[11]=in13634&idsadvr[12]=in13635&idsadvr[13]=in13636&idsadvr[14]=in13637&idsadvr[15]=in13639&idsadvr[16]=in13642&idsadvr[17]=in13644&idsadvr[18]=in13645&idsadvr[19]=in13646',\n",
       " 'idsadvr[0]=in13620&idsadvr[1]=in13621&idsadvr[2]=in13622&idsadvr[3]=in13623&idsadvr[4]=in13626&idsadvr[5]=in13627&idsadvr[6]=in13629&idsadvr[7]=in13631&idsadvr[8]=in13632&idsadvr[9]=in13633&idsadvr[10]=in13634&idsadvr[11]=in13635&idsadvr[12]=in13636&idsadvr[13]=in13637&idsadvr[14]=in13639&idsadvr[15]=in13642&idsadvr[16]=in13644&idsadvr[17]=in13645&idsadvr[18]=in13646&idsadvr[19]=in13647',\n",
       " 'idsadvr[0]=in13621&idsadvr[1]=in13622&idsadvr[2]=in13623&idsadvr[3]=in13626&idsadvr[4]=in13627&idsadvr[5]=in13629&idsadvr[6]=in13631&idsadvr[7]=in13632&idsadvr[8]=in13633&idsadvr[9]=in13634&idsadvr[10]=in13635&idsadvr[11]=in13636&idsadvr[12]=in13637&idsadvr[13]=in13639&idsadvr[14]=in13642&idsadvr[15]=in13644&idsadvr[16]=in13645&idsadvr[17]=in13646&idsadvr[18]=in13647&idsadvr[19]=in13648',\n",
       " 'idsadvr[0]=in13622&idsadvr[1]=in13623&idsadvr[2]=in13626&idsadvr[3]=in13627&idsadvr[4]=in13629&idsadvr[5]=in13631&idsadvr[6]=in13632&idsadvr[7]=in13633&idsadvr[8]=in13634&idsadvr[9]=in13635&idsadvr[10]=in13636&idsadvr[11]=in13637&idsadvr[12]=in13639&idsadvr[13]=in13642&idsadvr[14]=in13644&idsadvr[15]=in13645&idsadvr[16]=in13646&idsadvr[17]=in13647&idsadvr[18]=in13648&idsadvr[19]=in13649',\n",
       " 'idsadvr[0]=in13623&idsadvr[1]=in13626&idsadvr[2]=in13627&idsadvr[3]=in13629&idsadvr[4]=in13631&idsadvr[5]=in13632&idsadvr[6]=in13633&idsadvr[7]=in13634&idsadvr[8]=in13635&idsadvr[9]=in13636&idsadvr[10]=in13637&idsadvr[11]=in13639&idsadvr[12]=in13642&idsadvr[13]=in13644&idsadvr[14]=in13645&idsadvr[15]=in13646&idsadvr[16]=in13647&idsadvr[17]=in13648&idsadvr[18]=in13649&idsadvr[19]=in13650',\n",
       " 'idsadvr[0]=in13626&idsadvr[1]=in13627&idsadvr[2]=in13629&idsadvr[3]=in13631&idsadvr[4]=in13632&idsadvr[5]=in13633&idsadvr[6]=in13634&idsadvr[7]=in13635&idsadvr[8]=in13636&idsadvr[9]=in13637&idsadvr[10]=in13639&idsadvr[11]=in13642&idsadvr[12]=in13644&idsadvr[13]=in13645&idsadvr[14]=in13646&idsadvr[15]=in13647&idsadvr[16]=in13648&idsadvr[17]=in13649&idsadvr[18]=in13650&idsadvr[19]=in13651',\n",
       " 'idsadvr[0]=in13627&idsadvr[1]=in13629&idsadvr[2]=in13631&idsadvr[3]=in13632&idsadvr[4]=in13633&idsadvr[5]=in13634&idsadvr[6]=in13635&idsadvr[7]=in13636&idsadvr[8]=in13637&idsadvr[9]=in13639&idsadvr[10]=in13642&idsadvr[11]=in13644&idsadvr[12]=in13645&idsadvr[13]=in13646&idsadvr[14]=in13647&idsadvr[15]=in13648&idsadvr[16]=in13649&idsadvr[17]=in13650&idsadvr[18]=in13651&idsadvr[19]=in13652',\n",
       " 'idsadvr[0]=in13629&idsadvr[1]=in13631&idsadvr[2]=in13632&idsadvr[3]=in13633&idsadvr[4]=in13634&idsadvr[5]=in13635&idsadvr[6]=in13636&idsadvr[7]=in13637&idsadvr[8]=in13639&idsadvr[9]=in13642&idsadvr[10]=in13644&idsadvr[11]=in13645&idsadvr[12]=in13646&idsadvr[13]=in13647&idsadvr[14]=in13648&idsadvr[15]=in13649&idsadvr[16]=in13650&idsadvr[17]=in13651&idsadvr[18]=in13652&idsadvr[19]=in13654',\n",
       " 'idsadvr[0]=in13631&idsadvr[1]=in13632&idsadvr[2]=in13633&idsadvr[3]=in13634&idsadvr[4]=in13635&idsadvr[5]=in13636&idsadvr[6]=in13637&idsadvr[7]=in13639&idsadvr[8]=in13642&idsadvr[9]=in13644&idsadvr[10]=in13645&idsadvr[11]=in13646&idsadvr[12]=in13647&idsadvr[13]=in13648&idsadvr[14]=in13649&idsadvr[15]=in13650&idsadvr[16]=in13651&idsadvr[17]=in13652&idsadvr[18]=in13654&idsadvr[19]=in13658',\n",
       " 'idsadvr[0]=in13632&idsadvr[1]=in13633&idsadvr[2]=in13634&idsadvr[3]=in13635&idsadvr[4]=in13636&idsadvr[5]=in13637&idsadvr[6]=in13639&idsadvr[7]=in13642&idsadvr[8]=in13644&idsadvr[9]=in13645&idsadvr[10]=in13646&idsadvr[11]=in13647&idsadvr[12]=in13648&idsadvr[13]=in13649&idsadvr[14]=in13650&idsadvr[15]=in13651&idsadvr[16]=in13652&idsadvr[17]=in13654&idsadvr[18]=in13658&idsadvr[19]=in13661',\n",
       " 'idsadvr[0]=in13633&idsadvr[1]=in13634&idsadvr[2]=in13635&idsadvr[3]=in13636&idsadvr[4]=in13637&idsadvr[5]=in13639&idsadvr[6]=in13642&idsadvr[7]=in13644&idsadvr[8]=in13645&idsadvr[9]=in13646&idsadvr[10]=in13647&idsadvr[11]=in13648&idsadvr[12]=in13649&idsadvr[13]=in13650&idsadvr[14]=in13651&idsadvr[15]=in13652&idsadvr[16]=in13654&idsadvr[17]=in13658&idsadvr[18]=in13661&idsadvr[19]=in13663',\n",
       " 'idsadvr[0]=in13634&idsadvr[1]=in13635&idsadvr[2]=in13636&idsadvr[3]=in13637&idsadvr[4]=in13639&idsadvr[5]=in13642&idsadvr[6]=in13644&idsadvr[7]=in13645&idsadvr[8]=in13646&idsadvr[9]=in13647&idsadvr[10]=in13648&idsadvr[11]=in13649&idsadvr[12]=in13650&idsadvr[13]=in13651&idsadvr[14]=in13652&idsadvr[15]=in13654&idsadvr[16]=in13658&idsadvr[17]=in13661&idsadvr[18]=in13663&idsadvr[19]=in13665',\n",
       " 'idsadvr[0]=in13635&idsadvr[1]=in13636&idsadvr[2]=in13637&idsadvr[3]=in13639&idsadvr[4]=in13642&idsadvr[5]=in13644&idsadvr[6]=in13645&idsadvr[7]=in13646&idsadvr[8]=in13647&idsadvr[9]=in13648&idsadvr[10]=in13649&idsadvr[11]=in13650&idsadvr[12]=in13651&idsadvr[13]=in13652&idsadvr[14]=in13654&idsadvr[15]=in13658&idsadvr[16]=in13661&idsadvr[17]=in13663&idsadvr[18]=in13665&idsadvr[19]=in13666',\n",
       " 'idsadvr[0]=in13636&idsadvr[1]=in13637&idsadvr[2]=in13639&idsadvr[3]=in13642&idsadvr[4]=in13644&idsadvr[5]=in13645&idsadvr[6]=in13646&idsadvr[7]=in13647&idsadvr[8]=in13648&idsadvr[9]=in13649&idsadvr[10]=in13650&idsadvr[11]=in13651&idsadvr[12]=in13652&idsadvr[13]=in13654&idsadvr[14]=in13658&idsadvr[15]=in13661&idsadvr[16]=in13663&idsadvr[17]=in13665&idsadvr[18]=in13666&idsadvr[19]=in13667',\n",
       " 'idsadvr[0]=in13637&idsadvr[1]=in13639&idsadvr[2]=in13642&idsadvr[3]=in13644&idsadvr[4]=in13645&idsadvr[5]=in13646&idsadvr[6]=in13647&idsadvr[7]=in13648&idsadvr[8]=in13649&idsadvr[9]=in13650&idsadvr[10]=in13651&idsadvr[11]=in13652&idsadvr[12]=in13654&idsadvr[13]=in13658&idsadvr[14]=in13661&idsadvr[15]=in13663&idsadvr[16]=in13665&idsadvr[17]=in13666&idsadvr[18]=in13667&idsadvr[19]=in13668',\n",
       " 'idsadvr[0]=in13639&idsadvr[1]=in13642&idsadvr[2]=in13644&idsadvr[3]=in13645&idsadvr[4]=in13646&idsadvr[5]=in13647&idsadvr[6]=in13648&idsadvr[7]=in13649&idsadvr[8]=in13650&idsadvr[9]=in13651&idsadvr[10]=in13652&idsadvr[11]=in13654&idsadvr[12]=in13658&idsadvr[13]=in13661&idsadvr[14]=in13663&idsadvr[15]=in13665&idsadvr[16]=in13666&idsadvr[17]=in13667&idsadvr[18]=in13668&idsadvr[19]=in13670',\n",
       " 'idsadvr[0]=in13642&idsadvr[1]=in13644&idsadvr[2]=in13645&idsadvr[3]=in13646&idsadvr[4]=in13647&idsadvr[5]=in13648&idsadvr[6]=in13649&idsadvr[7]=in13650&idsadvr[8]=in13651&idsadvr[9]=in13652&idsadvr[10]=in13654&idsadvr[11]=in13658&idsadvr[12]=in13661&idsadvr[13]=in13663&idsadvr[14]=in13665&idsadvr[15]=in13666&idsadvr[16]=in13667&idsadvr[17]=in13668&idsadvr[18]=in13670&idsadvr[19]=in13671',\n",
       " 'idsadvr[0]=in13644&idsadvr[1]=in13645&idsadvr[2]=in13646&idsadvr[3]=in13647&idsadvr[4]=in13648&idsadvr[5]=in13649&idsadvr[6]=in13650&idsadvr[7]=in13651&idsadvr[8]=in13652&idsadvr[9]=in13654&idsadvr[10]=in13658&idsadvr[11]=in13661&idsadvr[12]=in13663&idsadvr[13]=in13665&idsadvr[14]=in13666&idsadvr[15]=in13667&idsadvr[16]=in13668&idsadvr[17]=in13670&idsadvr[18]=in13671&idsadvr[19]=in13674',\n",
       " 'idsadvr[0]=in13645&idsadvr[1]=in13646&idsadvr[2]=in13647&idsadvr[3]=in13648&idsadvr[4]=in13649&idsadvr[5]=in13650&idsadvr[6]=in13651&idsadvr[7]=in13652&idsadvr[8]=in13654&idsadvr[9]=in13658&idsadvr[10]=in13661&idsadvr[11]=in13663&idsadvr[12]=in13665&idsadvr[13]=in13666&idsadvr[14]=in13667&idsadvr[15]=in13668&idsadvr[16]=in13670&idsadvr[17]=in13671&idsadvr[18]=in13674&idsadvr[19]=in13675',\n",
       " 'idsadvr[0]=in13646&idsadvr[1]=in13647&idsadvr[2]=in13648&idsadvr[3]=in13649&idsadvr[4]=in13650&idsadvr[5]=in13651&idsadvr[6]=in13652&idsadvr[7]=in13654&idsadvr[8]=in13658&idsadvr[9]=in13661&idsadvr[10]=in13663&idsadvr[11]=in13665&idsadvr[12]=in13666&idsadvr[13]=in13667&idsadvr[14]=in13668&idsadvr[15]=in13670&idsadvr[16]=in13671&idsadvr[17]=in13674&idsadvr[18]=in13675&idsadvr[19]=in13676',\n",
       " 'idsadvr[0]=in13647&idsadvr[1]=in13648&idsadvr[2]=in13649&idsadvr[3]=in13650&idsadvr[4]=in13651&idsadvr[5]=in13652&idsadvr[6]=in13654&idsadvr[7]=in13658&idsadvr[8]=in13661&idsadvr[9]=in13663&idsadvr[10]=in13665&idsadvr[11]=in13666&idsadvr[12]=in13667&idsadvr[13]=in13668&idsadvr[14]=in13670&idsadvr[15]=in13671&idsadvr[16]=in13674&idsadvr[17]=in13675&idsadvr[18]=in13676&idsadvr[19]=in13679',\n",
       " 'idsadvr[0]=in13648&idsadvr[1]=in13649&idsadvr[2]=in13650&idsadvr[3]=in13651&idsadvr[4]=in13652&idsadvr[5]=in13654&idsadvr[6]=in13658&idsadvr[7]=in13661&idsadvr[8]=in13663&idsadvr[9]=in13665&idsadvr[10]=in13666&idsadvr[11]=in13667&idsadvr[12]=in13668&idsadvr[13]=in13670&idsadvr[14]=in13671&idsadvr[15]=in13674&idsadvr[16]=in13675&idsadvr[17]=in13676&idsadvr[18]=in13679&idsadvr[19]=in13680',\n",
       " 'idsadvr[0]=in13649&idsadvr[1]=in13650&idsadvr[2]=in13651&idsadvr[3]=in13652&idsadvr[4]=in13654&idsadvr[5]=in13658&idsadvr[6]=in13661&idsadvr[7]=in13663&idsadvr[8]=in13665&idsadvr[9]=in13666&idsadvr[10]=in13667&idsadvr[11]=in13668&idsadvr[12]=in13670&idsadvr[13]=in13671&idsadvr[14]=in13674&idsadvr[15]=in13675&idsadvr[16]=in13676&idsadvr[17]=in13679&idsadvr[18]=in13680&idsadvr[19]=in13681',\n",
       " 'idsadvr[0]=in13650&idsadvr[1]=in13651&idsadvr[2]=in13652&idsadvr[3]=in13654&idsadvr[4]=in13658&idsadvr[5]=in13661&idsadvr[6]=in13663&idsadvr[7]=in13665&idsadvr[8]=in13666&idsadvr[9]=in13667&idsadvr[10]=in13668&idsadvr[11]=in13670&idsadvr[12]=in13671&idsadvr[13]=in13674&idsadvr[14]=in13675&idsadvr[15]=in13676&idsadvr[16]=in13679&idsadvr[17]=in13680&idsadvr[18]=in13681&idsadvr[19]=in13682',\n",
       " 'idsadvr[0]=in13651&idsadvr[1]=in13652&idsadvr[2]=in13654&idsadvr[3]=in13658&idsadvr[4]=in13661&idsadvr[5]=in13663&idsadvr[6]=in13665&idsadvr[7]=in13666&idsadvr[8]=in13667&idsadvr[9]=in13668&idsadvr[10]=in13670&idsadvr[11]=in13671&idsadvr[12]=in13674&idsadvr[13]=in13675&idsadvr[14]=in13676&idsadvr[15]=in13679&idsadvr[16]=in13680&idsadvr[17]=in13681&idsadvr[18]=in13682&idsadvr[19]=in13683',\n",
       " 'idsadvr[0]=in13652&idsadvr[1]=in13654&idsadvr[2]=in13658&idsadvr[3]=in13661&idsadvr[4]=in13663&idsadvr[5]=in13665&idsadvr[6]=in13666&idsadvr[7]=in13667&idsadvr[8]=in13668&idsadvr[9]=in13670&idsadvr[10]=in13671&idsadvr[11]=in13674&idsadvr[12]=in13675&idsadvr[13]=in13676&idsadvr[14]=in13679&idsadvr[15]=in13680&idsadvr[16]=in13681&idsadvr[17]=in13682&idsadvr[18]=in13683&idsadvr[19]=in13684',\n",
       " 'idsadvr[0]=in13654&idsadvr[1]=in13658&idsadvr[2]=in13661&idsadvr[3]=in13663&idsadvr[4]=in13665&idsadvr[5]=in13666&idsadvr[6]=in13667&idsadvr[7]=in13668&idsadvr[8]=in13670&idsadvr[9]=in13671&idsadvr[10]=in13674&idsadvr[11]=in13675&idsadvr[12]=in13676&idsadvr[13]=in13679&idsadvr[14]=in13680&idsadvr[15]=in13681&idsadvr[16]=in13682&idsadvr[17]=in13683&idsadvr[18]=in13684&idsadvr[19]=in13685',\n",
       " 'idsadvr[0]=in13658&idsadvr[1]=in13661&idsadvr[2]=in13663&idsadvr[3]=in13665&idsadvr[4]=in13666&idsadvr[5]=in13667&idsadvr[6]=in13668&idsadvr[7]=in13670&idsadvr[8]=in13671&idsadvr[9]=in13674&idsadvr[10]=in13675&idsadvr[11]=in13676&idsadvr[12]=in13679&idsadvr[13]=in13680&idsadvr[14]=in13681&idsadvr[15]=in13682&idsadvr[16]=in13683&idsadvr[17]=in13684&idsadvr[18]=in13685&idsadvr[19]=in13686',\n",
       " 'idsadvr[0]=in13661&idsadvr[1]=in13663&idsadvr[2]=in13665&idsadvr[3]=in13666&idsadvr[4]=in13667&idsadvr[5]=in13668&idsadvr[6]=in13670&idsadvr[7]=in13671&idsadvr[8]=in13674&idsadvr[9]=in13675&idsadvr[10]=in13676&idsadvr[11]=in13679&idsadvr[12]=in13680&idsadvr[13]=in13681&idsadvr[14]=in13682&idsadvr[15]=in13683&idsadvr[16]=in13684&idsadvr[17]=in13685&idsadvr[18]=in13686&idsadvr[19]=in13687',\n",
       " 'idsadvr[0]=in13663&idsadvr[1]=in13665&idsadvr[2]=in13666&idsadvr[3]=in13667&idsadvr[4]=in13668&idsadvr[5]=in13670&idsadvr[6]=in13671&idsadvr[7]=in13674&idsadvr[8]=in13675&idsadvr[9]=in13676&idsadvr[10]=in13679&idsadvr[11]=in13680&idsadvr[12]=in13681&idsadvr[13]=in13682&idsadvr[14]=in13683&idsadvr[15]=in13684&idsadvr[16]=in13685&idsadvr[17]=in13686&idsadvr[18]=in13687&idsadvr[19]=in13688',\n",
       " 'idsadvr[0]=in13665&idsadvr[1]=in13666&idsadvr[2]=in13667&idsadvr[3]=in13668&idsadvr[4]=in13670&idsadvr[5]=in13671&idsadvr[6]=in13674&idsadvr[7]=in13675&idsadvr[8]=in13676&idsadvr[9]=in13679&idsadvr[10]=in13680&idsadvr[11]=in13681&idsadvr[12]=in13682&idsadvr[13]=in13683&idsadvr[14]=in13684&idsadvr[15]=in13685&idsadvr[16]=in13686&idsadvr[17]=in13687&idsadvr[18]=in13688&idsadvr[19]=in13689',\n",
       " 'idsadvr[0]=in13666&idsadvr[1]=in13667&idsadvr[2]=in13668&idsadvr[3]=in13670&idsadvr[4]=in13671&idsadvr[5]=in13674&idsadvr[6]=in13675&idsadvr[7]=in13676&idsadvr[8]=in13679&idsadvr[9]=in13680&idsadvr[10]=in13681&idsadvr[11]=in13682&idsadvr[12]=in13683&idsadvr[13]=in13684&idsadvr[14]=in13685&idsadvr[15]=in13686&idsadvr[16]=in13687&idsadvr[17]=in13688&idsadvr[18]=in13689&idsadvr[19]=in13692',\n",
       " 'idsadvr[0]=in13667&idsadvr[1]=in13668&idsadvr[2]=in13670&idsadvr[3]=in13671&idsadvr[4]=in13674&idsadvr[5]=in13675&idsadvr[6]=in13676&idsadvr[7]=in13679&idsadvr[8]=in13680&idsadvr[9]=in13681&idsadvr[10]=in13682&idsadvr[11]=in13683&idsadvr[12]=in13684&idsadvr[13]=in13685&idsadvr[14]=in13686&idsadvr[15]=in13687&idsadvr[16]=in13688&idsadvr[17]=in13689&idsadvr[18]=in13692&idsadvr[19]=in13693',\n",
       " 'idsadvr[0]=in13668&idsadvr[1]=in13670&idsadvr[2]=in13671&idsadvr[3]=in13674&idsadvr[4]=in13675&idsadvr[5]=in13676&idsadvr[6]=in13679&idsadvr[7]=in13680&idsadvr[8]=in13681&idsadvr[9]=in13682&idsadvr[10]=in13683&idsadvr[11]=in13684&idsadvr[12]=in13685&idsadvr[13]=in13686&idsadvr[14]=in13687&idsadvr[15]=in13688&idsadvr[16]=in13689&idsadvr[17]=in13692&idsadvr[18]=in13693&idsadvr[19]=in13694',\n",
       " 'idsadvr[0]=in13670&idsadvr[1]=in13671&idsadvr[2]=in13674&idsadvr[3]=in13675&idsadvr[4]=in13676&idsadvr[5]=in13679&idsadvr[6]=in13680&idsadvr[7]=in13681&idsadvr[8]=in13682&idsadvr[9]=in13683&idsadvr[10]=in13684&idsadvr[11]=in13685&idsadvr[12]=in13686&idsadvr[13]=in13687&idsadvr[14]=in13688&idsadvr[15]=in13689&idsadvr[16]=in13692&idsadvr[17]=in13693&idsadvr[18]=in13694&idsadvr[19]=in13695',\n",
       " 'idsadvr[0]=in13671&idsadvr[1]=in13674&idsadvr[2]=in13675&idsadvr[3]=in13676&idsadvr[4]=in13679&idsadvr[5]=in13680&idsadvr[6]=in13681&idsadvr[7]=in13682&idsadvr[8]=in13683&idsadvr[9]=in13684&idsadvr[10]=in13685&idsadvr[11]=in13686&idsadvr[12]=in13687&idsadvr[13]=in13688&idsadvr[14]=in13689&idsadvr[15]=in13692&idsadvr[16]=in13693&idsadvr[17]=in13694&idsadvr[18]=in13695&idsadvr[19]=in13696',\n",
       " 'idsadvr[0]=in13674&idsadvr[1]=in13675&idsadvr[2]=in13676&idsadvr[3]=in13679&idsadvr[4]=in13680&idsadvr[5]=in13681&idsadvr[6]=in13682&idsadvr[7]=in13683&idsadvr[8]=in13684&idsadvr[9]=in13685&idsadvr[10]=in13686&idsadvr[11]=in13687&idsadvr[12]=in13688&idsadvr[13]=in13689&idsadvr[14]=in13692&idsadvr[15]=in13693&idsadvr[16]=in13694&idsadvr[17]=in13695&idsadvr[18]=in13696&idsadvr[19]=in13697',\n",
       " 'idsadvr[0]=in13675&idsadvr[1]=in13676&idsadvr[2]=in13679&idsadvr[3]=in13680&idsadvr[4]=in13681&idsadvr[5]=in13682&idsadvr[6]=in13683&idsadvr[7]=in13684&idsadvr[8]=in13685&idsadvr[9]=in13686&idsadvr[10]=in13687&idsadvr[11]=in13688&idsadvr[12]=in13689&idsadvr[13]=in13692&idsadvr[14]=in13693&idsadvr[15]=in13694&idsadvr[16]=in13695&idsadvr[17]=in13696&idsadvr[18]=in13697&idsadvr[19]=in13698',\n",
       " 'idsadvr[0]=in13676&idsadvr[1]=in13679&idsadvr[2]=in13680&idsadvr[3]=in13681&idsadvr[4]=in13682&idsadvr[5]=in13683&idsadvr[6]=in13684&idsadvr[7]=in13685&idsadvr[8]=in13686&idsadvr[9]=in13687&idsadvr[10]=in13688&idsadvr[11]=in13689&idsadvr[12]=in13692&idsadvr[13]=in13693&idsadvr[14]=in13694&idsadvr[15]=in13695&idsadvr[16]=in13696&idsadvr[17]=in13697&idsadvr[18]=in13698&idsadvr[19]=in13699',\n",
       " 'idsadvr[0]=in13679&idsadvr[1]=in13680&idsadvr[2]=in13681&idsadvr[3]=in13682&idsadvr[4]=in13683&idsadvr[5]=in13684&idsadvr[6]=in13685&idsadvr[7]=in13686&idsadvr[8]=in13687&idsadvr[9]=in13688&idsadvr[10]=in13689&idsadvr[11]=in13692&idsadvr[12]=in13693&idsadvr[13]=in13694&idsadvr[14]=in13695&idsadvr[15]=in13696&idsadvr[16]=in13697&idsadvr[17]=in13698&idsadvr[18]=in13699&idsadvr[19]=in13700',\n",
       " 'idsadvr[0]=in13680&idsadvr[1]=in13681&idsadvr[2]=in13682&idsadvr[3]=in13683&idsadvr[4]=in13684&idsadvr[5]=in13685&idsadvr[6]=in13686&idsadvr[7]=in13687&idsadvr[8]=in13688&idsadvr[9]=in13689&idsadvr[10]=in13692&idsadvr[11]=in13693&idsadvr[12]=in13694&idsadvr[13]=in13695&idsadvr[14]=in13696&idsadvr[15]=in13697&idsadvr[16]=in13698&idsadvr[17]=in13699&idsadvr[18]=in13700&idsadvr[19]=in13701',\n",
       " 'idsadvr[0]=in13681&idsadvr[1]=in13682&idsadvr[2]=in13683&idsadvr[3]=in13684&idsadvr[4]=in13685&idsadvr[5]=in13686&idsadvr[6]=in13687&idsadvr[7]=in13688&idsadvr[8]=in13689&idsadvr[9]=in13692&idsadvr[10]=in13693&idsadvr[11]=in13694&idsadvr[12]=in13695&idsadvr[13]=in13696&idsadvr[14]=in13697&idsadvr[15]=in13698&idsadvr[16]=in13699&idsadvr[17]=in13700&idsadvr[18]=in13701&idsadvr[19]=in13702',\n",
       " 'idsadvr[0]=in13682&idsadvr[1]=in13683&idsadvr[2]=in13684&idsadvr[3]=in13685&idsadvr[4]=in13686&idsadvr[5]=in13687&idsadvr[6]=in13688&idsadvr[7]=in13689&idsadvr[8]=in13692&idsadvr[9]=in13693&idsadvr[10]=in13694&idsadvr[11]=in13695&idsadvr[12]=in13696&idsadvr[13]=in13697&idsadvr[14]=in13698&idsadvr[15]=in13699&idsadvr[16]=in13700&idsadvr[17]=in13701&idsadvr[18]=in13702&idsadvr[19]=in13703',\n",
       " 'idsadvr[0]=in13683&idsadvr[1]=in13684&idsadvr[2]=in13685&idsadvr[3]=in13686&idsadvr[4]=in13687&idsadvr[5]=in13688&idsadvr[6]=in13689&idsadvr[7]=in13692&idsadvr[8]=in13693&idsadvr[9]=in13694&idsadvr[10]=in13695&idsadvr[11]=in13696&idsadvr[12]=in13697&idsadvr[13]=in13698&idsadvr[14]=in13699&idsadvr[15]=in13700&idsadvr[16]=in13701&idsadvr[17]=in13702&idsadvr[18]=in13703&idsadvr[19]=in13704',\n",
       " 'idsadvr[0]=in13684&idsadvr[1]=in13685&idsadvr[2]=in13686&idsadvr[3]=in13687&idsadvr[4]=in13688&idsadvr[5]=in13689&idsadvr[6]=in13692&idsadvr[7]=in13693&idsadvr[8]=in13694&idsadvr[9]=in13695&idsadvr[10]=in13696&idsadvr[11]=in13697&idsadvr[12]=in13698&idsadvr[13]=in13699&idsadvr[14]=in13700&idsadvr[15]=in13701&idsadvr[16]=in13702&idsadvr[17]=in13703&idsadvr[18]=in13704&idsadvr[19]=in13706',\n",
       " 'idsadvr[0]=in13685&idsadvr[1]=in13686&idsadvr[2]=in13687&idsadvr[3]=in13688&idsadvr[4]=in13689&idsadvr[5]=in13692&idsadvr[6]=in13693&idsadvr[7]=in13694&idsadvr[8]=in13695&idsadvr[9]=in13696&idsadvr[10]=in13697&idsadvr[11]=in13698&idsadvr[12]=in13699&idsadvr[13]=in13700&idsadvr[14]=in13701&idsadvr[15]=in13702&idsadvr[16]=in13703&idsadvr[17]=in13704&idsadvr[18]=in13706&idsadvr[19]=in13707',\n",
       " 'idsadvr[0]=in13686&idsadvr[1]=in13687&idsadvr[2]=in13688&idsadvr[3]=in13689&idsadvr[4]=in13692&idsadvr[5]=in13693&idsadvr[6]=in13694&idsadvr[7]=in13695&idsadvr[8]=in13696&idsadvr[9]=in13697&idsadvr[10]=in13698&idsadvr[11]=in13699&idsadvr[12]=in13700&idsadvr[13]=in13701&idsadvr[14]=in13702&idsadvr[15]=in13703&idsadvr[16]=in13704&idsadvr[17]=in13706&idsadvr[18]=in13707&idsadvr[19]=in13709',\n",
       " 'idsadvr[0]=in13687&idsadvr[1]=in13688&idsadvr[2]=in13689&idsadvr[3]=in13692&idsadvr[4]=in13693&idsadvr[5]=in13694&idsadvr[6]=in13695&idsadvr[7]=in13696&idsadvr[8]=in13697&idsadvr[9]=in13698&idsadvr[10]=in13699&idsadvr[11]=in13700&idsadvr[12]=in13701&idsadvr[13]=in13702&idsadvr[14]=in13703&idsadvr[15]=in13704&idsadvr[16]=in13706&idsadvr[17]=in13707&idsadvr[18]=in13709&idsadvr[19]=in13710',\n",
       " 'idsadvr[0]=in13688&idsadvr[1]=in13689&idsadvr[2]=in13692&idsadvr[3]=in13693&idsadvr[4]=in13694&idsadvr[5]=in13695&idsadvr[6]=in13696&idsadvr[7]=in13697&idsadvr[8]=in13698&idsadvr[9]=in13699&idsadvr[10]=in13700&idsadvr[11]=in13701&idsadvr[12]=in13702&idsadvr[13]=in13703&idsadvr[14]=in13704&idsadvr[15]=in13706&idsadvr[16]=in13707&idsadvr[17]=in13709&idsadvr[18]=in13710&idsadvr[19]=in13711',\n",
       " 'idsadvr[0]=in13689&idsadvr[1]=in13692&idsadvr[2]=in13693&idsadvr[3]=in13694&idsadvr[4]=in13695&idsadvr[5]=in13696&idsadvr[6]=in13697&idsadvr[7]=in13698&idsadvr[8]=in13699&idsadvr[9]=in13700&idsadvr[10]=in13701&idsadvr[11]=in13702&idsadvr[12]=in13703&idsadvr[13]=in13704&idsadvr[14]=in13706&idsadvr[15]=in13707&idsadvr[16]=in13709&idsadvr[17]=in13710&idsadvr[18]=in13711&idsadvr[19]=in13712',\n",
       " 'idsadvr[0]=in13692&idsadvr[1]=in13693&idsadvr[2]=in13694&idsadvr[3]=in13695&idsadvr[4]=in13696&idsadvr[5]=in13697&idsadvr[6]=in13698&idsadvr[7]=in13699&idsadvr[8]=in13700&idsadvr[9]=in13701&idsadvr[10]=in13702&idsadvr[11]=in13703&idsadvr[12]=in13704&idsadvr[13]=in13706&idsadvr[14]=in13707&idsadvr[15]=in13709&idsadvr[16]=in13710&idsadvr[17]=in13711&idsadvr[18]=in13712&idsadvr[19]=in13713',\n",
       " 'idsadvr[0]=in13693&idsadvr[1]=in13694&idsadvr[2]=in13695&idsadvr[3]=in13696&idsadvr[4]=in13697&idsadvr[5]=in13698&idsadvr[6]=in13699&idsadvr[7]=in13700&idsadvr[8]=in13701&idsadvr[9]=in13702&idsadvr[10]=in13703&idsadvr[11]=in13704&idsadvr[12]=in13706&idsadvr[13]=in13707&idsadvr[14]=in13709&idsadvr[15]=in13710&idsadvr[16]=in13711&idsadvr[17]=in13712&idsadvr[18]=in13713&idsadvr[19]=in13714',\n",
       " 'idsadvr[0]=in13694&idsadvr[1]=in13695&idsadvr[2]=in13696&idsadvr[3]=in13697&idsadvr[4]=in13698&idsadvr[5]=in13699&idsadvr[6]=in13700&idsadvr[7]=in13701&idsadvr[8]=in13702&idsadvr[9]=in13703&idsadvr[10]=in13704&idsadvr[11]=in13706&idsadvr[12]=in13707&idsadvr[13]=in13709&idsadvr[14]=in13710&idsadvr[15]=in13711&idsadvr[16]=in13712&idsadvr[17]=in13713&idsadvr[18]=in13714&idsadvr[19]=in13715',\n",
       " 'idsadvr[0]=in13695&idsadvr[1]=in13696&idsadvr[2]=in13697&idsadvr[3]=in13698&idsadvr[4]=in13699&idsadvr[5]=in13700&idsadvr[6]=in13701&idsadvr[7]=in13702&idsadvr[8]=in13703&idsadvr[9]=in13704&idsadvr[10]=in13706&idsadvr[11]=in13707&idsadvr[12]=in13709&idsadvr[13]=in13710&idsadvr[14]=in13711&idsadvr[15]=in13712&idsadvr[16]=in13713&idsadvr[17]=in13714&idsadvr[18]=in13715&idsadvr[19]=in13716',\n",
       " 'idsadvr[0]=in13696&idsadvr[1]=in13697&idsadvr[2]=in13698&idsadvr[3]=in13699&idsadvr[4]=in13700&idsadvr[5]=in13701&idsadvr[6]=in13702&idsadvr[7]=in13703&idsadvr[8]=in13704&idsadvr[9]=in13706&idsadvr[10]=in13707&idsadvr[11]=in13709&idsadvr[12]=in13710&idsadvr[13]=in13711&idsadvr[14]=in13712&idsadvr[15]=in13713&idsadvr[16]=in13714&idsadvr[17]=in13715&idsadvr[18]=in13716&idsadvr[19]=in13717',\n",
       " 'idsadvr[0]=in13697&idsadvr[1]=in13698&idsadvr[2]=in13699&idsadvr[3]=in13700&idsadvr[4]=in13701&idsadvr[5]=in13702&idsadvr[6]=in13703&idsadvr[7]=in13704&idsadvr[8]=in13706&idsadvr[9]=in13707&idsadvr[10]=in13709&idsadvr[11]=in13710&idsadvr[12]=in13711&idsadvr[13]=in13712&idsadvr[14]=in13713&idsadvr[15]=in13714&idsadvr[16]=in13715&idsadvr[17]=in13716&idsadvr[18]=in13717&idsadvr[19]=in13718',\n",
       " 'idsadvr[0]=in13698&idsadvr[1]=in13699&idsadvr[2]=in13700&idsadvr[3]=in13701&idsadvr[4]=in13702&idsadvr[5]=in13703&idsadvr[6]=in13704&idsadvr[7]=in13706&idsadvr[8]=in13707&idsadvr[9]=in13709&idsadvr[10]=in13710&idsadvr[11]=in13711&idsadvr[12]=in13712&idsadvr[13]=in13713&idsadvr[14]=in13714&idsadvr[15]=in13715&idsadvr[16]=in13716&idsadvr[17]=in13717&idsadvr[18]=in13718&idsadvr[19]=in13720',\n",
       " 'idsadvr[0]=in13699&idsadvr[1]=in13700&idsadvr[2]=in13701&idsadvr[3]=in13702&idsadvr[4]=in13703&idsadvr[5]=in13704&idsadvr[6]=in13706&idsadvr[7]=in13707&idsadvr[8]=in13709&idsadvr[9]=in13710&idsadvr[10]=in13711&idsadvr[11]=in13712&idsadvr[12]=in13713&idsadvr[13]=in13714&idsadvr[14]=in13715&idsadvr[15]=in13716&idsadvr[16]=in13717&idsadvr[17]=in13718&idsadvr[18]=in13720&idsadvr[19]=in13721',\n",
       " 'idsadvr[0]=in13700&idsadvr[1]=in13701&idsadvr[2]=in13702&idsadvr[3]=in13703&idsadvr[4]=in13704&idsadvr[5]=in13706&idsadvr[6]=in13707&idsadvr[7]=in13709&idsadvr[8]=in13710&idsadvr[9]=in13711&idsadvr[10]=in13712&idsadvr[11]=in13713&idsadvr[12]=in13714&idsadvr[13]=in13715&idsadvr[14]=in13716&idsadvr[15]=in13717&idsadvr[16]=in13718&idsadvr[17]=in13720&idsadvr[18]=in13721&idsadvr[19]=in13722',\n",
       " 'idsadvr[0]=in13701&idsadvr[1]=in13702&idsadvr[2]=in13703&idsadvr[3]=in13704&idsadvr[4]=in13706&idsadvr[5]=in13707&idsadvr[6]=in13709&idsadvr[7]=in13710&idsadvr[8]=in13711&idsadvr[9]=in13712&idsadvr[10]=in13713&idsadvr[11]=in13714&idsadvr[12]=in13715&idsadvr[13]=in13716&idsadvr[14]=in13717&idsadvr[15]=in13718&idsadvr[16]=in13720&idsadvr[17]=in13721&idsadvr[18]=in13722&idsadvr[19]=in13723',\n",
       " 'idsadvr[0]=in13702&idsadvr[1]=in13703&idsadvr[2]=in13704&idsadvr[3]=in13706&idsadvr[4]=in13707&idsadvr[5]=in13709&idsadvr[6]=in13710&idsadvr[7]=in13711&idsadvr[8]=in13712&idsadvr[9]=in13713&idsadvr[10]=in13714&idsadvr[11]=in13715&idsadvr[12]=in13716&idsadvr[13]=in13717&idsadvr[14]=in13718&idsadvr[15]=in13720&idsadvr[16]=in13721&idsadvr[17]=in13722&idsadvr[18]=in13723&idsadvr[19]=in13725',\n",
       " 'idsadvr[0]=in13703&idsadvr[1]=in13704&idsadvr[2]=in13706&idsadvr[3]=in13707&idsadvr[4]=in13709&idsadvr[5]=in13710&idsadvr[6]=in13711&idsadvr[7]=in13712&idsadvr[8]=in13713&idsadvr[9]=in13714&idsadvr[10]=in13715&idsadvr[11]=in13716&idsadvr[12]=in13717&idsadvr[13]=in13718&idsadvr[14]=in13720&idsadvr[15]=in13721&idsadvr[16]=in13722&idsadvr[17]=in13723&idsadvr[18]=in13725&idsadvr[19]=in13726',\n",
       " 'idsadvr[0]=in13704&idsadvr[1]=in13706&idsadvr[2]=in13707&idsadvr[3]=in13709&idsadvr[4]=in13710&idsadvr[5]=in13711&idsadvr[6]=in13712&idsadvr[7]=in13713&idsadvr[8]=in13714&idsadvr[9]=in13715&idsadvr[10]=in13716&idsadvr[11]=in13717&idsadvr[12]=in13718&idsadvr[13]=in13720&idsadvr[14]=in13721&idsadvr[15]=in13722&idsadvr[16]=in13723&idsadvr[17]=in13725&idsadvr[18]=in13726&idsadvr[19]=in13727',\n",
       " 'idsadvr[0]=in13706&idsadvr[1]=in13707&idsadvr[2]=in13709&idsadvr[3]=in13710&idsadvr[4]=in13711&idsadvr[5]=in13712&idsadvr[6]=in13713&idsadvr[7]=in13714&idsadvr[8]=in13715&idsadvr[9]=in13716&idsadvr[10]=in13717&idsadvr[11]=in13718&idsadvr[12]=in13720&idsadvr[13]=in13721&idsadvr[14]=in13722&idsadvr[15]=in13723&idsadvr[16]=in13725&idsadvr[17]=in13726&idsadvr[18]=in13727&idsadvr[19]=in13729',\n",
       " 'idsadvr[0]=in13707&idsadvr[1]=in13709&idsadvr[2]=in13710&idsadvr[3]=in13711&idsadvr[4]=in13712&idsadvr[5]=in13713&idsadvr[6]=in13714&idsadvr[7]=in13715&idsadvr[8]=in13716&idsadvr[9]=in13717&idsadvr[10]=in13718&idsadvr[11]=in13720&idsadvr[12]=in13721&idsadvr[13]=in13722&idsadvr[14]=in13723&idsadvr[15]=in13725&idsadvr[16]=in13726&idsadvr[17]=in13727&idsadvr[18]=in13729&idsadvr[19]=in13732',\n",
       " 'idsadvr[0]=in13709&idsadvr[1]=in13710&idsadvr[2]=in13711&idsadvr[3]=in13712&idsadvr[4]=in13713&idsadvr[5]=in13714&idsadvr[6]=in13715&idsadvr[7]=in13716&idsadvr[8]=in13717&idsadvr[9]=in13718&idsadvr[10]=in13720&idsadvr[11]=in13721&idsadvr[12]=in13722&idsadvr[13]=in13723&idsadvr[14]=in13725&idsadvr[15]=in13726&idsadvr[16]=in13727&idsadvr[17]=in13729&idsadvr[18]=in13732&idsadvr[19]=in13734',\n",
       " 'idsadvr[0]=in13710&idsadvr[1]=in13711&idsadvr[2]=in13712&idsadvr[3]=in13713&idsadvr[4]=in13714&idsadvr[5]=in13715&idsadvr[6]=in13716&idsadvr[7]=in13717&idsadvr[8]=in13718&idsadvr[9]=in13720&idsadvr[10]=in13721&idsadvr[11]=in13722&idsadvr[12]=in13723&idsadvr[13]=in13725&idsadvr[14]=in13726&idsadvr[15]=in13727&idsadvr[16]=in13729&idsadvr[17]=in13732&idsadvr[18]=in13734&idsadvr[19]=in13735',\n",
       " 'idsadvr[0]=in13711&idsadvr[1]=in13712&idsadvr[2]=in13713&idsadvr[3]=in13714&idsadvr[4]=in13715&idsadvr[5]=in13716&idsadvr[6]=in13717&idsadvr[7]=in13718&idsadvr[8]=in13720&idsadvr[9]=in13721&idsadvr[10]=in13722&idsadvr[11]=in13723&idsadvr[12]=in13725&idsadvr[13]=in13726&idsadvr[14]=in13727&idsadvr[15]=in13729&idsadvr[16]=in13732&idsadvr[17]=in13734&idsadvr[18]=in13735&idsadvr[19]=in13738',\n",
       " 'idsadvr[0]=in13712&idsadvr[1]=in13713&idsadvr[2]=in13714&idsadvr[3]=in13715&idsadvr[4]=in13716&idsadvr[5]=in13717&idsadvr[6]=in13718&idsadvr[7]=in13720&idsadvr[8]=in13721&idsadvr[9]=in13722&idsadvr[10]=in13723&idsadvr[11]=in13725&idsadvr[12]=in13726&idsadvr[13]=in13727&idsadvr[14]=in13729&idsadvr[15]=in13732&idsadvr[16]=in13734&idsadvr[17]=in13735&idsadvr[18]=in13738&idsadvr[19]=in13739',\n",
       " 'idsadvr[0]=in13713&idsadvr[1]=in13714&idsadvr[2]=in13715&idsadvr[3]=in13716&idsadvr[4]=in13717&idsadvr[5]=in13718&idsadvr[6]=in13720&idsadvr[7]=in13721&idsadvr[8]=in13722&idsadvr[9]=in13723&idsadvr[10]=in13725&idsadvr[11]=in13726&idsadvr[12]=in13727&idsadvr[13]=in13729&idsadvr[14]=in13732&idsadvr[15]=in13734&idsadvr[16]=in13735&idsadvr[17]=in13738&idsadvr[18]=in13739&idsadvr[19]=in13740',\n",
       " 'idsadvr[0]=in13714&idsadvr[1]=in13715&idsadvr[2]=in13716&idsadvr[3]=in13717&idsadvr[4]=in13718&idsadvr[5]=in13720&idsadvr[6]=in13721&idsadvr[7]=in13722&idsadvr[8]=in13723&idsadvr[9]=in13725&idsadvr[10]=in13726&idsadvr[11]=in13727&idsadvr[12]=in13729&idsadvr[13]=in13732&idsadvr[14]=in13734&idsadvr[15]=in13735&idsadvr[16]=in13738&idsadvr[17]=in13739&idsadvr[18]=in13740&idsadvr[19]=in13741',\n",
       " 'idsadvr[0]=in13715&idsadvr[1]=in13716&idsadvr[2]=in13717&idsadvr[3]=in13718&idsadvr[4]=in13720&idsadvr[5]=in13721&idsadvr[6]=in13722&idsadvr[7]=in13723&idsadvr[8]=in13725&idsadvr[9]=in13726&idsadvr[10]=in13727&idsadvr[11]=in13729&idsadvr[12]=in13732&idsadvr[13]=in13734&idsadvr[14]=in13735&idsadvr[15]=in13738&idsadvr[16]=in13739&idsadvr[17]=in13740&idsadvr[18]=in13741&idsadvr[19]=in13742',\n",
       " 'idsadvr[0]=in13716&idsadvr[1]=in13717&idsadvr[2]=in13718&idsadvr[3]=in13720&idsadvr[4]=in13721&idsadvr[5]=in13722&idsadvr[6]=in13723&idsadvr[7]=in13725&idsadvr[8]=in13726&idsadvr[9]=in13727&idsadvr[10]=in13729&idsadvr[11]=in13732&idsadvr[12]=in13734&idsadvr[13]=in13735&idsadvr[14]=in13738&idsadvr[15]=in13739&idsadvr[16]=in13740&idsadvr[17]=in13741&idsadvr[18]=in13742&idsadvr[19]=in13743',\n",
       " 'idsadvr[0]=in13717&idsadvr[1]=in13718&idsadvr[2]=in13720&idsadvr[3]=in13721&idsadvr[4]=in13722&idsadvr[5]=in13723&idsadvr[6]=in13725&idsadvr[7]=in13726&idsadvr[8]=in13727&idsadvr[9]=in13729&idsadvr[10]=in13732&idsadvr[11]=in13734&idsadvr[12]=in13735&idsadvr[13]=in13738&idsadvr[14]=in13739&idsadvr[15]=in13740&idsadvr[16]=in13741&idsadvr[17]=in13742&idsadvr[18]=in13743&idsadvr[19]=in13744',\n",
       " 'idsadvr[0]=in13718&idsadvr[1]=in13720&idsadvr[2]=in13721&idsadvr[3]=in13722&idsadvr[4]=in13723&idsadvr[5]=in13725&idsadvr[6]=in13726&idsadvr[7]=in13727&idsadvr[8]=in13729&idsadvr[9]=in13732&idsadvr[10]=in13734&idsadvr[11]=in13735&idsadvr[12]=in13738&idsadvr[13]=in13739&idsadvr[14]=in13740&idsadvr[15]=in13741&idsadvr[16]=in13742&idsadvr[17]=in13743&idsadvr[18]=in13744&idsadvr[19]=in13745',\n",
       " 'idsadvr[0]=in13720&idsadvr[1]=in13721&idsadvr[2]=in13722&idsadvr[3]=in13723&idsadvr[4]=in13725&idsadvr[5]=in13726&idsadvr[6]=in13727&idsadvr[7]=in13729&idsadvr[8]=in13732&idsadvr[9]=in13734&idsadvr[10]=in13735&idsadvr[11]=in13738&idsadvr[12]=in13739&idsadvr[13]=in13740&idsadvr[14]=in13741&idsadvr[15]=in13742&idsadvr[16]=in13743&idsadvr[17]=in13744&idsadvr[18]=in13745&idsadvr[19]=in13746',\n",
       " 'idsadvr[0]=in13721&idsadvr[1]=in13722&idsadvr[2]=in13723&idsadvr[3]=in13725&idsadvr[4]=in13726&idsadvr[5]=in13727&idsadvr[6]=in13729&idsadvr[7]=in13732&idsadvr[8]=in13734&idsadvr[9]=in13735&idsadvr[10]=in13738&idsadvr[11]=in13739&idsadvr[12]=in13740&idsadvr[13]=in13741&idsadvr[14]=in13742&idsadvr[15]=in13743&idsadvr[16]=in13744&idsadvr[17]=in13745&idsadvr[18]=in13746&idsadvr[19]=in13747',\n",
       " 'idsadvr[0]=in13722&idsadvr[1]=in13723&idsadvr[2]=in13725&idsadvr[3]=in13726&idsadvr[4]=in13727&idsadvr[5]=in13729&idsadvr[6]=in13732&idsadvr[7]=in13734&idsadvr[8]=in13735&idsadvr[9]=in13738&idsadvr[10]=in13739&idsadvr[11]=in13740&idsadvr[12]=in13741&idsadvr[13]=in13742&idsadvr[14]=in13743&idsadvr[15]=in13744&idsadvr[16]=in13745&idsadvr[17]=in13746&idsadvr[18]=in13747&idsadvr[19]=in13748',\n",
       " 'idsadvr[0]=in13723&idsadvr[1]=in13725&idsadvr[2]=in13726&idsadvr[3]=in13727&idsadvr[4]=in13729&idsadvr[5]=in13732&idsadvr[6]=in13734&idsadvr[7]=in13735&idsadvr[8]=in13738&idsadvr[9]=in13739&idsadvr[10]=in13740&idsadvr[11]=in13741&idsadvr[12]=in13742&idsadvr[13]=in13743&idsadvr[14]=in13744&idsadvr[15]=in13745&idsadvr[16]=in13746&idsadvr[17]=in13747&idsadvr[18]=in13748&idsadvr[19]=in13750',\n",
       " 'idsadvr[0]=in13725&idsadvr[1]=in13726&idsadvr[2]=in13727&idsadvr[3]=in13729&idsadvr[4]=in13732&idsadvr[5]=in13734&idsadvr[6]=in13735&idsadvr[7]=in13738&idsadvr[8]=in13739&idsadvr[9]=in13740&idsadvr[10]=in13741&idsadvr[11]=in13742&idsadvr[12]=in13743&idsadvr[13]=in13744&idsadvr[14]=in13745&idsadvr[15]=in13746&idsadvr[16]=in13747&idsadvr[17]=in13748&idsadvr[18]=in13750&idsadvr[19]=in13751',\n",
       " 'idsadvr[0]=in13726&idsadvr[1]=in13727&idsadvr[2]=in13729&idsadvr[3]=in13732&idsadvr[4]=in13734&idsadvr[5]=in13735&idsadvr[6]=in13738&idsadvr[7]=in13739&idsadvr[8]=in13740&idsadvr[9]=in13741&idsadvr[10]=in13742&idsadvr[11]=in13743&idsadvr[12]=in13744&idsadvr[13]=in13745&idsadvr[14]=in13746&idsadvr[15]=in13747&idsadvr[16]=in13748&idsadvr[17]=in13750&idsadvr[18]=in13751&idsadvr[19]=in13752',\n",
       " 'idsadvr[0]=in13727&idsadvr[1]=in13729&idsadvr[2]=in13732&idsadvr[3]=in13734&idsadvr[4]=in13735&idsadvr[5]=in13738&idsadvr[6]=in13739&idsadvr[7]=in13740&idsadvr[8]=in13741&idsadvr[9]=in13742&idsadvr[10]=in13743&idsadvr[11]=in13744&idsadvr[12]=in13745&idsadvr[13]=in13746&idsadvr[14]=in13747&idsadvr[15]=in13748&idsadvr[16]=in13750&idsadvr[17]=in13751&idsadvr[18]=in13752&idsadvr[19]=in13753',\n",
       " 'idsadvr[0]=in13729&idsadvr[1]=in13732&idsadvr[2]=in13734&idsadvr[3]=in13735&idsadvr[4]=in13738&idsadvr[5]=in13739&idsadvr[6]=in13740&idsadvr[7]=in13741&idsadvr[8]=in13742&idsadvr[9]=in13743&idsadvr[10]=in13744&idsadvr[11]=in13745&idsadvr[12]=in13746&idsadvr[13]=in13747&idsadvr[14]=in13748&idsadvr[15]=in13750&idsadvr[16]=in13751&idsadvr[17]=in13752&idsadvr[18]=in13753&idsadvr[19]=in13754',\n",
       " 'idsadvr[0]=in13732&idsadvr[1]=in13734&idsadvr[2]=in13735&idsadvr[3]=in13738&idsadvr[4]=in13739&idsadvr[5]=in13740&idsadvr[6]=in13741&idsadvr[7]=in13742&idsadvr[8]=in13743&idsadvr[9]=in13744&idsadvr[10]=in13745&idsadvr[11]=in13746&idsadvr[12]=in13747&idsadvr[13]=in13748&idsadvr[14]=in13750&idsadvr[15]=in13751&idsadvr[16]=in13752&idsadvr[17]=in13753&idsadvr[18]=in13754&idsadvr[19]=in13755',\n",
       " 'idsadvr[0]=in13734&idsadvr[1]=in13735&idsadvr[2]=in13738&idsadvr[3]=in13739&idsadvr[4]=in13740&idsadvr[5]=in13741&idsadvr[6]=in13742&idsadvr[7]=in13743&idsadvr[8]=in13744&idsadvr[9]=in13745&idsadvr[10]=in13746&idsadvr[11]=in13747&idsadvr[12]=in13748&idsadvr[13]=in13750&idsadvr[14]=in13751&idsadvr[15]=in13752&idsadvr[16]=in13753&idsadvr[17]=in13754&idsadvr[18]=in13755&idsadvr[19]=in13756',\n",
       " 'idsadvr[0]=in13735&idsadvr[1]=in13738&idsadvr[2]=in13739&idsadvr[3]=in13740&idsadvr[4]=in13741&idsadvr[5]=in13742&idsadvr[6]=in13743&idsadvr[7]=in13744&idsadvr[8]=in13745&idsadvr[9]=in13746&idsadvr[10]=in13747&idsadvr[11]=in13748&idsadvr[12]=in13750&idsadvr[13]=in13751&idsadvr[14]=in13752&idsadvr[15]=in13753&idsadvr[16]=in13754&idsadvr[17]=in13755&idsadvr[18]=in13756&idsadvr[19]=in13757',\n",
       " 'idsadvr[0]=in13738&idsadvr[1]=in13739&idsadvr[2]=in13740&idsadvr[3]=in13741&idsadvr[4]=in13742&idsadvr[5]=in13743&idsadvr[6]=in13744&idsadvr[7]=in13745&idsadvr[8]=in13746&idsadvr[9]=in13747&idsadvr[10]=in13748&idsadvr[11]=in13750&idsadvr[12]=in13751&idsadvr[13]=in13752&idsadvr[14]=in13753&idsadvr[15]=in13754&idsadvr[16]=in13755&idsadvr[17]=in13756&idsadvr[18]=in13757&idsadvr[19]=in13758',\n",
       " 'idsadvr[0]=in13739&idsadvr[1]=in13740&idsadvr[2]=in13741&idsadvr[3]=in13742&idsadvr[4]=in13743&idsadvr[5]=in13744&idsadvr[6]=in13745&idsadvr[7]=in13746&idsadvr[8]=in13747&idsadvr[9]=in13748&idsadvr[10]=in13750&idsadvr[11]=in13751&idsadvr[12]=in13752&idsadvr[13]=in13753&idsadvr[14]=in13754&idsadvr[15]=in13755&idsadvr[16]=in13756&idsadvr[17]=in13757&idsadvr[18]=in13758&idsadvr[19]=in13759',\n",
       " 'idsadvr[0]=in13740&idsadvr[1]=in13741&idsadvr[2]=in13742&idsadvr[3]=in13743&idsadvr[4]=in13744&idsadvr[5]=in13745&idsadvr[6]=in13746&idsadvr[7]=in13747&idsadvr[8]=in13748&idsadvr[9]=in13750&idsadvr[10]=in13751&idsadvr[11]=in13752&idsadvr[12]=in13753&idsadvr[13]=in13754&idsadvr[14]=in13755&idsadvr[15]=in13756&idsadvr[16]=in13757&idsadvr[17]=in13758&idsadvr[18]=in13759&idsadvr[19]=in13763',\n",
       " 'idsadvr[0]=in13741&idsadvr[1]=in13742&idsadvr[2]=in13743&idsadvr[3]=in13744&idsadvr[4]=in13745&idsadvr[5]=in13746&idsadvr[6]=in13747&idsadvr[7]=in13748&idsadvr[8]=in13750&idsadvr[9]=in13751&idsadvr[10]=in13752&idsadvr[11]=in13753&idsadvr[12]=in13754&idsadvr[13]=in13755&idsadvr[14]=in13756&idsadvr[15]=in13757&idsadvr[16]=in13758&idsadvr[17]=in13759&idsadvr[18]=in13763&idsadvr[19]=in13764',\n",
       " 'idsadvr[0]=in13742&idsadvr[1]=in13743&idsadvr[2]=in13744&idsadvr[3]=in13745&idsadvr[4]=in13746&idsadvr[5]=in13747&idsadvr[6]=in13748&idsadvr[7]=in13750&idsadvr[8]=in13751&idsadvr[9]=in13752&idsadvr[10]=in13753&idsadvr[11]=in13754&idsadvr[12]=in13755&idsadvr[13]=in13756&idsadvr[14]=in13757&idsadvr[15]=in13758&idsadvr[16]=in13759&idsadvr[17]=in13763&idsadvr[18]=in13764&idsadvr[19]=in13766',\n",
       " 'idsadvr[0]=in13743&idsadvr[1]=in13744&idsadvr[2]=in13745&idsadvr[3]=in13746&idsadvr[4]=in13747&idsadvr[5]=in13748&idsadvr[6]=in13750&idsadvr[7]=in13751&idsadvr[8]=in13752&idsadvr[9]=in13753&idsadvr[10]=in13754&idsadvr[11]=in13755&idsadvr[12]=in13756&idsadvr[13]=in13757&idsadvr[14]=in13758&idsadvr[15]=in13759&idsadvr[16]=in13763&idsadvr[17]=in13764&idsadvr[18]=in13766&idsadvr[19]=in13767',\n",
       " 'idsadvr[0]=in13744&idsadvr[1]=in13745&idsadvr[2]=in13746&idsadvr[3]=in13747&idsadvr[4]=in13748&idsadvr[5]=in13750&idsadvr[6]=in13751&idsadvr[7]=in13752&idsadvr[8]=in13753&idsadvr[9]=in13754&idsadvr[10]=in13755&idsadvr[11]=in13756&idsadvr[12]=in13757&idsadvr[13]=in13758&idsadvr[14]=in13759&idsadvr[15]=in13763&idsadvr[16]=in13764&idsadvr[17]=in13766&idsadvr[18]=in13767&idsadvr[19]=in13768',\n",
       " 'idsadvr[0]=in13745&idsadvr[1]=in13746&idsadvr[2]=in13747&idsadvr[3]=in13748&idsadvr[4]=in13750&idsadvr[5]=in13751&idsadvr[6]=in13752&idsadvr[7]=in13753&idsadvr[8]=in13754&idsadvr[9]=in13755&idsadvr[10]=in13756&idsadvr[11]=in13757&idsadvr[12]=in13758&idsadvr[13]=in13759&idsadvr[14]=in13763&idsadvr[15]=in13764&idsadvr[16]=in13766&idsadvr[17]=in13767&idsadvr[18]=in13768&idsadvr[19]=in13769',\n",
       " 'idsadvr[0]=in13746&idsadvr[1]=in13747&idsadvr[2]=in13748&idsadvr[3]=in13750&idsadvr[4]=in13751&idsadvr[5]=in13752&idsadvr[6]=in13753&idsadvr[7]=in13754&idsadvr[8]=in13755&idsadvr[9]=in13756&idsadvr[10]=in13757&idsadvr[11]=in13758&idsadvr[12]=in13759&idsadvr[13]=in13763&idsadvr[14]=in13764&idsadvr[15]=in13766&idsadvr[16]=in13767&idsadvr[17]=in13768&idsadvr[18]=in13769&idsadvr[19]=in13770',\n",
       " 'idsadvr[0]=in13747&idsadvr[1]=in13748&idsadvr[2]=in13750&idsadvr[3]=in13751&idsadvr[4]=in13752&idsadvr[5]=in13753&idsadvr[6]=in13754&idsadvr[7]=in13755&idsadvr[8]=in13756&idsadvr[9]=in13757&idsadvr[10]=in13758&idsadvr[11]=in13759&idsadvr[12]=in13763&idsadvr[13]=in13764&idsadvr[14]=in13766&idsadvr[15]=in13767&idsadvr[16]=in13768&idsadvr[17]=in13769&idsadvr[18]=in13770&idsadvr[19]=in13771',\n",
       " 'idsadvr[0]=in13748&idsadvr[1]=in13750&idsadvr[2]=in13751&idsadvr[3]=in13752&idsadvr[4]=in13753&idsadvr[5]=in13754&idsadvr[6]=in13755&idsadvr[7]=in13756&idsadvr[8]=in13757&idsadvr[9]=in13758&idsadvr[10]=in13759&idsadvr[11]=in13763&idsadvr[12]=in13764&idsadvr[13]=in13766&idsadvr[14]=in13767&idsadvr[15]=in13768&idsadvr[16]=in13769&idsadvr[17]=in13770&idsadvr[18]=in13771&idsadvr[19]=in13772',\n",
       " 'idsadvr[0]=in13750&idsadvr[1]=in13751&idsadvr[2]=in13752&idsadvr[3]=in13753&idsadvr[4]=in13754&idsadvr[5]=in13755&idsadvr[6]=in13756&idsadvr[7]=in13757&idsadvr[8]=in13758&idsadvr[9]=in13759&idsadvr[10]=in13763&idsadvr[11]=in13764&idsadvr[12]=in13766&idsadvr[13]=in13767&idsadvr[14]=in13768&idsadvr[15]=in13769&idsadvr[16]=in13770&idsadvr[17]=in13771&idsadvr[18]=in13772&idsadvr[19]=in13773',\n",
       " 'idsadvr[0]=in13751&idsadvr[1]=in13752&idsadvr[2]=in13753&idsadvr[3]=in13754&idsadvr[4]=in13755&idsadvr[5]=in13756&idsadvr[6]=in13757&idsadvr[7]=in13758&idsadvr[8]=in13759&idsadvr[9]=in13763&idsadvr[10]=in13764&idsadvr[11]=in13766&idsadvr[12]=in13767&idsadvr[13]=in13768&idsadvr[14]=in13769&idsadvr[15]=in13770&idsadvr[16]=in13771&idsadvr[17]=in13772&idsadvr[18]=in13773&idsadvr[19]=in13774',\n",
       " 'idsadvr[0]=in13752&idsadvr[1]=in13753&idsadvr[2]=in13754&idsadvr[3]=in13755&idsadvr[4]=in13756&idsadvr[5]=in13757&idsadvr[6]=in13758&idsadvr[7]=in13759&idsadvr[8]=in13763&idsadvr[9]=in13764&idsadvr[10]=in13766&idsadvr[11]=in13767&idsadvr[12]=in13768&idsadvr[13]=in13769&idsadvr[14]=in13770&idsadvr[15]=in13771&idsadvr[16]=in13772&idsadvr[17]=in13773&idsadvr[18]=in13774&idsadvr[19]=in13776',\n",
       " 'idsadvr[0]=in13753&idsadvr[1]=in13754&idsadvr[2]=in13755&idsadvr[3]=in13756&idsadvr[4]=in13757&idsadvr[5]=in13758&idsadvr[6]=in13759&idsadvr[7]=in13763&idsadvr[8]=in13764&idsadvr[9]=in13766&idsadvr[10]=in13767&idsadvr[11]=in13768&idsadvr[12]=in13769&idsadvr[13]=in13770&idsadvr[14]=in13771&idsadvr[15]=in13772&idsadvr[16]=in13773&idsadvr[17]=in13774&idsadvr[18]=in13776&idsadvr[19]=in13777']"
      ]
     },
     "execution_count": 73,
     "metadata": {},
     "output_type": "execute_result"
    }
   ],
   "source": [
    "batches"
   ]
  },
  {
   "cell_type": "code",
   "execution_count": null,
   "metadata": {},
   "outputs": [],
   "source": [
    "output = []\n",
    "for batch in batches:\n",
    "    data = json.loads(requests.get(f'{baseURI}/info/individu?{batch}').text)['data']\n",
    "    for x in data:\n",
    "        output.append(x)\n",
    "\n",
    "pd.DataFrame(output)"
   ]
  },
  {
   "cell_type": "code",
   "execution_count": 26,
   "metadata": {},
   "outputs": [
    {
     "name": "stdout",
     "output_type": "stream",
     "text": [
      "idsadvr[2700]=in35943&idsadvr[2700]=in35947&idsadvr[2700]=in35955&idsadvr[2700]=in22406\n"
     ]
    }
   ],
   "source": [
    "print(batch)"
   ]
  },
  {
   "cell_type": "code",
   "execution_count": 32,
   "metadata": {},
   "outputs": [
    {
     "data": {
      "text/plain": [
       "2"
      ]
     },
     "execution_count": 32,
     "metadata": {},
     "output_type": "execute_result"
    }
   ],
   "source": [
    "baseURI = 'https://www.recherche.umontreal.ca/vitrine/rest/api/1.7/umontreal'\n",
    "len(json.loads(requests.get(f'{baseURI}/info/individu?idsadvr[0]={ids_profs[0]}&idsadvr[1]={ids_profs[1]}').text)['data'])"
   ]
  },
  {
   "cell_type": "markdown",
   "metadata": {},
   "source": [
    "Normalisation / filtrage"
   ]
  },
  {
   "cell_type": "code",
   "execution_count": null,
   "metadata": {},
   "outputs": [],
   "source": [
    "dataIndividus = dataIndividus.explode('etablissementsAffilies').reset_index(drop=True)\n",
    "dataIndividus['etablissementAffilie'] = dataIndividus['etablissementsAffilies'].apply(\n",
    "    lambda x: x['nom'] if isinstance(x, dict) else None)\n",
    "\n",
    "dataIndividus = dataIndividus.drop(columns=\n",
    "        ['etablissementsAffilies', 'fonction', 'courriel', 'visuelOfficiel', 'visuelOfficielGrand']\n",
    "    ).drop_duplicates()\n",
    "\n",
    "dataIndividus = dataIndividus[dataIndividus['nom'] != '?_?']\n",
    "\n",
    "# Séparer les colonnes qui contiennent des données structurées en JSON en muliples colonnes distinctes\n",
    "def explodeNormalize(df: pd.DataFrame, columns: list, ):\n",
    "    \"\"\"\n",
    "    Cette fonction prend en paramètre un DataFrame et une liste contenant les noms des colonnes à normaliser.\n",
    "    Elle retourne le DataFrame modifié\n",
    "    \"\"\"\n",
    "    for col in columns:\n",
    "        dTypeCol = Counter(df[col].apply(lambda x: type(literal_eval(str(x)))).tolist()).most_common(1)[0][0]\n",
    "        if dTypeCol == list:\n",
    "            df = df.explode(col).reset_index(drop=True)\n",
    "\n",
    "        dfTemp = pd.json_normalize(df[col]).add_prefix(f'{col}.') \n",
    "        \n",
    "        df = pd.concat([df, dfTemp], axis=1).drop(col, axis=1)\n",
    "\n",
    "    return df\n",
    "\n",
    "# Colonnes à normaliser\n",
    "columns = ['affiliations', 'expertise', 'expertise.secteursRecherche',\n",
    "    'expertise.disciplines', 'expertise.motsCles', 'expertise.periodesChronologiques',\n",
    "    'expertise.phraseCle', 'expertise.continents']\n",
    "\n",
    "dataProfs = explodeNormalize(dataProfs, columns)\n",
    "\n",
    "dataProfs = dataProfs.drop(\n",
    "    columns=[\"prenom\", \"nom\", \"etablissementsAffilies\", \"visuelOfficiel\", \"visuelOfficielGrand\",\n",
    "      \"courriels\", \"telephones\", \"urlVitrine\", \"nomSAD\", \"prenomSAD\", \"in-memoriam\",\n",
    "      \"affiliations.courrielInstitutionnel\", \"affiliations.local\", \"affiliations.exclusion\", \"affiliations.exclusionTel\", \n",
    "      \"affiliations.fonction.nom\", \"affiliations.telephone.numero\", \"affiliations.telephone.poste\"])\n",
    "\n",
    "data = dataIndividus.merge(dataProfs, how='right')\n",
    "data"
   ]
  },
  {
   "cell_type": "code",
   "execution_count": null,
   "metadata": {},
   "outputs": [],
   "source": [
    "data.to_csv('./tables/SADVR_professeurs.csv', index=False)"
   ]
  }
 ],
 "metadata": {
  "kernelspec": {
   "display_name": "Python 3",
   "language": "python",
   "name": "python3"
  },
  "language_info": {
   "codemirror_mode": {
    "name": "ipython",
    "version": 3
   },
   "file_extension": ".py",
   "mimetype": "text/x-python",
   "name": "python",
   "nbconvert_exporter": "python",
   "pygments_lexer": "ipython3",
   "version": "3.11.4"
  },
  "orig_nbformat": 4
 },
 "nbformat": 4,
 "nbformat_minor": 2
}
