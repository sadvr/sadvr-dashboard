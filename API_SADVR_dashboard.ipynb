{
 "cells": [
  {
   "cell_type": "markdown",
   "metadata": {},
   "source": [
    "### **API SADVR - Portrait statistique**  \n",
    "https://www.cen.umontreal.ca/espacedoc/sadvr/  \n",
    "\n",
    "Le Service d’accès aux données de la Vitrine-Recherche (SADVR) est un service institutionnel de partage de données relatives aux profils des professeur·e·s et à leurs activités académiques ainsi qu'aux expertises et disciplines de recherche des facultés, départements et centres de recherche affiliés à l'Université.\n",
    "\n",
    "---"
   ]
  },
  {
   "cell_type": "markdown",
   "metadata": {},
   "source": [
    "#### **Professeurs**"
   ]
  },
  {
   "cell_type": "code",
   "execution_count": 2,
   "metadata": {},
   "outputs": [],
   "source": [
    "import requests\n",
    "import json\n",
    "import pandas as pd\n",
    "from ast import literal_eval\n",
    "from collections import Counter\n",
    "import SADVR_getTables"
   ]
  },
  {
   "cell_type": "markdown",
   "metadata": {},
   "source": [
    "Import des données"
   ]
  },
  {
   "cell_type": "code",
   "execution_count": 3,
   "metadata": {},
   "outputs": [],
   "source": [
    "baseURI = 'https://www.recherche.umontreal.ca/vitrine/rest/api/1.7/umontreal'\n",
    "\n",
    "# Mettre à jour les tables de données \n",
    "SADVR_getTables.getAllTables()\n",
    "SADVR_getTables.updateInfoIndividus()\n",
    "SADVR_getTables.getAllProfs()\n",
    "\n",
    "dataIndividus = pd.read_csv('tables/SADVR_infoIndividus.csv')\n",
    "dataProfs = pd.read_csv('tables/SADVR_professeurs.csv')"
   ]
  },
  {
   "cell_type": "markdown",
   "metadata": {},
   "source": [
    "Normalisation / filtrage"
   ]
  },
  {
   "cell_type": "code",
   "execution_count": null,
   "metadata": {},
   "outputs": [],
   "source": [
    "dataIndividus = dataIndividus.explode('etablissementsAffilies').reset_index(drop=True)\n",
    "dataIndividus['etablissementAffilie'] = dataIndividus['etablissementsAffilies'].apply(\n",
    "    lambda x: x['nom'] if isinstance(x, dict) else None)\n",
    "\n",
    "dataIndividus = dataIndividus.drop(columns=\n",
    "        ['etablissementsAffilies', 'fonction', 'courriel', 'visuelOfficiel', 'visuelOfficielGrand']\n",
    "    ).drop_duplicates()\n",
    "\n",
    "dataIndividus = dataIndividus[dataIndividus['nom'] != '?_?']\n",
    "\n",
    "# Séparer les colonnes qui contiennent des données structurées en JSON en muliples colonnes distinctes\n",
    "def explodeNormalize(df: pd.DataFrame, columns: list, ):\n",
    "    \"\"\"\n",
    "    Cette fonction prend en paramètre un DataFrame et une liste contenant les noms des colonnes à normaliser.\n",
    "    Elle retourne le DataFrame modifié\n",
    "    \"\"\"\n",
    "    for col in columns:\n",
    "        dTypeCol = Counter(df[col].apply(lambda x: type(literal_eval(str(x)))).tolist()).most_common(1)[0][0]\n",
    "        if dTypeCol == list:\n",
    "            df = df.explode(col).reset_index(drop=True)\n",
    "\n",
    "        dfTemp = pd.json_normalize(df[col]).add_prefix(f'{col}.') \n",
    "        \n",
    "        df = pd.concat([df, dfTemp], axis=1).drop(col, axis=1)\n",
    "\n",
    "    return df\n",
    "\n",
    "# Colonnes à normaliser\n",
    "columns = ['affiliations', 'expertise', 'expertise.secteursRecherche',\n",
    "    'expertise.disciplines', 'expertise.motsCles', 'expertise.periodesChronologiques',\n",
    "    'expertise.phraseCle', 'expertise.continents']\n",
    "\n",
    "dataProfs = explodeNormalize(dataProfs, columns)\n",
    "\n",
    "dataProfs = dataProfs.drop(\n",
    "    columns=[\"prenom\", \"nom\", \"etablissementsAffilies\", \"visuelOfficiel\", \"visuelOfficielGrand\",\n",
    "      \"courriels\", \"telephones\", \"urlVitrine\", \"nomSAD\", \"prenomSAD\", \"in-memoriam\",\n",
    "      \"affiliations.courrielInstitutionnel\", \"affiliations.local\", \"affiliations.exclusion\", \"affiliations.exclusionTel\", \n",
    "      \"affiliations.fonction.nom\", \"affiliations.telephone.numero\", \"affiliations.telephone.poste\"])\n",
    "\n",
    "data = dataIndividus.merge(dataProfs, how='right')\n",
    "data"
   ]
  },
  {
   "cell_type": "code",
   "execution_count": null,
   "metadata": {},
   "outputs": [],
   "source": [
    "data.to_csv('./tables/SADVR_professeurs.csv', index=False)"
   ]
  }
 ],
 "metadata": {
  "kernelspec": {
   "display_name": "Python 3",
   "language": "python",
   "name": "python3"
  },
  "language_info": {
   "codemirror_mode": {
    "name": "ipython",
    "version": 3
   },
   "file_extension": ".py",
   "mimetype": "text/x-python",
   "name": "python",
   "nbconvert_exporter": "python",
   "pygments_lexer": "ipython3",
   "version": "3.11.4"
  },
  "orig_nbformat": 4
 },
 "nbformat": 4,
 "nbformat_minor": 2
}
