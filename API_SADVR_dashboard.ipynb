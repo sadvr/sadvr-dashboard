{
 "cells": [
  {
   "cell_type": "markdown",
   "metadata": {},
   "source": [
    "### **API SADVR - Portrait statistique**  \n",
    "https://www.cen.umontreal.ca/espacedoc/sadvr/  \n",
    "\n",
    "Le Service d’accès aux données de la Vitrine-Recherche (SADVR) est un service institutionnel de partage de données relatives aux profils des professeur·e·s et à leurs activités académiques ainsi qu'aux expertises et disciplines de recherche des facultés, départements et centres de recherche affiliés à l'Université.\n",
    "\n",
    "---"
   ]
  },
  {
   "cell_type": "markdown",
   "metadata": {},
   "source": [
    "#### **Professeurs**"
   ]
  },
  {
   "cell_type": "code",
   "execution_count": 12,
   "metadata": {},
   "outputs": [],
   "source": [
    "import pandas as pd\n",
    "import SADVR_utils\n",
    "from SADVR_utils import explodeNormalize\n",
    "from dash import Dash, dcc, html, Input, Output\n",
    "import plotly.express as px"
   ]
  },
  {
   "cell_type": "markdown",
   "metadata": {},
   "source": [
    "Import des données"
   ]
  },
  {
   "cell_type": "code",
   "execution_count": 3,
   "metadata": {},
   "outputs": [],
   "source": [
    "columns = pd.read_csv('columns.csv')['columns'].tolist()\n",
    "\n",
    "# Mettre à jour les tables de données \n",
    "dataIndividus = SADVR_utils.updateInfoIndividus()\n",
    "dataIndividus = dataIndividus[dataIndividus['nom'] != '?_?']\n",
    "dataIndividus = dataIndividus[['idsadvr', 'sexe', 'langues', 'institution', 'unitesRecherche', 'paysCode', 'paysNom', 'formations', 'prix', 'publication', 'communication']]\n",
    "\n",
    "dataProfs = SADVR_utils.getAllProfs()\n",
    "\n",
    "dataProfs = dataProfs[[x for x in dataProfs.columns if x in columns]]\n",
    "\n",
    "data = dataProfs.merge(dataIndividus, on=['idsadvr'])"
   ]
  },
  {
   "cell_type": "markdown",
   "metadata": {},
   "source": [
    "___\n",
    "**Statistiques démographiques**\n",
    "\n",
    "- Genre\n",
    "- Langues parlées\n",
    "- Langues écrites\n",
    "- Date d'obtention du dernier diplôme\n",
    "- Institution de formation"
   ]
  },
  {
   "cell_type": "code",
   "execution_count": 4,
   "metadata": {},
   "outputs": [],
   "source": [
    "demographics = data[['idsadvr', 'sexe', 'langues', 'formations']]\n",
    "toNormalize = ['langues', 'formations', 'formations.disciplines', 'formations.institutions']\n",
    "for c in toNormalize:\n",
    "    demographics = explodeNormalize(demographics, c)"
   ]
  },
  {
   "cell_type": "code",
   "execution_count": 10,
   "metadata": {},
   "outputs": [],
   "source": [
    "nbProfs = len(demographics['idsadvr'].drop_duplicates())\n",
    "genre = demographics[['idsadvr', 'sexe']].drop_duplicates()\n",
    "freqGenre = pd.DataFrame(genre['sexe'].value_counts()).reset_index()\n",
    "freqGenre\n",
    "\n",
    "labels = freqGenre['sexe'].map({'M': 'Homme', 'F': 'Femme', 'A': 'Autre'})\n",
    "values = freqGenre['count']"
   ]
  },
  {
   "cell_type": "code",
   "execution_count": 49,
   "metadata": {},
   "outputs": [
    {
     "data": {
      "text/html": [
       "\n",
       "        <iframe\n",
       "            width=\"100%\"\n",
       "            height=\"650\"\n",
       "            src=\"http://127.0.0.1:8050/\"\n",
       "            frameborder=\"0\"\n",
       "            allowfullscreen\n",
       "            \n",
       "        ></iframe>\n",
       "        "
      ],
      "text/plain": [
       "<IPython.lib.display.IFrame at 0x1d6ed318550>"
      ]
     },
     "metadata": {},
     "output_type": "display_data"
    }
   ],
   "source": [
    "fig = px.pie(\n",
    "    freqGenre, \n",
    "    values='count', \n",
    "    names=labels, \n",
    "    title='Distribution par genre',\n",
    "    hole=0.5,\n",
    "    color = 'sexe',\n",
    "    color_discrete_map={\n",
    "        'M': 'rgb(30, 59, 123)',\n",
    "        'F': 'rgb(214, 224, 245)',\n",
    "        'A': 'lightgrey'},\n",
    "    )\n",
    "\n",
    "app = Dash()\n",
    "app.layout = html.Div([\n",
    "    dcc.Graph(figure=fig)\n",
    "])\n",
    "\n",
    "app.run_server(debug=True, use_reloader=False)  # Turn off reloader if inside Jupyter"
   ]
  },
  {
   "cell_type": "code",
   "execution_count": null,
   "metadata": {},
   "outputs": [],
   "source": [
    "import matplotlib as plt\n",
    "fig, ax = plt.subplots(figsize=(6, 4), subplot_kw=dict(aspect=\"equal\"))\n",
    "\n",
    "\n",
    "wedges, texts = ax.pie(\n",
    "    values,\n",
    "    wedgeprops=dict(width=0.5), \n",
    "    startangle=-40,\n",
    "    colors = ['#C8D6E8', '#545454', '#E8E8E8']\n",
    ")\n",
    "\n",
    "bbox_props = dict(boxstyle=\"square,pad=0.3\", fc=\"w\", ec=\"k\", lw=0.72)\n",
    "kw = dict(arrowprops=dict(arrowstyle=\"-\"),\n",
    "          bbox=bbox_props, zorder=0, va=\"center\")\n",
    "\n",
    "for i, p in enumerate(wedges):\n",
    "    ang = (p.theta2 - p.theta1)/2. + p.theta1\n",
    "    y = np.sin(np.deg2rad(ang))\n",
    "    x = np.cos(np.deg2rad(ang))\n",
    "    horizontalalignment = {-1: \"right\", 1: \"left\"}[int(np.sign(x))]\n",
    "    connectionstyle = f\"angle,angleA=0,angleB={ang}\"\n",
    "    kw[\"arrowprops\"].update({\"connectionstyle\": connectionstyle})\n",
    "    ax.annotate(values[i], xy=(x, y), xytext=(1.35*np.sign(x), 1.4*y),\n",
    "                horizontalalignment=horizontalalignment, **kw)\n",
    "\n",
    "ax.set_title(\"Sexe\")\n",
    "ax.legend(\n",
    "    ['Masculin', 'Féminin', 'Autre'],\n",
    "    bbox_to_anchor=(1.5, 0.75))\n",
    "\n",
    "\n",
    "plt.show()\n"
   ]
  },
  {
   "cell_type": "markdown",
   "metadata": {},
   "source": [
    "**Expertises de recherche**\n",
    "\n",
    "- Affiliations (facultés, départements, établissements affiliés)\n",
    "- Départements\n",
    "- Disciplines\n",
    "- Secteur de recherche\n",
    "- Mots-clés\n",
    "- Phrases-clés\n",
    "- Périodes chronologiques étudiées\n",
    "- Régions géographiques / pays étudiés"
   ]
  },
  {
   "cell_type": "code",
   "execution_count": null,
   "metadata": {},
   "outputs": [],
   "source": []
  },
  {
   "cell_type": "markdown",
   "metadata": {},
   "source": [
    "**Rayonnement académique**\n",
    "\n",
    "- Publications\n",
    "- Communications\n",
    "- Prix"
   ]
  },
  {
   "cell_type": "markdown",
   "metadata": {},
   "source": []
  }
 ],
 "metadata": {
  "kernelspec": {
   "display_name": "Python 3",
   "language": "python",
   "name": "python3"
  },
  "language_info": {
   "codemirror_mode": {
    "name": "ipython",
    "version": 3
   },
   "file_extension": ".py",
   "mimetype": "text/x-python",
   "name": "python",
   "nbconvert_exporter": "python",
   "pygments_lexer": "ipython3",
   "version": "3.11.4"
  },
  "orig_nbformat": 4
 },
 "nbformat": 4,
 "nbformat_minor": 2
}
