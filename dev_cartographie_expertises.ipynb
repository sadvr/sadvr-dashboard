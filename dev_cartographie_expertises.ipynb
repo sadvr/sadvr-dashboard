{
 "cells": [
  {
   "cell_type": "markdown",
   "metadata": {},
   "source": [
    "### **API SADVR - Portrait statistique**  \n",
    "https://www.cen.umontreal.ca/espacedoc/sadvr/  \n",
    "\n",
    "Ce NoteBook est destiné à l'extraction et la visualisation de statistiques relatives aux professeur·e·s et à leurs expertises à partir de l'API de la vitrine de la recherche (SADVR). \n",
    "Celles-ci seront intégrées en un tableau de bord [PowerBI](https://wiki.umontreal.ca/display/SIE/Power+BI) permettant d'avoir un portrait d'ensemble des données.  \n",
    "\n",
    "---"
   ]
  },
  {
   "cell_type": "code",
   "execution_count": 1,
   "metadata": {},
   "outputs": [],
   "source": [
    "import pandas as pd\n",
    "import requests \n",
    "import json\n",
    "\n",
    "from utils.sadvr_utils import *\n",
    "import plotly.express as px\n",
    "import plotly.graph_objects as go\n",
    "from slugify import slugify\n",
    "\n",
    "from rdflib import *\n",
    "\n",
    "data = updateInfoProfs()\n",
    "expertises = data[['idsadvr', 'expertise']]\n",
    "\n",
    "departements = getTable('individus')[['idsadvr', 'uniteAdmin']]\n",
    "\n",
    "expertises = expertises.merge(departements, on='idsadvr')\n",
    "\n",
    "expertises['département'] = expertises['uniteAdmin'].astype(str).apply(uniteAdminDepartement)\n",
    "expertises = expertises.drop(columns='uniteAdmin')\n",
    "\n",
    "\n",
    "## Normalisation des données\n",
    "toNormalize = ['expertise', 'expertise.disciplines']\n",
    "for c in toNormalize:\n",
    "    expertises = explodeNormalize(expertises, c)\n",
    "\n",
    "expertises = expertises.dropna(subset = 'expertise.disciplines.uid') \n",
    "expertises = expertises[expertises['expertise.motsCles'].astype(str) != '[]']\n",
    "expertises = expertises[expertises['département'].astype(str) != 'None']\n",
    "\n",
    "expertises = explodeNormalize(expertises, 'expertise.motsCles')\n",
    "\n",
    "expertises = expertises[['idsadvr', 'département',\n",
    "      'expertise.disciplines.uid', 'expertise.disciplines.codeLangue','expertise.disciplines.nom', \n",
    "       'expertise.motsCles.uid', 'expertise.motsCles.nom', 'expertise.motsCles.codeLangue']]\n",
    "\n",
    "expertises = expertises.sort_values(by=[\n",
    "    f'expertise.disciplines.uid', f'expertise.disciplines.codeLangue',\n",
    "    f'expertise.motsCles.uid', f'expertise.motsCles.codeLangue'], ascending=[True, False, True, False])\n",
    "\n",
    "expertises = expertises.drop_duplicates(subset=['idsadvr', 'expertise.motsCles.uid', 'expertise.disciplines.uid'])\n",
    "expertises = expertises.drop(columns=['expertise.disciplines.codeLangue', 'expertise.motsCles.codeLangue'])\n",
    "\n",
    "## Extraire les fréquences associées aux disciplines et aux mots-clés: elles vont permettre d'assigner\n",
    "# une taille aux noeuds dans le graphe (plus fréquent = plus gros )\n",
    "def freqVariableExpertises(variable: str, df: pd.DataFrame = expertises) -> pd.DataFrame:\n",
    "    output = df[['idsadvr', f'expertise.{variable}.nom', \n",
    "                       f'expertise.{variable}.uid']].dropna(subset=f'expertise.{variable}.uid').drop_duplicates()\n",
    "\n",
    "    output = output.groupby([f'expertise.{variable}.nom', f'expertise.{variable}.uid'])['idsadvr'].count().reset_index().rename(columns={'idsadvr': 'count'})\n",
    "    output = output[[f'expertise.{variable}.nom', 'count']]\n",
    "\n",
    "    return output\n",
    "\n",
    "# Disciplines\n",
    "freqDisciplines = freqVariableExpertises('disciplines')\n",
    "freqDisciplines = {x['expertise.disciplines.nom'] : x['count'] for x in freqDisciplines.to_dict('records')}\n",
    "\n",
    "# Mots-clés\n",
    "freqMotsCles = freqVariableExpertises('motsCles')\n",
    "freqMotsCles = {x['expertise.motsCles.nom'] : x['count'] for x in freqMotsCles.to_dict('records')}\n",
    "\n",
    "# Départements\n",
    "freqDepartements = expertises[['idsadvr', 'département']].drop_duplicates(subset='idsadvr')\n",
    "freqDepartements = freqDepartements.groupby('département')['idsadvr'].count().reset_index().rename(columns={'idsadvr':'count'})\n",
    "freqDepartements = {x['département'] : x['count'] for x in freqDepartements.to_dict('records')}"
   ]
  },
  {
   "cell_type": "markdown",
   "metadata": {},
   "source": [
    "**Expertises de recherche: cartographie des expertises par mots-clés**\n",
    "\n",
    "On va extraire un graphe par département (== département/unité administrative)"
   ]
  },
  {
   "cell_type": "code",
   "execution_count": null,
   "metadata": {},
   "outputs": [
    {
     "ename": "NameError",
     "evalue": "name 'unicode' is not defined",
     "output_type": "error",
     "traceback": [
      "\u001b[1;31m---------------------------------------------------------------------------\u001b[0m",
      "\u001b[1;31mNameError\u001b[0m                                 Traceback (most recent call last)",
      "Cell \u001b[1;32mIn[3], line 89\u001b[0m\n\u001b[0;32m     86\u001b[0m     g\u001b[39m.\u001b[39madd((uriMotCle, uriFrequence, compte))\n\u001b[0;32m     88\u001b[0m graphs[nomDepartement] \u001b[39m=\u001b[39m g\n\u001b[1;32m---> 89\u001b[0m g\u001b[39m.\u001b[39mserialize(\u001b[39mf\u001b[39m\u001b[39m'\u001b[39m\u001b[39mgraphs/graph__\u001b[39m\u001b[39m{\u001b[39;00mslugify(nomDepartement)\u001b[39m}\u001b[39;00m\u001b[39m.ttl\u001b[39m\u001b[39m'\u001b[39m, \u001b[39mformat\u001b[39m\u001b[39m=\u001b[39m\u001b[39m'\u001b[39m\u001b[39mttl\u001b[39m\u001b[39m'\u001b[39m)\n",
      "File \u001b[1;32m~\\AppData\\Local\\Packages\\PythonSoftwareFoundation.Python.3.11_qbz5n2kfra8p0\\LocalCache\\local-packages\\Python311\\site-packages\\slugify.py:24\u001b[0m, in \u001b[0;36mslugify\u001b[1;34m(string)\u001b[0m\n\u001b[0;32m     11\u001b[0m \u001b[39mdef\u001b[39;00m \u001b[39mslugify\u001b[39m(string):\n\u001b[0;32m     13\u001b[0m \u001b[39m    \u001b[39m\u001b[39m\"\"\"\u001b[39;00m\n\u001b[0;32m     14\u001b[0m \u001b[39m    Slugify a unicode string.\u001b[39;00m\n\u001b[0;32m     15\u001b[0m \n\u001b[1;32m   (...)\u001b[0m\n\u001b[0;32m     20\u001b[0m \n\u001b[0;32m     21\u001b[0m \u001b[39m    \"\"\"\u001b[39;00m\n\u001b[0;32m     23\u001b[0m     \u001b[39mreturn\u001b[39;00m re\u001b[39m.\u001b[39msub(\u001b[39mr\u001b[39m\u001b[39m'\u001b[39m\u001b[39m[-\u001b[39m\u001b[39m\\\u001b[39m\u001b[39ms]+\u001b[39m\u001b[39m'\u001b[39m, \u001b[39m'\u001b[39m\u001b[39m-\u001b[39m\u001b[39m'\u001b[39m,\n\u001b[1;32m---> 24\u001b[0m             unicode(\n\u001b[0;32m     25\u001b[0m                 re\u001b[39m.\u001b[39msub(\u001b[39mr\u001b[39m\u001b[39m'\u001b[39m\u001b[39m[^\u001b[39m\u001b[39m\\\u001b[39m\u001b[39mw\u001b[39m\u001b[39m\\\u001b[39m\u001b[39ms-]\u001b[39m\u001b[39m'\u001b[39m, \u001b[39m'\u001b[39m\u001b[39m'\u001b[39m,\n\u001b[0;32m     26\u001b[0m                     unicodedata\u001b[39m.\u001b[39mnormalize(\u001b[39m'\u001b[39m\u001b[39mNFKD\u001b[39m\u001b[39m'\u001b[39m, string)\n\u001b[0;32m     27\u001b[0m                     \u001b[39m.\u001b[39mencode(\u001b[39m'\u001b[39m\u001b[39mascii\u001b[39m\u001b[39m'\u001b[39m, \u001b[39m'\u001b[39m\u001b[39mignore\u001b[39m\u001b[39m'\u001b[39m))\n\u001b[0;32m     28\u001b[0m                 \u001b[39m.\u001b[39mstrip()\n\u001b[0;32m     29\u001b[0m                 \u001b[39m.\u001b[39mlower()))\n",
      "\u001b[1;31mNameError\u001b[0m: name 'unicode' is not defined"
     ]
    }
   ],
   "source": [
    "graphs = {}\n",
    "departements = expertises\n",
    "listeDepartements = departements['département'].unique().tolist()\n",
    "\n",
    "uriDepartements = URIRef(f'{baseURI}/departements/')\n",
    "uriDisciplines = URIRef(f'{baseURI}/disciplines/')\n",
    "uriMotsCles = URIRef(f'{baseURI}/motsCles/')\n",
    "uriFrequence = URIRef(f'{baseURI}/frequence/')\n",
    "\n",
    "for departement in listeDepartements:\n",
    "    ##### Définition du graphe\n",
    "    g = Graph()\n",
    "    g.bind('sadvr', 'https://www.recherche.umontreal.ca/vitrine/rest/api/1.7/umontreal/')\n",
    "\n",
    "    ## Définition des classes\n",
    "    # Classe pour les départements\n",
    "    g.add((uriDepartements, RDF.type, OWL.Class))\n",
    "    g.add((uriDepartements, RDFS.label, Literal('Département', lang='fr')))\n",
    "\n",
    "    # Classe pour les disciplines\n",
    "    g.add((uriDisciplines, RDF.type, OWL.Class))\n",
    "    g.add((uriDisciplines, RDFS.label, Literal('Discipline', lang='fr')))\n",
    "\n",
    "    # Classe pour les mots-clés\n",
    "    g.add((uriMotsCles, RDF.type, OWL.Class))\n",
    "    g.add((uriMotsCles, RDFS.label, Literal('MotClé', lang='fr')))\n",
    "\n",
    "    ## Définition des objet properties\n",
    "    # fréquence\n",
    "    g.add((uriFrequence, RDF.type, OWL.ObjectProperty))\n",
    "    g.add((uriFrequence, RDFS.label, Literal(\"Fréquence\", lang='fr')))\n",
    "    \n",
    "    subdf = departements[departements['département'] == departement]\n",
    "    nomDepartement = subdf['département'].tolist()[0]\n",
    "\n",
    "    try:\n",
    "        idDepart = mappingDepartements[nomDepartement]\n",
    "\n",
    "    except:\n",
    "        try:\n",
    "            idDepart = mappingFacultes[nomDepartement]\n",
    "\n",
    "        except:\n",
    "            try:\n",
    "                idDepart = mappingUnitesAdmin[nomDepartement]\n",
    "            \n",
    "            except Exception as E:\n",
    "                print(nomDepartement, e)\n",
    "\n",
    "    ### Département \n",
    "    uriDepartement = URIRef(f'{baseURI}/departements/{idDepart}')\n",
    "    g.add((uriDepartement, RDF.type, uriDepartements))\n",
    "    g.add((uriDepartement, RDF.type, OWL.Class))\n",
    "    g.add((uriDepartement, RDFS.label, Literal(nomDepartement, lang='fr')))\n",
    "\n",
    "    records = subdf.to_dict('records')\n",
    "\n",
    "    for record in records:\n",
    "        # Disciplines\n",
    "        idDiscipline = record['expertise.disciplines.uid']\n",
    "        uriDiscipline = URIRef(f'{baseURI}/disciplines/{idDiscipline}')\n",
    "        nomDiscipline = record['expertise.disciplines.nom'] \n",
    "\n",
    "        # Lien disciplines <> Département\n",
    "        g.add((uriDiscipline, RDFS.subClassOf, uriDepartement))\n",
    "\n",
    "        # Construction du noeud pour la discipline\n",
    "        g.add((uriDiscipline, RDF.type, uriDisciplines))\n",
    "        g.add((uriDiscipline, RDF.type, OWL.Class))\n",
    "        g.add((uriDiscipline, RDFS.label, Literal(nomDiscipline, lang='fr')))\n",
    "\n",
    "        # Mots-clés\n",
    "        idMotCle = record['expertise.motsCles.uid']\n",
    "        uriMotCle = URIRef(f'{baseURI}/motsCles/{idMotCle}')\n",
    "        nomMotCle = Literal(record['expertise.motsCles.nom'])\n",
    "\n",
    "        ### Fréquence\n",
    "        compte = Literal(freqMotsCles[record['expertise.motsCles.nom']], datatype=XSD.integer)\n",
    "\n",
    "        # Lien discipline <> mot-clé\n",
    "        g.add((uriMotCle, RDFS.subClassOf, uriDiscipline))\n",
    "\n",
    "        # Construction du noeud pour le mot-clé\n",
    "        g.add((uriMotCle, RDF.type, OWL.Class))\n",
    "        g.add((uriMotCle, RDFS.label, nomMotCle))\n",
    "        g.add((uriMotCle, uriFrequence, compte))\n",
    "\n",
    "    graphs[nomDepartement] = g\n",
    "    g.serialize(f'graphs/graph__{slugify(nomDepartement)}.ttl', format='ttl')"
   ]
  },
  {
   "cell_type": "markdown",
   "metadata": {},
   "source": [
    "*On va essayer de visualiser chaque graphe avec networkx et plotly*"
   ]
  },
  {
   "cell_type": "code",
   "execution_count": null,
   "metadata": {},
   "outputs": [
    {
     "data": {
      "application/vnd.plotly.v1+json": {
       "config": {
        "plotlyServerURL": "https://plot.ly"
       },
       "data": [
        {
         "line": {
          "color": "#888",
          "width": 0.5
         },
         "type": "scatter",
         "x": [
          0.7960706672036925,
          0.8260228111967421,
          null,
          0.7960706672036925,
          -0.3369440738949397,
          null,
          0.8260228111967421,
          -0.2851494045054942,
          null,
          -0.2851494045054942,
          -1,
          null,
          -1,
          -0.3369440738949397,
          null
         ],
         "y": [
          0.6187563700733191,
          -0.5643258396350002,
          null,
          0.6187563700733191,
          0.9502177834240675,
          null,
          -0.5643258396350002,
          -0.974506848876598,
          null,
          -0.974506848876598,
          -0.030141464985788655,
          null,
          -0.030141464985788655,
          0.9502177834240675,
          null
         ]
        },
        {
         "hoverinfo": "text",
         "marker": {
          "color": "#FF5733",
          "size": [
           10,
           20,
           30,
           40,
           50
          ]
         },
         "mode": "markers+text",
         "text": [],
         "type": "scatter",
         "x": [
          0.7960706672036925,
          0.8260228111967421,
          -0.2851494045054942,
          -1,
          -0.3369440738949397
         ],
         "y": [
          0.6187563700733191,
          -0.5643258396350002,
          -0.974506848876598,
          -0.030141464985788655,
          0.9502177834240675
         ]
        }
       ],
       "layout": {
        "template": {
         "data": {
          "bar": [
           {
            "error_x": {
             "color": "#2a3f5f"
            },
            "error_y": {
             "color": "#2a3f5f"
            },
            "marker": {
             "line": {
              "color": "#E5ECF6",
              "width": 0.5
             },
             "pattern": {
              "fillmode": "overlay",
              "size": 10,
              "solidity": 0.2
             }
            },
            "type": "bar"
           }
          ],
          "barpolar": [
           {
            "marker": {
             "line": {
              "color": "#E5ECF6",
              "width": 0.5
             },
             "pattern": {
              "fillmode": "overlay",
              "size": 10,
              "solidity": 0.2
             }
            },
            "type": "barpolar"
           }
          ],
          "carpet": [
           {
            "aaxis": {
             "endlinecolor": "#2a3f5f",
             "gridcolor": "white",
             "linecolor": "white",
             "minorgridcolor": "white",
             "startlinecolor": "#2a3f5f"
            },
            "baxis": {
             "endlinecolor": "#2a3f5f",
             "gridcolor": "white",
             "linecolor": "white",
             "minorgridcolor": "white",
             "startlinecolor": "#2a3f5f"
            },
            "type": "carpet"
           }
          ],
          "choropleth": [
           {
            "colorbar": {
             "outlinewidth": 0,
             "ticks": ""
            },
            "type": "choropleth"
           }
          ],
          "contour": [
           {
            "colorbar": {
             "outlinewidth": 0,
             "ticks": ""
            },
            "colorscale": [
             [
              0,
              "#0d0887"
             ],
             [
              0.1111111111111111,
              "#46039f"
             ],
             [
              0.2222222222222222,
              "#7201a8"
             ],
             [
              0.3333333333333333,
              "#9c179e"
             ],
             [
              0.4444444444444444,
              "#bd3786"
             ],
             [
              0.5555555555555556,
              "#d8576b"
             ],
             [
              0.6666666666666666,
              "#ed7953"
             ],
             [
              0.7777777777777778,
              "#fb9f3a"
             ],
             [
              0.8888888888888888,
              "#fdca26"
             ],
             [
              1,
              "#f0f921"
             ]
            ],
            "type": "contour"
           }
          ],
          "contourcarpet": [
           {
            "colorbar": {
             "outlinewidth": 0,
             "ticks": ""
            },
            "type": "contourcarpet"
           }
          ],
          "heatmap": [
           {
            "colorbar": {
             "outlinewidth": 0,
             "ticks": ""
            },
            "colorscale": [
             [
              0,
              "#0d0887"
             ],
             [
              0.1111111111111111,
              "#46039f"
             ],
             [
              0.2222222222222222,
              "#7201a8"
             ],
             [
              0.3333333333333333,
              "#9c179e"
             ],
             [
              0.4444444444444444,
              "#bd3786"
             ],
             [
              0.5555555555555556,
              "#d8576b"
             ],
             [
              0.6666666666666666,
              "#ed7953"
             ],
             [
              0.7777777777777778,
              "#fb9f3a"
             ],
             [
              0.8888888888888888,
              "#fdca26"
             ],
             [
              1,
              "#f0f921"
             ]
            ],
            "type": "heatmap"
           }
          ],
          "heatmapgl": [
           {
            "colorbar": {
             "outlinewidth": 0,
             "ticks": ""
            },
            "colorscale": [
             [
              0,
              "#0d0887"
             ],
             [
              0.1111111111111111,
              "#46039f"
             ],
             [
              0.2222222222222222,
              "#7201a8"
             ],
             [
              0.3333333333333333,
              "#9c179e"
             ],
             [
              0.4444444444444444,
              "#bd3786"
             ],
             [
              0.5555555555555556,
              "#d8576b"
             ],
             [
              0.6666666666666666,
              "#ed7953"
             ],
             [
              0.7777777777777778,
              "#fb9f3a"
             ],
             [
              0.8888888888888888,
              "#fdca26"
             ],
             [
              1,
              "#f0f921"
             ]
            ],
            "type": "heatmapgl"
           }
          ],
          "histogram": [
           {
            "marker": {
             "pattern": {
              "fillmode": "overlay",
              "size": 10,
              "solidity": 0.2
             }
            },
            "type": "histogram"
           }
          ],
          "histogram2d": [
           {
            "colorbar": {
             "outlinewidth": 0,
             "ticks": ""
            },
            "colorscale": [
             [
              0,
              "#0d0887"
             ],
             [
              0.1111111111111111,
              "#46039f"
             ],
             [
              0.2222222222222222,
              "#7201a8"
             ],
             [
              0.3333333333333333,
              "#9c179e"
             ],
             [
              0.4444444444444444,
              "#bd3786"
             ],
             [
              0.5555555555555556,
              "#d8576b"
             ],
             [
              0.6666666666666666,
              "#ed7953"
             ],
             [
              0.7777777777777778,
              "#fb9f3a"
             ],
             [
              0.8888888888888888,
              "#fdca26"
             ],
             [
              1,
              "#f0f921"
             ]
            ],
            "type": "histogram2d"
           }
          ],
          "histogram2dcontour": [
           {
            "colorbar": {
             "outlinewidth": 0,
             "ticks": ""
            },
            "colorscale": [
             [
              0,
              "#0d0887"
             ],
             [
              0.1111111111111111,
              "#46039f"
             ],
             [
              0.2222222222222222,
              "#7201a8"
             ],
             [
              0.3333333333333333,
              "#9c179e"
             ],
             [
              0.4444444444444444,
              "#bd3786"
             ],
             [
              0.5555555555555556,
              "#d8576b"
             ],
             [
              0.6666666666666666,
              "#ed7953"
             ],
             [
              0.7777777777777778,
              "#fb9f3a"
             ],
             [
              0.8888888888888888,
              "#fdca26"
             ],
             [
              1,
              "#f0f921"
             ]
            ],
            "type": "histogram2dcontour"
           }
          ],
          "mesh3d": [
           {
            "colorbar": {
             "outlinewidth": 0,
             "ticks": ""
            },
            "type": "mesh3d"
           }
          ],
          "parcoords": [
           {
            "line": {
             "colorbar": {
              "outlinewidth": 0,
              "ticks": ""
             }
            },
            "type": "parcoords"
           }
          ],
          "pie": [
           {
            "automargin": true,
            "type": "pie"
           }
          ],
          "scatter": [
           {
            "fillpattern": {
             "fillmode": "overlay",
             "size": 10,
             "solidity": 0.2
            },
            "type": "scatter"
           }
          ],
          "scatter3d": [
           {
            "line": {
             "colorbar": {
              "outlinewidth": 0,
              "ticks": ""
             }
            },
            "marker": {
             "colorbar": {
              "outlinewidth": 0,
              "ticks": ""
             }
            },
            "type": "scatter3d"
           }
          ],
          "scattercarpet": [
           {
            "marker": {
             "colorbar": {
              "outlinewidth": 0,
              "ticks": ""
             }
            },
            "type": "scattercarpet"
           }
          ],
          "scattergeo": [
           {
            "marker": {
             "colorbar": {
              "outlinewidth": 0,
              "ticks": ""
             }
            },
            "type": "scattergeo"
           }
          ],
          "scattergl": [
           {
            "marker": {
             "colorbar": {
              "outlinewidth": 0,
              "ticks": ""
             }
            },
            "type": "scattergl"
           }
          ],
          "scattermapbox": [
           {
            "marker": {
             "colorbar": {
              "outlinewidth": 0,
              "ticks": ""
             }
            },
            "type": "scattermapbox"
           }
          ],
          "scatterpolar": [
           {
            "marker": {
             "colorbar": {
              "outlinewidth": 0,
              "ticks": ""
             }
            },
            "type": "scatterpolar"
           }
          ],
          "scatterpolargl": [
           {
            "marker": {
             "colorbar": {
              "outlinewidth": 0,
              "ticks": ""
             }
            },
            "type": "scatterpolargl"
           }
          ],
          "scatterternary": [
           {
            "marker": {
             "colorbar": {
              "outlinewidth": 0,
              "ticks": ""
             }
            },
            "type": "scatterternary"
           }
          ],
          "surface": [
           {
            "colorbar": {
             "outlinewidth": 0,
             "ticks": ""
            },
            "colorscale": [
             [
              0,
              "#0d0887"
             ],
             [
              0.1111111111111111,
              "#46039f"
             ],
             [
              0.2222222222222222,
              "#7201a8"
             ],
             [
              0.3333333333333333,
              "#9c179e"
             ],
             [
              0.4444444444444444,
              "#bd3786"
             ],
             [
              0.5555555555555556,
              "#d8576b"
             ],
             [
              0.6666666666666666,
              "#ed7953"
             ],
             [
              0.7777777777777778,
              "#fb9f3a"
             ],
             [
              0.8888888888888888,
              "#fdca26"
             ],
             [
              1,
              "#f0f921"
             ]
            ],
            "type": "surface"
           }
          ],
          "table": [
           {
            "cells": {
             "fill": {
              "color": "#EBF0F8"
             },
             "line": {
              "color": "white"
             }
            },
            "header": {
             "fill": {
              "color": "#C8D4E3"
             },
             "line": {
              "color": "white"
             }
            },
            "type": "table"
           }
          ]
         },
         "layout": {
          "annotationdefaults": {
           "arrowcolor": "#2a3f5f",
           "arrowhead": 0,
           "arrowwidth": 1
          },
          "autotypenumbers": "strict",
          "coloraxis": {
           "colorbar": {
            "outlinewidth": 0,
            "ticks": ""
           }
          },
          "colorscale": {
           "diverging": [
            [
             0,
             "#8e0152"
            ],
            [
             0.1,
             "#c51b7d"
            ],
            [
             0.2,
             "#de77ae"
            ],
            [
             0.3,
             "#f1b6da"
            ],
            [
             0.4,
             "#fde0ef"
            ],
            [
             0.5,
             "#f7f7f7"
            ],
            [
             0.6,
             "#e6f5d0"
            ],
            [
             0.7,
             "#b8e186"
            ],
            [
             0.8,
             "#7fbc41"
            ],
            [
             0.9,
             "#4d9221"
            ],
            [
             1,
             "#276419"
            ]
           ],
           "sequential": [
            [
             0,
             "#0d0887"
            ],
            [
             0.1111111111111111,
             "#46039f"
            ],
            [
             0.2222222222222222,
             "#7201a8"
            ],
            [
             0.3333333333333333,
             "#9c179e"
            ],
            [
             0.4444444444444444,
             "#bd3786"
            ],
            [
             0.5555555555555556,
             "#d8576b"
            ],
            [
             0.6666666666666666,
             "#ed7953"
            ],
            [
             0.7777777777777778,
             "#fb9f3a"
            ],
            [
             0.8888888888888888,
             "#fdca26"
            ],
            [
             1,
             "#f0f921"
            ]
           ],
           "sequentialminus": [
            [
             0,
             "#0d0887"
            ],
            [
             0.1111111111111111,
             "#46039f"
            ],
            [
             0.2222222222222222,
             "#7201a8"
            ],
            [
             0.3333333333333333,
             "#9c179e"
            ],
            [
             0.4444444444444444,
             "#bd3786"
            ],
            [
             0.5555555555555556,
             "#d8576b"
            ],
            [
             0.6666666666666666,
             "#ed7953"
            ],
            [
             0.7777777777777778,
             "#fb9f3a"
            ],
            [
             0.8888888888888888,
             "#fdca26"
            ],
            [
             1,
             "#f0f921"
            ]
           ]
          },
          "colorway": [
           "#636efa",
           "#EF553B",
           "#00cc96",
           "#ab63fa",
           "#FFA15A",
           "#19d3f3",
           "#FF6692",
           "#B6E880",
           "#FF97FF",
           "#FECB52"
          ],
          "font": {
           "color": "#2a3f5f"
          },
          "geo": {
           "bgcolor": "white",
           "lakecolor": "white",
           "landcolor": "#E5ECF6",
           "showlakes": true,
           "showland": true,
           "subunitcolor": "white"
          },
          "hoverlabel": {
           "align": "left"
          },
          "hovermode": "closest",
          "mapbox": {
           "style": "light"
          },
          "paper_bgcolor": "white",
          "plot_bgcolor": "#E5ECF6",
          "polar": {
           "angularaxis": {
            "gridcolor": "white",
            "linecolor": "white",
            "ticks": ""
           },
           "bgcolor": "#E5ECF6",
           "radialaxis": {
            "gridcolor": "white",
            "linecolor": "white",
            "ticks": ""
           }
          },
          "scene": {
           "xaxis": {
            "backgroundcolor": "#E5ECF6",
            "gridcolor": "white",
            "gridwidth": 2,
            "linecolor": "white",
            "showbackground": true,
            "ticks": "",
            "zerolinecolor": "white"
           },
           "yaxis": {
            "backgroundcolor": "#E5ECF6",
            "gridcolor": "white",
            "gridwidth": 2,
            "linecolor": "white",
            "showbackground": true,
            "ticks": "",
            "zerolinecolor": "white"
           },
           "zaxis": {
            "backgroundcolor": "#E5ECF6",
            "gridcolor": "white",
            "gridwidth": 2,
            "linecolor": "white",
            "showbackground": true,
            "ticks": "",
            "zerolinecolor": "white"
           }
          },
          "shapedefaults": {
           "line": {
            "color": "#2a3f5f"
           }
          },
          "ternary": {
           "aaxis": {
            "gridcolor": "white",
            "linecolor": "white",
            "ticks": ""
           },
           "baxis": {
            "gridcolor": "white",
            "linecolor": "white",
            "ticks": ""
           },
           "bgcolor": "#E5ECF6",
           "caxis": {
            "gridcolor": "white",
            "linecolor": "white",
            "ticks": ""
           }
          },
          "title": {
           "x": 0.05
          },
          "xaxis": {
           "automargin": true,
           "gridcolor": "white",
           "linecolor": "white",
           "ticks": "",
           "title": {
            "standoff": 15
           },
           "zerolinecolor": "white",
           "zerolinewidth": 2
          },
          "yaxis": {
           "automargin": true,
           "gridcolor": "white",
           "linecolor": "white",
           "ticks": "",
           "title": {
            "standoff": 15
           },
           "zerolinecolor": "white",
           "zerolinewidth": 2
          }
         }
        },
        "xaxis": {
         "visible": false
        },
        "yaxis": {
         "visible": false
        }
       }
      }
     },
     "metadata": {},
     "output_type": "display_data"
    }
   ],
   "source": [
    "# Exemple de visualisation qui pourrait être utilisée avec le graphe permettant de cartographier les expertises de recherche\n",
    "\n",
    "import networkx as nx\n",
    "import plotly.graph_objects as go\n",
    "\n",
    "# Create a NetworkX graph\n",
    "G = nx.Graph()\n",
    "G.add_nodes_from([1, 2, 3, 4, 5])\n",
    "\n",
    "# Add edges\n",
    "G.add_edges_from([(1, 2), (2, 3), (3, 4), (4, 5), (5, 1)])\n",
    "\n",
    "# Define node sizes (you can replace this with your desired sizes)\n",
    "node_sizes = [10, 20, 30, 40, 50]\n",
    "\n",
    "# Create a Plotly figure\n",
    "fig = go.Figure()\n",
    "\n",
    "# Add nodes and edges to the Plotly figure\n",
    "pos = nx.spring_layout(G)  # You can use a different layout algorithm\n",
    "edge_trace = go.Scatter(x=[], y=[], line={'width': 0.5, 'color': '#888'})\n",
    "for edge in G.edges():\n",
    "    x0, y0 = pos[edge[0]]\n",
    "    x1, y1 = pos[edge[1]]\n",
    "    edge_trace['x'] += (x0, x1, None)\n",
    "    edge_trace['y'] += (y0, y1, None)\n",
    "\n",
    "node_trace = go.Scatter(\n",
    "    x=[], y=[], text=[], mode='markers+text', hoverinfo='text',\n",
    "    marker={'size': node_sizes, 'color': '#FF5733'}\n",
    ")\n",
    "for node in G.nodes():\n",
    "    x, y = pos[node]\n",
    "    node_trace['x'] += (x,)\n",
    "    node_trace['y'] += (y,)\n",
    "\n",
    "fig.add_trace(edge_trace)\n",
    "fig.add_trace(node_trace)\n",
    "\n",
    "# Customize layout to hide grid and remove axis\n",
    "fig.update_layout(\n",
    "    xaxis_visible=False,  # Hide x-axis\n",
    "    yaxis_visible=False  # Hide y-axis\n",
    ")\n",
    "\n",
    "# Show the Plotly figure\n",
    "fig.show()"
   ]
  }
 ],
 "metadata": {
  "kernelspec": {
   "display_name": "Python 3",
   "language": "python",
   "name": "python3"
  },
  "language_info": {
   "codemirror_mode": {
    "name": "ipython",
    "version": 3
   },
   "file_extension": ".py",
   "mimetype": "text/x-python",
   "name": "python",
   "nbconvert_exporter": "python",
   "pygments_lexer": "ipython3",
   "version": "3.11.4"
  },
  "orig_nbformat": 4
 },
 "nbformat": 4,
 "nbformat_minor": 2
}
