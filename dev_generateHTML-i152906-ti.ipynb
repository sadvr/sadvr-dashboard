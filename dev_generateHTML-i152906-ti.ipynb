{
 "cells": [
  {
   "cell_type": "code",
   "execution_count": 1,
   "metadata": {},
   "outputs": [
    {
     "name": "stderr",
     "output_type": "stream",
     "text": [
      "c:\\Users\\p1115145\\OneDrive - Universite de Montreal\\CENR\\sadvr-dashboard\\generate_figures.py:81: SettingWithCopyWarning: \n",
      "A value is trying to be set on a copy of a slice from a DataFrame.\n",
      "Try using .loc[row_indexer,col_indexer] = value instead\n",
      "\n",
      "See the caveats in the documentation: https://pandas.pydata.org/pandas-docs/stable/user_guide/indexing.html#returning-a-view-versus-a-copy\n",
      "  genre['genre'] = genre['sexe'].map(mapping)\n"
     ]
    }
   ],
   "source": [
    "from dash import Dash, html, dcc, dash_table\n",
    "import plotly.express as px\n",
    "import plotly.io as pio\n",
    "import plotly.graph_objects as go\n",
    "import pandas as pd\n",
    "import dash_bootstrap_components as dbc\n",
    "from utils.sadvr_utils import *\n",
    "from generate_figures import *\n",
    "from bs4 import BeautifulSoup"
   ]
  },
  {
   "cell_type": "code",
   "execution_count": 39,
   "metadata": {},
   "outputs": [],
   "source": [
    "# utils to generate html file\n",
    "tableClasses = ['table', 'table-hover']\n",
    "\n",
    "with open('./html/header.html', encoding='utf-8') as f:\n",
    "    header = f.read()\n",
    "\n",
    "with open('./html/footer.html') as f:\n",
    "    footer = f.read()\n",
    "\n",
    "#### Next: unites de recherche\n",
    "#### Next: cartographie des expertises\n"
   ]
  },
  {
   "cell_type": "code",
   "execution_count": null,
   "metadata": {},
   "outputs": [],
   "source": []
  }
 ],
 "metadata": {
  "kernelspec": {
   "display_name": "Python 3",
   "language": "python",
   "name": "python3"
  },
  "language_info": {
   "codemirror_mode": {
    "name": "ipython",
    "version": 3
   },
   "file_extension": ".py",
   "mimetype": "text/x-python",
   "name": "python",
   "nbconvert_exporter": "python",
   "pygments_lexer": "ipython3",
   "version": "3.10.5"
  },
  "orig_nbformat": 4
 },
 "nbformat": 4,
 "nbformat_minor": 2
}
